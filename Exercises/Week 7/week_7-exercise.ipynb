{
 "cells": [
  {
   "cell_type": "markdown",
   "id": "6b110241",
   "metadata": {},
   "source": [
    "# Week 7 - Model Evaluation & Optimization\n",
    "**Hands-on Training: Hyperparameter Tuning with GridSearchCV and RandomizedSearchCV**  \n",
    "**Date**: April 21, 2025"
   ]
  },
  {
   "cell_type": "markdown",
   "id": "6e2a0f3e",
   "metadata": {},
   "source": [
    "---\n",
    "\n",
    "### **Table of Contents**  \n",
    "1. [**Introduction**](#introduction)  \n",
    "2. [**Baseline Model Training**](#baseline-model-training)  \n",
    "3. [**Hyperparameter Tuning**](#hyperparameter-tuning)  \n",
    "4. [**Model Evaluation**](#model-evaluation)  \n",
    "5. [**Conclusion**](#conclusion)\n",
    "\n",
    "\n",
    "---"
   ]
  },
  {
   "cell_type": "markdown",
   "id": "ef36c55f",
   "metadata": {},
   "source": [
    "<a id=\"data-preparation\"></a>\n",
    "### **1. Data Preparation**  \n",
    " **Dataset**:  \n",
    "- Using the breast cancer dataset for its popularity, as it is builtin in sklearn.  \n",
    "- **Why StandardScaler?**  \n",
    "  - RandomForests are scale-invariant, but scaling ensures fairness if other models (e.g., SVM) are compared later.  "
   ]
  },
  {
   "cell_type": "markdown",
   "id": "a5a8f076",
   "metadata": {},
   "source": [
    " - Importing the necessary libraries"
   ]
  },
  {
   "cell_type": "code",
   "execution_count": 17,
   "id": "129ac054",
   "metadata": {},
   "outputs": [],
   "source": [
    "from sklearn.datasets import load_breast_cancer\n",
    "from sklearn.model_selection import train_test_split, GridSearchCV, RandomizedSearchCV\n",
    "from sklearn.ensemble import RandomForestClassifier\n",
    "from sklearn.metrics import classification_report, confusion_matrix, accuracy_score\n",
    "import pandas as pd\n",
    "import numpy as np"
   ]
  },
  {
   "cell_type": "markdown",
   "id": "c6f31c13",
   "metadata": {},
   "source": [
    " - Loading the dataset and splitting into train and test sets."
   ]
  },
  {
   "cell_type": "code",
   "execution_count": 18,
   "id": "8fb963c9",
   "metadata": {},
   "outputs": [],
   "source": [
    "# Load dataset\n",
    "data = load_breast_cancer()\n",
    "X = pd.DataFrame(data.data, columns=data.feature_names)\n",
    "y = pd.Series(data.target)\n",
    "# Split into train/test\n",
    "X_train, X_test, y_train, y_test = train_test_split(X, y, test_size=0.2, random_state=42)"
   ]
  },
  {
   "cell_type": "markdown",
   "id": "12a7e8e2",
   "metadata": {},
   "source": [
    " - Visualizing class distribution and feature correlation"
   ]
  },
  {
   "cell_type": "code",
   "execution_count": 19,
   "id": "d3035cd4",
   "metadata": {},
   "outputs": [
    {
     "name": "stdout",
     "output_type": "stream",
     "text": [
      "Class distribution: {0: 212, 1: 357}\n",
      "Feature correlations:\n",
      "                          mean radius  mean texture  mean perimeter  mean area  \\\n",
      "mean radius                 1.000000      0.323782        0.997855   0.987357   \n",
      "mean texture                0.323782      1.000000        0.329533   0.321086   \n",
      "mean perimeter              0.997855      0.329533        1.000000   0.986507   \n",
      "mean area                   0.987357      0.321086        0.986507   1.000000   \n",
      "mean smoothness             0.170581     -0.023389        0.207278   0.177028   \n",
      "mean compactness            0.506124      0.236702        0.556936   0.498502   \n",
      "mean concavity              0.676764      0.302418        0.716136   0.685983   \n",
      "mean concave points         0.822529      0.293464        0.850977   0.823269   \n",
      "mean symmetry               0.147741      0.071401        0.183027   0.151293   \n",
      "mean fractal dimension     -0.311631     -0.076437       -0.261477  -0.283110   \n",
      "radius error                0.679090      0.275869        0.691765   0.732562   \n",
      "texture error              -0.097317      0.386358       -0.086761  -0.066280   \n",
      "perimeter error             0.674172      0.281673        0.693135   0.726628   \n",
      "area error                  0.735864      0.259845        0.744983   0.800086   \n",
      "smoothness error           -0.222600      0.006614       -0.202694  -0.166777   \n",
      "compactness error           0.206000      0.191975        0.250744   0.212583   \n",
      "concavity error             0.194204      0.143293        0.228082   0.207660   \n",
      "concave points error        0.376169      0.163851        0.407217   0.372320   \n",
      "symmetry error             -0.104321      0.009127       -0.081629  -0.072497   \n",
      "fractal dimension error    -0.042641      0.054458       -0.005523  -0.019887   \n",
      "worst radius                0.969539      0.352573        0.969476   0.962746   \n",
      "worst texture               0.297008      0.912045        0.303038   0.287489   \n",
      "worst perimeter             0.965137      0.358040        0.970387   0.959120   \n",
      "worst area                  0.941082      0.343546        0.941550   0.959213   \n",
      "worst smoothness            0.119616      0.077503        0.150549   0.123523   \n",
      "worst compactness           0.413463      0.277830        0.455774   0.390410   \n",
      "worst concavity             0.526911      0.301025        0.563879   0.512606   \n",
      "worst concave points        0.744214      0.295316        0.771241   0.722017   \n",
      "worst symmetry              0.163953      0.105008        0.189115   0.143570   \n",
      "worst fractal dimension     0.007066      0.119205        0.051019   0.003738   \n",
      "\n",
      "                         mean smoothness  mean compactness  mean concavity  \\\n",
      "mean radius                     0.170581          0.506124        0.676764   \n",
      "mean texture                   -0.023389          0.236702        0.302418   \n",
      "mean perimeter                  0.207278          0.556936        0.716136   \n",
      "mean area                       0.177028          0.498502        0.685983   \n",
      "mean smoothness                 1.000000          0.659123        0.521984   \n",
      "mean compactness                0.659123          1.000000        0.883121   \n",
      "mean concavity                  0.521984          0.883121        1.000000   \n",
      "mean concave points             0.553695          0.831135        0.921391   \n",
      "mean symmetry                   0.557775          0.602641        0.500667   \n",
      "mean fractal dimension          0.584792          0.565369        0.336783   \n",
      "radius error                    0.301467          0.497473        0.631925   \n",
      "texture error                   0.068406          0.046205        0.076218   \n",
      "perimeter error                 0.296092          0.548905        0.660391   \n",
      "area error                      0.246552          0.455653        0.617427   \n",
      "smoothness error                0.332375          0.135299        0.098564   \n",
      "compactness error               0.318943          0.738722        0.670279   \n",
      "concavity error                 0.248396          0.570517        0.691270   \n",
      "concave points error            0.380676          0.642262        0.683260   \n",
      "symmetry error                  0.200774          0.229977        0.178009   \n",
      "fractal dimension error         0.283607          0.507318        0.449301   \n",
      "worst radius                    0.213120          0.535315        0.688236   \n",
      "worst texture                   0.036072          0.248133        0.299879   \n",
      "worst perimeter                 0.238853          0.590210        0.729565   \n",
      "worst area                      0.206718          0.509604        0.675987   \n",
      "worst smoothness                0.805324          0.565541        0.448822   \n",
      "worst compactness               0.472468          0.865809        0.754968   \n",
      "worst concavity                 0.434926          0.816275        0.884103   \n",
      "worst concave points            0.503053          0.815573        0.861323   \n",
      "worst symmetry                  0.394309          0.510223        0.409464   \n",
      "worst fractal dimension         0.499316          0.687382        0.514930   \n",
      "\n",
      "                         mean concave points  mean symmetry  \\\n",
      "mean radius                         0.822529       0.147741   \n",
      "mean texture                        0.293464       0.071401   \n",
      "mean perimeter                      0.850977       0.183027   \n",
      "mean area                           0.823269       0.151293   \n",
      "mean smoothness                     0.553695       0.557775   \n",
      "mean compactness                    0.831135       0.602641   \n",
      "mean concavity                      0.921391       0.500667   \n",
      "mean concave points                 1.000000       0.462497   \n",
      "mean symmetry                       0.462497       1.000000   \n",
      "mean fractal dimension              0.166917       0.479921   \n",
      "radius error                        0.698050       0.303379   \n",
      "texture error                       0.021480       0.128053   \n",
      "perimeter error                     0.710650       0.313893   \n",
      "area error                          0.690299       0.223970   \n",
      "smoothness error                    0.027653       0.187321   \n",
      "compactness error                   0.490424       0.421659   \n",
      "concavity error                     0.439167       0.342627   \n",
      "concave points error                0.615634       0.393298   \n",
      "symmetry error                      0.095351       0.449137   \n",
      "fractal dimension error             0.257584       0.331786   \n",
      "worst radius                        0.830318       0.185728   \n",
      "worst texture                       0.292752       0.090651   \n",
      "worst perimeter                     0.855923       0.219169   \n",
      "worst area                          0.809630       0.177193   \n",
      "worst smoothness                    0.452753       0.426675   \n",
      "worst compactness                   0.667454       0.473200   \n",
      "worst concavity                     0.752399       0.433721   \n",
      "worst concave points                0.910155       0.430297   \n",
      "worst symmetry                      0.375744       0.699826   \n",
      "worst fractal dimension             0.368661       0.438413   \n",
      "\n",
      "                         mean fractal dimension  ...  worst radius  \\\n",
      "mean radius                           -0.311631  ...      0.969539   \n",
      "mean texture                          -0.076437  ...      0.352573   \n",
      "mean perimeter                        -0.261477  ...      0.969476   \n",
      "mean area                             -0.283110  ...      0.962746   \n",
      "mean smoothness                        0.584792  ...      0.213120   \n",
      "mean compactness                       0.565369  ...      0.535315   \n",
      "mean concavity                         0.336783  ...      0.688236   \n",
      "mean concave points                    0.166917  ...      0.830318   \n",
      "mean symmetry                          0.479921  ...      0.185728   \n",
      "mean fractal dimension                 1.000000  ...     -0.253691   \n",
      "radius error                           0.000111  ...      0.715065   \n",
      "texture error                          0.164174  ...     -0.111690   \n",
      "perimeter error                        0.039830  ...      0.697201   \n",
      "area error                            -0.090170  ...      0.757373   \n",
      "smoothness error                       0.401964  ...     -0.230691   \n",
      "compactness error                      0.559837  ...      0.204607   \n",
      "concavity error                        0.446630  ...      0.186904   \n",
      "concave points error                   0.341198  ...      0.358127   \n",
      "symmetry error                         0.345007  ...     -0.128121   \n",
      "fractal dimension error                0.688132  ...     -0.037488   \n",
      "worst radius                          -0.253691  ...      1.000000   \n",
      "worst texture                         -0.051269  ...      0.359921   \n",
      "worst perimeter                       -0.205151  ...      0.993708   \n",
      "worst area                            -0.231854  ...      0.984015   \n",
      "worst smoothness                       0.504942  ...      0.216574   \n",
      "worst compactness                      0.458798  ...      0.475820   \n",
      "worst concavity                        0.346234  ...      0.573975   \n",
      "worst concave points                   0.175325  ...      0.787424   \n",
      "worst symmetry                         0.334019  ...      0.243529   \n",
      "worst fractal dimension                0.767297  ...      0.093492   \n",
      "\n",
      "                         worst texture  worst perimeter  worst area  \\\n",
      "mean radius                   0.297008         0.965137    0.941082   \n",
      "mean texture                  0.912045         0.358040    0.343546   \n",
      "mean perimeter                0.303038         0.970387    0.941550   \n",
      "mean area                     0.287489         0.959120    0.959213   \n",
      "mean smoothness               0.036072         0.238853    0.206718   \n",
      "mean compactness              0.248133         0.590210    0.509604   \n",
      "mean concavity                0.299879         0.729565    0.675987   \n",
      "mean concave points           0.292752         0.855923    0.809630   \n",
      "mean symmetry                 0.090651         0.219169    0.177193   \n",
      "mean fractal dimension       -0.051269        -0.205151   -0.231854   \n",
      "radius error                  0.194799         0.719684    0.751548   \n",
      "texture error                 0.409003        -0.102242   -0.083195   \n",
      "perimeter error               0.200371         0.721031    0.730713   \n",
      "area error                    0.196497         0.761213    0.811408   \n",
      "smoothness error             -0.074743        -0.217304   -0.182195   \n",
      "compactness error             0.143003         0.260516    0.199371   \n",
      "concavity error               0.100241         0.226680    0.188353   \n",
      "concave points error          0.086741         0.394999    0.342271   \n",
      "symmetry error               -0.077473        -0.103753   -0.110343   \n",
      "fractal dimension error      -0.003195        -0.001000   -0.022736   \n",
      "worst radius                  0.359921         0.993708    0.984015   \n",
      "worst texture                 1.000000         0.365098    0.345842   \n",
      "worst perimeter               0.365098         1.000000    0.977578   \n",
      "worst area                    0.345842         0.977578    1.000000   \n",
      "worst smoothness              0.225429         0.236775    0.209145   \n",
      "worst compactness             0.360832         0.529408    0.438296   \n",
      "worst concavity               0.368366         0.618344    0.543331   \n",
      "worst concave points          0.359755         0.816322    0.747419   \n",
      "worst symmetry                0.233027         0.269493    0.209146   \n",
      "worst fractal dimension       0.219122         0.138957    0.079647   \n",
      "\n",
      "                         worst smoothness  worst compactness  worst concavity  \\\n",
      "mean radius                      0.119616           0.413463         0.526911   \n",
      "mean texture                     0.077503           0.277830         0.301025   \n",
      "mean perimeter                   0.150549           0.455774         0.563879   \n",
      "mean area                        0.123523           0.390410         0.512606   \n",
      "mean smoothness                  0.805324           0.472468         0.434926   \n",
      "mean compactness                 0.565541           0.865809         0.816275   \n",
      "mean concavity                   0.448822           0.754968         0.884103   \n",
      "mean concave points              0.452753           0.667454         0.752399   \n",
      "mean symmetry                    0.426675           0.473200         0.433721   \n",
      "mean fractal dimension           0.504942           0.458798         0.346234   \n",
      "radius error                     0.141919           0.287103         0.380585   \n",
      "texture error                   -0.073658          -0.092439        -0.068956   \n",
      "perimeter error                  0.130054           0.341919         0.418899   \n",
      "area error                       0.125389           0.283257         0.385100   \n",
      "smoothness error                 0.314457          -0.055558        -0.058298   \n",
      "compactness error                0.227394           0.678780         0.639147   \n",
      "concavity error                  0.168481           0.484858         0.662564   \n",
      "concave points error             0.215351           0.452888         0.549592   \n",
      "symmetry error                  -0.012662           0.060255         0.037119   \n",
      "fractal dimension error          0.170568           0.390159         0.379975   \n",
      "worst radius                     0.216574           0.475820         0.573975   \n",
      "worst texture                    0.225429           0.360832         0.368366   \n",
      "worst perimeter                  0.236775           0.529408         0.618344   \n",
      "worst area                       0.209145           0.438296         0.543331   \n",
      "worst smoothness                 1.000000           0.568187         0.518523   \n",
      "worst compactness                0.568187           1.000000         0.892261   \n",
      "worst concavity                  0.518523           0.892261         1.000000   \n",
      "worst concave points             0.547691           0.801080         0.855434   \n",
      "worst symmetry                   0.493838           0.614441         0.532520   \n",
      "worst fractal dimension          0.617624           0.810455         0.686511   \n",
      "\n",
      "                         worst concave points  worst symmetry  \\\n",
      "mean radius                          0.744214        0.163953   \n",
      "mean texture                         0.295316        0.105008   \n",
      "mean perimeter                       0.771241        0.189115   \n",
      "mean area                            0.722017        0.143570   \n",
      "mean smoothness                      0.503053        0.394309   \n",
      "mean compactness                     0.815573        0.510223   \n",
      "mean concavity                       0.861323        0.409464   \n",
      "mean concave points                  0.910155        0.375744   \n",
      "mean symmetry                        0.430297        0.699826   \n",
      "mean fractal dimension               0.175325        0.334019   \n",
      "radius error                         0.531062        0.094543   \n",
      "texture error                       -0.119638       -0.128215   \n",
      "perimeter error                      0.554897        0.109930   \n",
      "area error                           0.538166        0.074126   \n",
      "smoothness error                    -0.102007       -0.107342   \n",
      "compactness error                    0.483208        0.277878   \n",
      "concavity error                      0.440472        0.197788   \n",
      "concave points error                 0.602450        0.143116   \n",
      "symmetry error                      -0.030413        0.389402   \n",
      "fractal dimension error              0.215204        0.111094   \n",
      "worst radius                         0.787424        0.243529   \n",
      "worst texture                        0.359755        0.233027   \n",
      "worst perimeter                      0.816322        0.269493   \n",
      "worst area                           0.747419        0.209146   \n",
      "worst smoothness                     0.547691        0.493838   \n",
      "worst compactness                    0.801080        0.614441   \n",
      "worst concavity                      0.855434        0.532520   \n",
      "worst concave points                 1.000000        0.502528   \n",
      "worst symmetry                       0.502528        1.000000   \n",
      "worst fractal dimension              0.511114        0.537848   \n",
      "\n",
      "                         worst fractal dimension  \n",
      "mean radius                             0.007066  \n",
      "mean texture                            0.119205  \n",
      "mean perimeter                          0.051019  \n",
      "mean area                               0.003738  \n",
      "mean smoothness                         0.499316  \n",
      "mean compactness                        0.687382  \n",
      "mean concavity                          0.514930  \n",
      "mean concave points                     0.368661  \n",
      "mean symmetry                           0.438413  \n",
      "mean fractal dimension                  0.767297  \n",
      "radius error                            0.049559  \n",
      "texture error                          -0.045655  \n",
      "perimeter error                         0.085433  \n",
      "area error                              0.017539  \n",
      "smoothness error                        0.101480  \n",
      "compactness error                       0.590973  \n",
      "concavity error                         0.439329  \n",
      "concave points error                    0.310655  \n",
      "symmetry error                          0.078079  \n",
      "fractal dimension error                 0.591328  \n",
      "worst radius                            0.093492  \n",
      "worst texture                           0.219122  \n",
      "worst perimeter                         0.138957  \n",
      "worst area                              0.079647  \n",
      "worst smoothness                        0.617624  \n",
      "worst compactness                       0.810455  \n",
      "worst concavity                         0.686511  \n",
      "worst concave points                    0.511114  \n",
      "worst symmetry                          0.537848  \n",
      "worst fractal dimension                 1.000000  \n",
      "\n",
      "[30 rows x 30 columns]\n"
     ]
    }
   ],
   "source": [
    "print(\"Class distribution:\", {i: sum(y==i) for i in set(y)})\n",
    "df = pd.DataFrame(X, columns=data.feature_names)\n",
    "print(\"Feature correlations:\\n\", df.corr())"
   ]
  },
  {
   "cell_type": "markdown",
   "id": "3282fcdf",
   "metadata": {},
   "source": [
    "<a id=\"baseline-model-training\"></a>\n",
    "### **2. Baseline Model Training**  \n",
    "**Context**:  \n",
    "- **Why RandomForest?**  \n",
    "  - Robust to overfitting, handles non-linear relationships.  \n",
    "  - Default hyperparameters (`n_estimators=100`, `max_depth=None`) are a good starting point.  "
   ]
  },
  {
   "cell_type": "markdown",
   "id": "34b50a28",
   "metadata": {},
   "source": [
    " - Instantiating a RandomForestClassifier model\n",
    " - Training the model on the train sets (dfeatures and labels).\n",
    " - Performing test or predictions and a metrics as a baseline for improvement."
   ]
  },
  {
   "cell_type": "code",
   "execution_count": 20,
   "id": "e2ac5161",
   "metadata": {},
   "outputs": [
    {
     "name": "stdout",
     "output_type": "stream",
     "text": [
      "Baseline Accuracy: 0.9649122807017544\n",
      "[[40  3]\n",
      " [ 1 70]]\n",
      "              precision    recall  f1-score   support\n",
      "\n",
      "           0       0.98      0.93      0.95        43\n",
      "           1       0.96      0.99      0.97        71\n",
      "\n",
      "    accuracy                           0.96       114\n",
      "   macro avg       0.97      0.96      0.96       114\n",
      "weighted avg       0.97      0.96      0.96       114\n",
      "\n"
     ]
    }
   ],
   "source": [
    "baseline_model = RandomForestClassifier(random_state=42)\n",
    "baseline_model.fit(X_train, y_train)\n",
    "baseline_pred = baseline_model.predict(X_test)\n",
    "print(\"Baseline Accuracy:\", accuracy_score(y_test, baseline_pred))\n",
    "print(confusion_matrix(y_test, baseline_pred))\n",
    "print(classification_report(y_test, baseline_pred))"
   ]
  },
  {
   "cell_type": "code",
   "execution_count": 21,
   "id": "21c1daf1",
   "metadata": {},
   "outputs": [
    {
     "name": "stdout",
     "output_type": "stream",
     "text": [
      "Baseline CV Accuracy: 0.9582 (±0.0176)\n"
     ]
    }
   ],
   "source": [
    "# Cross-validated baseline performance\n",
    "from sklearn.model_selection import cross_val_score\n",
    "cv_scores = cross_val_score(baseline_model, X_train, y_train, cv=5)\n",
    "print(f\"Baseline CV Accuracy: {cv_scores.mean():.4f} (±{cv_scores.std():.4f})\")"
   ]
  },
  {
   "cell_type": "markdown",
   "id": "20a88533",
   "metadata": {},
   "source": [
    "**Output Interpretation**:  \n",
    "- High variance in CV scores may indicate overfitting, necessitating tuning.  \n",
    "\n",
    "---"
   ]
  },
  {
   "cell_type": "markdown",
   "id": "e945b859",
   "metadata": {},
   "source": [
    "<a id=\"hyperparameter-tuning\"></a>\n",
    "### **3. Hyperparameter Tuning**  \n",
    "**Grid Search**:  \n",
    "- Tests **all combinations** of `n_estimators`, `max_depth`, `min_samples_split` and `min_samples_leaf`.  \n",
    "- **Computational Cost**: For 3×3×3×3=81 combinations × 5-fold CV = 405 fits.  "
   ]
  },
  {
   "cell_type": "code",
   "execution_count": 22,
   "id": "a75b96c5",
   "metadata": {},
   "outputs": [
    {
     "name": "stdout",
     "output_type": "stream",
     "text": [
      "Fitting 5 folds for each of 108 candidates, totalling 540 fits\n",
      "Best Parameters (GridSearchCV): {'max_depth': None, 'min_samples_leaf': 1, 'min_samples_split': 2, 'n_estimators': 150}\n"
     ]
    }
   ],
   "source": [
    "param_grid = {\n",
    "    'n_estimators': [50, 100, 150],\n",
    "    'max_depth': [None, 10, 20, 30],\n",
    "    'min_samples_split': [2, 5, 10],\n",
    "    'min_samples_leaf': [1, 2, 4]\n",
    "}\n",
    "\n",
    "grid_search = GridSearchCV(\n",
    "        estimator=RandomForestClassifier(random_state=42),\n",
    "            param_grid=param_grid,\n",
    "            cv=5, n_jobs=-1, verbose=1)\n",
    "\n",
    "grid_search.fit(X_train, y_train)\n",
    "print(\"Best Parameters (GridSearchCV):\", grid_search.best_params_)\n"
   ]
  },
  {
   "cell_type": "markdown",
   "id": "79110fa8",
   "metadata": {},
   "source": [
    "**Randomized Search**:  \n",
    "- Samples **random combinations** from distributions (e.g., `randint` for integers).  \n",
    "- **Advantage**: Evaluates 20 combinations × 5-fold CV = 100 fits (aster than grid search).  "
   ]
  },
  {
   "cell_type": "code",
   "execution_count": 23,
   "id": "333c9bf0",
   "metadata": {},
   "outputs": [
    {
     "name": "stdout",
     "output_type": "stream",
     "text": [
      "Fitting 5 folds for each of 20 candidates, totalling 100 fits\n",
      "Best Parameters (RandomizedSearchCV): {'max_depth': np.int64(10), 'min_samples_leaf': 1, 'min_samples_split': 3, 'n_estimators': 133}\n"
     ]
    }
   ],
   "source": [
    "from scipy.stats import randint\n",
    "param_dist = {\n",
    "    'n_estimators': randint(50, 200),\n",
    "    'max_depth': [None] + list(np.arange(10, 50, 10)),\n",
    "    'min_samples_split': randint(2, 11),\n",
    "    'min_samples_leaf': randint(1, 5)\n",
    "}\n",
    "random_search = RandomizedSearchCV(\n",
    "    estimator=RandomForestClassifier(random_state=42),                                   param_distributions=param_dist,\n",
    "    n_iter=20,\n",
    "    cv=5, n_jobs=-1, random_state=42, verbose=1)\n",
    "random_search.fit(X_train, y_train)\n",
    "print(\"Best Parameters (RandomizedSearchCV):\", random_search.best_params_)\n"
   ]
  },
  {
   "cell_type": "markdown",
   "id": "4d1c0307",
   "metadata": {},
   "source": [
    "\n",
    "**Key Hyperparameters**:  \n",
    "| Hyperparameter       | Impact |  \n",
    "|----------------------|--------|  \n",
    "| `n_estimators`       | More trees → better performance but slower |  \n",
    "| `max_depth`          | Deeper trees → overfitting risk |  \n",
    "| `min_samples_split`  | Higher values → prevents overfitting |  \n",
    "| `min_samples_leaf`  | Larger values → smoother model, less overfitting |  "
   ]
  },
  {
   "cell_type": "markdown",
   "id": "19da4668",
   "metadata": {},
   "source": [
    "---\n",
    "<a id=\"model-evaluation\"></a>\n",
    "### **4. Model Evaluation**  \n",
    "**Metric Selection**:  \n",
    "- **Accuracy**: Good for balanced datasets (like Iris).  \n",
    "- **Precision/Recall/F1**: Critical for imbalanced data. Use `average='macro'` for multi-class.  "
   ]
  },
  {
   "cell_type": "code",
   "execution_count": 25,
   "id": "f6df38a5",
   "metadata": {},
   "outputs": [
    {
     "name": "stdout",
     "output_type": "stream",
     "text": [
      "| Metric    |   GridSearchCV |   RandomizedSearchCV |   Baseline |\n",
      "|:----------|---------------:|---------------------:|-----------:|\n",
      "| Accuracy  |         0.9649 |               0.9649 |     0.9649 |\n",
      "| Precision |         0.9589 |               0.9589 |     0.9589 |\n",
      "| Recall    |         0.9859 |               0.9859 |     0.9859 |\n",
      "| F1 Score  |         0.9722 |               0.9722 |     0.9722 |\n"
     ]
    }
   ],
   "source": [
    "from sklearn.metrics import accuracy_score, precision_score, recall_score, f1_score\n",
    "best_model_grid = grid_search.best_estimator_\n",
    "best_model_random = random_search.best_estimator_\n",
    "pred_grid = best_model_grid.predict(X_test)\n",
    "pred_random = best_model_random.predict(X_test)\n",
    "\n",
    "results = {\n",
    "    'Metric': ['Accuracy', 'Precision', 'Recall', 'F1 Score'],\n",
    "    'GridSearchCV': [\n",
    "        accuracy_score(y_test, pred_grid),\n",
    "        precision_score(y_test, pred_grid),\n",
    "        recall_score(y_test, pred_grid),\n",
    "        f1_score(y_test, pred_grid)\n",
    "    ],\n",
    "    'RandomizedSearchCV': [\n",
    "        accuracy_score(y_test, pred_random),\n",
    "        precision_score(y_test, pred_random),\n",
    "        recall_score(y_test, pred_random),\n",
    "        f1_score(y_test, pred_random)\n",
    "    ],\n",
    "    'Baseline':[\n",
    "        accuracy_score(y_test, baseline_pred),\n",
    "        precision_score(y_test, baseline_pred),\n",
    "        recall_score(y_test, baseline_pred),\n",
    "        f1_score(y_test, baseline_pred)]\n",
    "}\n",
    "import pandas as pd\n",
    "results_df = pd.DataFrame(results).round(4)\n",
    "print(results_df.to_markdown(index=False))"
   ]
  },
  {
   "cell_type": "markdown",
   "id": "e01c1f51",
   "metadata": {},
   "source": [
    "\n",
    "\n",
    "#### **Grid vs. Randomized Results Comparison**  \n",
    "| Metric              | GridSearchCV | RandomizedSearchCV | Baseline  |\n",
    "|:--------------------|:------------:|:------------------:|:---------:|\n",
    "| Accuracy            |    0.9649    |       0.9649       |  0.9582   |\n",
    "| Precision           |    0.9589    |       0.9589       |  0.9589   |\n",
    "| Recall              |    0.9859    |       0.9859       |  0.9859   |\n",
    "| F1 Score            |    0.9722    |       0.9722       |  0.9722   |\n",
    "| Accuracy Gain (%)   |   **+0.70%** |      **+0.70%**     |    –      |\n",
    "\n",
    "\n",
    "**Analysis**:  \n",
    " - Both Grid Search and Randomized Search achieved identical performance across all metrics, indicating that both tuning strategies found effective parameter sets.\n",
    "\n",
    " - The accuracy gain of +0.70% over the baseline demonstrates that hyperparameter tuning adds measurable value, albeit modest.\n",
    "\n",
    " - While Grid Search exhaustively explored the parameter grid (108 combinations), it offered no clear advantage over the more efficient Randomized Search, which used only 20 iterations.\n",
    "\n",
    " - This suggests that Randomized Search was sufficient in this context, and increasing iterations further might offer diminishing returns unless the search space is highly irregular.\n",
    "\n",
    "---\n",
    "\n",
    "### **Trade-offs: Grid vs. Randomized Search**  \n",
    "#### RandomizedSearchCV:\n",
    "\n",
    " - Explores 20 random combinations from a broad distribution. \n",
    " - Covers n_estimators (50–199), max_depth (None, 10–40), and other parameters with flexible integer sampling. \n",
    "\n",
    "#### GridSearchCV:\n",
    "\n",
    " - Tests 108 combinations (3×4×3×3) exhaustively. \n",
    " - Uses a fixed, coarser grid for each parameter. \n",
    "  \n",
    "   The table summarizes key operational differences between GridSearchCV and RandomizedSearchCV.\n",
    " \n",
    "| Factor           | GridSearchCV                             | RandomizedSearchCV                        |\n",
    "| ---------------- | ---------------------------------------- | ----------------------------------------- |\n",
    "| **Search Scope** | Full combinations (108 tested)           | Random 20 samples from large space        |\n",
    "| **Runtime**      | Slower – evaluates all combinations      | Faster – 5× fewer evaluations             |\n",
    "| **Flexibility**  | Limited to predefined grid points        | Samples from full distribution range      |\n",
    "| **Performance**  | Accuracy = 0.9649                        | Accuracy = 0.9649                         |\n",
    "| **Efficiency**   | Less efficient (more trials, same score) | More efficient (fewer trials, same score) |\n",
    "\n",
    "---\n",
    "\n",
    "### **Confusion Matrix and Classification Report**  "
   ]
  },
  {
   "cell_type": "code",
   "execution_count": 31,
   "id": "18bc7594",
   "metadata": {},
   "outputs": [
    {
     "name": "stdout",
     "output_type": "stream",
     "text": [
      "Grid Search classification report:\n",
      "               precision    recall  f1-score   support\n",
      "\n",
      "           0       0.98      0.93      0.95        43\n",
      "           1       0.96      0.99      0.97        71\n",
      "\n",
      "    accuracy                           0.96       114\n",
      "   macro avg       0.97      0.96      0.96       114\n",
      "weighted avg       0.97      0.96      0.96       114\n",
      "\n"
     ]
    },
    {
     "data": {
      "image/png": "[encoded data removed]",
      "text/plain": [
       "<Figure size 640x480 with 2 Axes>"
      ]
     },
     "metadata": {},
     "output_type": "display_data"
    },
    {
     "name": "stdout",
     "output_type": "stream",
     "text": [
      "Randomized Search classification report:\n",
      "               precision    recall  f1-score   support\n",
      "\n",
      "           0       0.98      0.93      0.95        43\n",
      "           1       0.96      0.99      0.97        71\n",
      "\n",
      "    accuracy                           0.96       114\n",
      "   macro avg       0.97      0.96      0.96       114\n",
      "weighted avg       0.97      0.96      0.96       114\n",
      "\n"
     ]
    },
    {
     "data": {
      "image/png": "[encoded data removed]",
      "text/plain": [
       "<Figure size 640x480 with 2 Axes>"
      ]
     },
     "metadata": {},
     "output_type": "display_data"
    }
   ],
   "source": [
    "from matplotlib import pyplot as plt\n",
    "import seaborn as sns\n",
    "from sklearn.metrics import classification_report\n",
    "print(\"Grid Search classification report:\\n\", classification_report(y_test, best_model_grid.predict(X_test)))\n",
    "\n",
    "cm = confusion_matrix(y_test, best_model_grid.predict(X_test))\n",
    "sns.heatmap(cm, annot=True, fmt='d', xticklabels=data.target_names, yticklabels=data.target_names)\n",
    "plt.xlabel('Predicted')\n",
    "plt.ylabel('True')\n",
    "plt.show()\n",
    "\n",
    "print(\"Randomized Search classification report:\\n\", classification_report(y_test, best_model_random.predict(X_test)))\n",
    "\n",
    "cm = confusion_matrix(y_test, best_model_random.predict(X_test))\n",
    "sns.heatmap(cm, annot=True, fmt='d', xticklabels=data.target_names, yticklabels=data.target_names)\n",
    "plt.xlabel('Predicted')\n",
    "plt.ylabel('True')\n",
    "plt.show()\n"
   ]
  },
  {
   "cell_type": "markdown",
   "id": "9cf43013",
   "metadata": {},
   "source": [
    "### **5. Conclusion**  \n",
    "<a id=\"conclusion\"></a>\n",
    "The hyperparameter tuning techniques of GridSearchCV and RandomizedSearchCV, when compared in effectiveness for optimizing a classification model, yield identical improvements in model accuracy (+0.70%). Both methods showed no significant difference in precision, recall, or F1-score. Notably, the baseline model had already demonstrated strong performance, which suggests diminishing returns from exhaustive hyperparameter optimization. These findings imply that while hyperparameter tuning can enhance performance, the gains become more incremental as the model’s baseline accuracy increases.\n",
    "\n",
    "#### **Key Observations**  \n",
    "1. **Equivalence of GridSearchCV and RandomizedSearchCV**  \n",
    "   - Both methods achieved **identical metrics** (accuracy: 0.9649, precision: 0.9589, recall: 0.9859, F1-score: 0.9722).  \n",
    "   - This implies that **RandomizedSearchCV is equally effective** while being computationally more efficient, as it does not require an exhaustive search.  \n",
    "\n",
    "2. **Marginal Improvement Over Baseline**  \n",
    "   - The **+0.70% accuracy gain** from tuning is statistically minimal.  \n",
    "   - Precision, recall, and F1-score remained **unchanged**, indicating that hyperparameter adjustments did not enhance class discrimination.  \n",
    "\n",
    "3. **Class-Specific Performance**  \n",
    "   - **Class 1 (Majority Class, n=71):**  \n",
    "     - Near-perfect recall (0.99), with high precision (0.96), indicating robust detection with few false positives.  \n",
    "   - **Class 0 (Minority Class, n=43):**  \n",
    "     - Slightly lower recall (0.93) compared to precision (0.98), suggesting **7% of Class 0 instances were misclassified** (3 false negatives).  \n",
    "   - The model exhibits a minor bias toward the majority class.  \n",
    "\n",
    "4. **Confusion Matrix Analysis**  \n",
    "   - Both methods produced identical confusion matrices:  \n",
    "     - **Class 0:** 3 false positives.  \n",
    "     - **Class 1:** 1 false negative.  \n",
    "   - The model’s slight preference for Class 1 predictions aligns with the class imbalance (71 vs. 43 samples).  "
   ]
  }
 ],
 "metadata": {
  "kernelspec": {
   "display_name": "venv",
   "language": "python",
   "name": "python3"
  },
  "language_info": {
   "codemirror_mode": {
    "name": "ipython",
    "version": 3
   },
   "file_extension": ".py",
   "mimetype": "text/x-python",
   "name": "python",
   "nbconvert_exporter": "python",
   "pygments_lexer": "ipython3",
   "version": "3.13.2"
  }
 },
 "nbformat": 4,
 "nbformat_minor": 5
}
