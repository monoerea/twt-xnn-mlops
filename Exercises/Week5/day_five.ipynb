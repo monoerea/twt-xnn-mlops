{
 "cells": [
  {
   "cell_type": "markdown",
   "id": "b55aa009",
   "metadata": {},
   "source": [
    "# Twitter/X Status Analysis and Classification\n",
    "\n",
    "**Author**: Senorin, Ereka Sheen S.  \n",
    "**Date**: 2025-04-25  \n",
    "**Version**: 1.0  \n",
    "**Purpose**: The goal is to analyze the Twitter dataset to accurately distinguish between human and bot accounts by leveraging a combination of data exploration, feature engineering, and machine learning techniques. By extracting key behavioral, linguistic, and network-based features—such as tweet frequency, content patterns, follower-following ratios, and account metadata—we aim to build robust classification models that can effectively identify automated accounts. \n",
    "\n",
    "---\n",
    "## Table of Contents\n",
    "1. [Environment Setup](#1-environment-setup)\n",
    "2. [Data Acquisition](#2-data-acquisition)\n",
    "3. [Data Cleaning & Preprocessing & EDA](#3-data-cleaning--preprocessing--eda)\n",
    "4. [Model Implementation](#4-model-implementation)\n",
    "5. [Evaluation](#5-evaluation)\n",
    "6. [Conclusions and Insights](#6-conclusion-and-insights)"
   ]
  },
  {
   "cell_type": "markdown",
   "id": "08015da7",
   "metadata": {},
   "source": [
    "## 1. Environment Setup\n",
    "<a id=\"#1-environment-setup\"></a>\n",
    "Import all required libraries with standard aliases.\n",
    "Group imports by category (standard lib, third-party, local) with blank lines between"
   ]
  },
  {
   "cell_type": "markdown",
   "id": "665fd1c4",
   "metadata": {},
   "source": [
    "#### 1.1 Standard Libarary\n",
    " - Import all required libraries with standard aliases.\n",
    " - Group imports by category (standard lib, third-party, local) with blank lines between"
   ]
  },
  {
   "cell_type": "code",
   "execution_count": 147,
   "id": "57dd680f",
   "metadata": {},
   "outputs": [],
   "source": [
    "import os\n",
    "from datetime import datetime"
   ]
  },
  {
   "cell_type": "markdown",
   "id": "338be05a",
   "metadata": {},
   "source": [
    "##### 1.2 Third-party  \n",
    "> Importing the necessary libraries for:  \n",
    "> - Plotting  \n",
    "> - Modeling  \n"
   ]
  },
  {
   "cell_type": "code",
   "execution_count": 148,
   "id": "43d1936a",
   "metadata": {},
   "outputs": [],
   "source": [
    "import numpy as np\n",
    "import pandas as pd\n",
    "import plotly.express as px\n",
    "from scipy import stats\n",
    "import sklearn\n",
    "import ast"
   ]
  },
  {
   "cell_type": "markdown",
   "id": "252ffec4",
   "metadata": {},
   "source": [
    "##### 1.3 Display settings for pandas"
   ]
  },
  {
   "cell_type": "code",
   "execution_count": 149,
   "id": "31b102bc",
   "metadata": {},
   "outputs": [],
   "source": [
    "pd.set_option('display.max_rows', 10)\n",
    "pd.set_option('display.max_columns', None)\n",
    "pd.set_option('display.width', None)\n",
    "pd.set_option('display.max_colwidth', 20)"
   ]
  },
  {
   "cell_type": "markdown",
   "id": "e93d5ccd",
   "metadata": {},
   "source": [
    "## 2. Data Acquisition\n",
    "<a id=\"2-data-acquisition\"></a>\n",
    "Data is acquired from Real Time Bot Detection repository.\n",
    "- Data contained 35k statuses from both bot and human accounts.\n",
    "- The data contains columns with nested dictionaries.\n",
    "  - Data needs to be extracted from the nested columns.\n",
    "  - Features that are not in the same domain are identified removed to narrow the scope."
   ]
  },
  {
   "cell_type": "code",
   "execution_count": null,
   "id": "ff196591",
   "metadata": {},
   "outputs": [
    {
     "name": "stdout",
     "output_type": "stream",
     "text": [
      "counts 8620 16625\n",
      "<class 'pandas.core.frame.DataFrame'>\n",
      "RangeIndex: 25245 entries, 0 to 25244\n",
      "Data columns (total 32 columns):\n",
      " #   Column                     Non-Null Count  Dtype  \n",
      "---  ------                     --------------  -----  \n",
      " 0   uid                        25245 non-null  int64  \n",
      " 1   label                      25245 non-null  object \n",
      " 2   created_at                 25245 non-null  object \n",
      " 3   id                         25245 non-null  float64\n",
      " 4   id_str                     25245 non-null  float64\n",
      " 5   text                       25245 non-null  object \n",
      " 6   truncated                  25245 non-null  bool   \n",
      " 7   entities                   25245 non-null  object \n",
      " 8   extended_entities          2649 non-null   object \n",
      " 9   source                     25245 non-null  object \n",
      " 10  in_reply_to_status_id      6765 non-null   float64\n",
      " 11  in_reply_to_status_id_str  6765 non-null   float64\n",
      " 12  in_reply_to_user_id        7127 non-null   float64\n",
      " 13  in_reply_to_user_id_str    7127 non-null   float64\n",
      " 14  in_reply_to_screen_name    7127 non-null   object \n",
      " 15  user                       25245 non-null  object \n",
      " 16  geo                        34 non-null     object \n",
      " 17  coordinates                34 non-null     object \n",
      " 18  place                      339 non-null    object \n",
      " 19  contributors               0 non-null      float64\n",
      " 20  retweeted_status           8329 non-null   object \n",
      " 21  is_quote_status            25245 non-null  bool   \n",
      " 22  retweet_count              25245 non-null  int64  \n",
      " 23  favorite_count             25245 non-null  int64  \n",
      " 24  favorited                  25245 non-null  bool   \n",
      " 25  retweeted                  25245 non-null  bool   \n",
      " 26  possibly_sensitive         11113 non-null  object \n",
      " 27  lang                       25245 non-null  object \n",
      " 28  quoted_status_id           2354 non-null   float64\n",
      " 29  quoted_status_id_str       2354 non-null   float64\n",
      " 30  quoted_status              1504 non-null   object \n",
      " 31  withheld_in_countries      5 non-null      object \n",
      "dtypes: bool(4), float64(9), int64(3), object(16)\n",
      "memory usage: 5.5+ MB\n"
     ]
    },
    {
     "name": "stderr",
     "output_type": "stream",
     "text": [
      "C:\\Users\\senor\\AppData\\Local\\Temp\\ipykernel_23692\\2274595563.py:3: FutureWarning:\n",
      "\n",
      "Series.__getitem__ treating keys as positions is deprecated. In a future version, integer keys will always be treated as labels (consistent with DataFrame behavior). To access a value by position, use `ser.iloc[pos]`\n",
      "\n",
      "C:\\Users\\senor\\AppData\\Local\\Temp\\ipykernel_23692\\2274595563.py:3: FutureWarning:\n",
      "\n",
      "Series.__getitem__ treating keys as positions is deprecated. In a future version, integer keys will always be treated as labels (consistent with DataFrame behavior). To access a value by position, use `ser.iloc[pos]`\n",
      "\n"
     ]
    },
    {
     "data": {
      "application/vnd.microsoft.datawrangler.viewer.v0+json": {
       "columns": [
        {
         "name": "index",
         "rawType": "object",
         "type": "string"
        },
        {
         "name": "uid",
         "rawType": "float64",
         "type": "float"
        },
        {
         "name": "label",
         "rawType": "object",
         "type": "unknown"
        },
        {
         "name": "created_at",
         "rawType": "object",
         "type": "unknown"
        },
        {
         "name": "id",
         "rawType": "float64",
         "type": "float"
        },
        {
         "name": "id_str",
         "rawType": "float64",
         "type": "float"
        },
        {
         "name": "text",
         "rawType": "object",
         "type": "unknown"
        },
        {
         "name": "truncated",
         "rawType": "object",
         "type": "unknown"
        },
        {
         "name": "entities",
         "rawType": "object",
         "type": "unknown"
        },
        {
         "name": "extended_entities",
         "rawType": "object",
         "type": "unknown"
        },
        {
         "name": "source",
         "rawType": "object",
         "type": "unknown"
        },
        {
         "name": "in_reply_to_status_id",
         "rawType": "float64",
         "type": "float"
        },
        {
         "name": "in_reply_to_status_id_str",
         "rawType": "float64",
         "type": "float"
        },
        {
         "name": "in_reply_to_user_id",
         "rawType": "float64",
         "type": "float"
        },
        {
         "name": "in_reply_to_user_id_str",
         "rawType": "float64",
         "type": "float"
        },
        {
         "name": "in_reply_to_screen_name",
         "rawType": "object",
         "type": "unknown"
        },
        {
         "name": "user",
         "rawType": "object",
         "type": "unknown"
        },
        {
         "name": "geo",
         "rawType": "object",
         "type": "unknown"
        },
        {
         "name": "coordinates",
         "rawType": "object",
         "type": "unknown"
        },
        {
         "name": "place",
         "rawType": "object",
         "type": "unknown"
        },
        {
         "name": "contributors",
         "rawType": "float64",
         "type": "float"
        },
        {
         "name": "retweeted_status",
         "rawType": "object",
         "type": "unknown"
        },
        {
         "name": "is_quote_status",
         "rawType": "object",
         "type": "unknown"
        },
        {
         "name": "retweet_count",
         "rawType": "float64",
         "type": "float"
        },
        {
         "name": "favorite_count",
         "rawType": "float64",
         "type": "float"
        },
        {
         "name": "favorited",
         "rawType": "object",
         "type": "unknown"
        },
        {
         "name": "retweeted",
         "rawType": "object",
         "type": "unknown"
        },
        {
         "name": "possibly_sensitive",
         "rawType": "object",
         "type": "unknown"
        },
        {
         "name": "lang",
         "rawType": "object",
         "type": "unknown"
        },
        {
         "name": "quoted_status_id",
         "rawType": "float64",
         "type": "float"
        },
        {
         "name": "quoted_status_id_str",
         "rawType": "float64",
         "type": "float"
        },
        {
         "name": "quoted_status",
         "rawType": "object",
         "type": "unknown"
        },
        {
         "name": "withheld_in_countries",
         "rawType": "object",
         "type": "unknown"
        }
       ],
       "conversionMethod": "pd.DataFrame",
       "ref": "54324759-45f2-4b47-b71c-183ac21cb8dc",
       "rows": [
        [
         "count",
         "25245.0",
         "25245",
         "25245",
         "25245.0",
         "25245.0",
         "25245",
         "25245",
         "25245",
         "2649",
         "25245",
         "6765.0",
         "6765.0",
         "7127.0",
         "7127.0",
         "7127",
         "25245",
         "34",
         "34",
         "339",
         "0.0",
         "8329",
         "25245",
         "25245.0",
         "25245.0",
         "25245",
         "25245",
         "11113",
         "25245",
         "2354.0",
         "2354.0",
         "1504",
         "5"
        ],
        [
         "unique",
         null,
         "2",
         "23490",
         null,
         null,
         "23714",
         "2",
         "21810",
         "2512",
         "150",
         null,
         null,
         null,
         null,
         "5052",
         "2478",
         "21",
         "21",
         "136",
         null,
         "8023",
         "2",
         null,
         null,
         "1",
         "1",
         "2",
         "59",
         null,
         null,
         "1440",
         "3"
        ],
        [
         "top",
         null,
         "human",
         "Tue May 26 19:29:03 +0000 2020",
         null,
         null,
         "RT @martin_a_vinck: New paper led by the great @OnoratoIrene! \r\n\r\nWe show how the activity of distinct inhibitory interneurons is precisely c…",
         "False",
         "{'hashtags': [], 'symbols': [], 'user_mentions': [], 'urls': []}",
         "{'media': [{'id': 1644425327723126784, 'id_str': '1644425327723126784', 'indices': [72, 95], 'media_url': 'http://pbs.twimg.com/ext_tw_video_thumb/1644425327723126784/pu/img/waEBtCFBT2HufFby.jpg', 'media_url_https': 'https://pbs.twimg.com/ext_tw_video_thumb/1644425327723126784/pu/img/waEBtCFBT2HufFby.jpg', 'url': 'https://t.co/qzaalwYHj5', 'display_url': 'pic.twitter.com/qzaalwYHj5', 'expanded_url': 'https://twitter.com/TexasFootball/status/1644426130970103810/video/1', 'type': 'video', 'sizes': {'thumb': {'w': 150, 'h': 150, 'resize': 'crop'}, 'medium': {'w': 1200, 'h': 675, 'resize': 'fit'}, 'small': {'w': 680, 'h': 383, 'resize': 'fit'}, 'large': {'w': 1984, 'h': 1116, 'resize': 'fit'}}, 'source_status_id': 1644426130970103810, 'source_status_id_str': '1644426130970103810', 'source_user_id': 34286487, 'source_user_id_str': '34286487', 'video_info': {'aspect_ratio': [16, 9], 'duration_millis': 16349, 'variants': [{'bitrate': 10368000, 'content_type': 'video/mp4', 'url': 'https://video.twimg.com/ext_tw_video/1644425327723126784/pu/vid/1920x1080/8oqHLph8QpKWhtts.mp4?tag=14'}, {'content_type': 'application/x-mpegURL', 'url': 'https://video.twimg.com/ext_tw_video/1644425327723126784/pu/pl/X3HqeS9Y0jpfEVAS.m3u8?tag=14&container=fmp4'}, {'bitrate': 832000, 'content_type': 'video/mp4', 'url': 'https://video.twimg.com/ext_tw_video/1644425327723126784/pu/vid/640x360/EL04wmdeEHicKBdy.mp4?tag=14'}, {'bitrate': 256000, 'content_type': 'video/mp4', 'url': 'https://video.twimg.com/ext_tw_video/1644425327723126784/pu/vid/480x270/AEQmOX6K-uzQBqPO.mp4?tag=14'}, {'bitrate': 2176000, 'content_type': 'video/mp4', 'url': 'https://video.twimg.com/ext_tw_video/1644425327723126784/pu/vid/1280x720/M3idAfHm_4yN_HwH.mp4?tag=14'}]}, 'additional_media_info': {'monetizable': False, 'source_user': {'id': 34286487, 'id_str': '34286487', 'name': 'Texas Football', 'screen_name': 'TexasFootball', 'location': 'Austin, TX', 'description': 'Official Twitter account of The University of Texas Football Team. #ThisIsTexas #HookEm', 'url': 'https://t.co/qOIcN5WqKc', 'entities': {'url': {'urls': [{'url': 'https://t.co/qOIcN5WqKc', 'expanded_url': 'https://www.instagram.com/texasfootball', 'display_url': 'instagram.com/texasfootball', 'indices': [0, 23]}]}, 'description': {'urls': []}}, 'protected': False, 'followers_count': 385765, 'friends_count': 571, 'listed_count': 2027, 'created_at': 'Wed Apr 22 14:31:47 +0000 2009', 'favourites_count': 2870, 'utc_offset': None, 'time_zone': None, 'geo_enabled': True, 'verified': True, 'statuses_count': 21064, 'lang': None, 'contributors_enabled': False, 'is_translator': False, 'is_translation_enabled': False, 'profile_background_color': '080808', 'profile_background_image_url': 'http://abs.twimg.com/images/themes/theme1/bg.png', 'profile_background_image_url_https': 'https://abs.twimg.com/images/themes/theme1/bg.png', 'profile_background_tile': False, 'profile_image_url': 'http://pbs.twimg.com/profile_images/1345444942068420608/2DVUokEu_normal.jpg', 'profile_image_url_https': 'https://pbs.twimg.com/profile_images/1345444942068420608/2DVUokEu_normal.jpg', 'profile_banner_url': 'https://pbs.twimg.com/profile_banners/34286487/1663003955', 'profile_link_color': 'BF5700', 'profile_sidebar_border_color': '020500', 'profile_sidebar_fill_color': 'A5A6A4', 'profile_text_color': '333333', 'profile_use_background_image': True, 'has_extended_profile': False, 'default_profile': False, 'default_profile_image': False, 'following': False, 'follow_request_sent': False, 'notifications': False, 'translator_type': 'none', 'withheld_in_countries': []}}}]}",
         "<a href=\"http://twitter.com/download/iphone\" rel=\"nofollow\">Twitter for iPhone</a>",
         null,
         null,
         null,
         null,
         "elonmusk",
         "{'id': 3302903935, 'id_str': '3302903935', 'name': 'GHEckel', 'screen_name': 'gheckelauthor', 'location': 'california', 'description': '', 'url': 'https://t.co/muGL0Pc6Se', 'entities': {'url': {'urls': [{'url': 'https://t.co/muGL0Pc6Se', 'expanded_url': 'http://georgeeckel.com', 'display_url': 'georgeeckel.com', 'indices': [0, 23]}]}, 'description': {'urls': []}}, 'protected': False, 'followers_count': 13156, 'friends_count': 13643, 'listed_count': 131, 'created_at': 'Sat Aug 01 00:30:44 +0000 2015', 'favourites_count': 850, 'utc_offset': None, 'time_zone': None, 'geo_enabled': False, 'verified': False, 'statuses_count': 973, 'lang': None, 'contributors_enabled': False, 'is_translator': False, 'is_translation_enabled': False, 'profile_background_color': '000000', 'profile_background_image_url': 'http://abs.twimg.com/images/themes/theme1/bg.png', 'profile_background_image_url_https': 'https://abs.twimg.com/images/themes/theme1/bg.png', 'profile_background_tile': False, 'profile_image_url': 'http://pbs.twimg.com/profile_images/688844839010484224/WSXQruP8_normal.png', 'profile_image_url_https': 'https://pbs.twimg.com/profile_images/688844839010484224/WSXQruP8_normal.png', 'profile_banner_url': 'https://pbs.twimg.com/profile_banners/3302903935/1485165537', 'profile_link_color': '4A913C', 'profile_sidebar_border_color': '000000', 'profile_sidebar_fill_color': '000000', 'profile_text_color': '000000', 'profile_use_background_image': False, 'has_extended_profile': True, 'default_profile': False, 'default_profile_image': False, 'following': False, 'follow_request_sent': False, 'notifications': False, 'translator_type': 'none', 'withheld_in_countries': []}",
         "{'type': 'Point', 'coordinates': [22.57264571, 88.36372375]}",
         "{'type': 'Point', 'coordinates': [88.36372375, 22.57264571]}",
         "{'id': '6d31e9257b83e23c', 'url': 'https://api.twitter.com/1.1/geo/id/6d31e9257b83e23c.json', 'place_type': 'city', 'name': 'Iztapalapa', 'full_name': 'Iztapalapa, Distrito Federal', 'country_code': 'MX', 'country': 'Mexico', 'contained_within': [], 'bounding_box': {'type': 'Polygon', 'coordinates': [[[-99.140238, 19.2846922], [-98.9606835, 19.2846922], [-98.9606835, 19.400885], [-99.140238, 19.400885]]]}, 'attributes': {}}",
         null,
         "{'created_at': 'Sat Mar 18 17:28:01 +0000 2023', 'id': 1637143834311249921, 'id_str': '1637143834311249921', 'text': \"Friends, we need your help. An Wu, a postdoc from UCSD is missing post-Cosyne. We're trying to locate her. We're wo… https://t.co/NbZgfKRs53\", 'truncated': True, 'entities': {'hashtags': [], 'symbols': [], 'user_mentions': [], 'urls': [{'url': 'https://t.co/NbZgfKRs53', 'expanded_url': 'https://twitter.com/i/web/status/1637143834311249921', 'display_url': 'twitter.com/i/web/status/1…', 'indices': [117, 140]}]}, 'source': '<a href=\"https://mobile.twitter.com\" rel=\"nofollow\">Twitter Web App</a>', 'in_reply_to_status_id': None, 'in_reply_to_status_id_str': None, 'in_reply_to_user_id': None, 'in_reply_to_user_id_str': None, 'in_reply_to_screen_name': None, 'user': {'id': 1375825160, 'id_str': '1375825160', 'name': 'Blake Richards | @tyrell_turing@fediscience.org', 'screen_name': 'tyrell_turing', 'location': 'Montréal, Québec', 'description': 'Researcher in Montréal, @Mila_Quebec and @mcgillu, combining machine learning and neuroscience. Also on Mastodon: @tyrell_turing@fediscience.org', 'url': 'https://t.co/FKMzi3PrX0', 'entities': {'url': {'urls': [{'url': 'https://t.co/FKMzi3PrX0', 'expanded_url': 'https://linclab.mila.quebec/', 'display_url': 'linclab.mila.quebec', 'indices': [0, 23]}]}, 'description': {'urls': []}}, 'protected': False, 'followers_count': 13619, 'friends_count': 1989, 'listed_count': 235, 'created_at': 'Wed Apr 24 00:53:43 +0000 2013', 'favourites_count': 62634, 'utc_offset': None, 'time_zone': None, 'geo_enabled': False, 'verified': False, 'statuses_count': 22509, 'lang': None, 'contributors_enabled': False, 'is_translator': False, 'is_translation_enabled': False, 'profile_background_color': '000000', 'profile_background_image_url': 'http://abs.twimg.com/images/themes/theme1/bg.png', 'profile_background_image_url_https': 'https://abs.twimg.com/images/themes/theme1/bg.png', 'profile_background_tile': False, 'profile_image_url': 'http://pbs.twimg.com/profile_images/1465328458926641161/qFrTQzy__normal.jpg', 'profile_image_url_https': 'https://pbs.twimg.com/profile_images/1465328458926641161/qFrTQzy__normal.jpg', 'profile_banner_url': 'https://pbs.twimg.com/profile_banners/1375825160/1601471950', 'profile_link_color': '50A2D5', 'profile_sidebar_border_color': '000000', 'profile_sidebar_fill_color': '000000', 'profile_text_color': '000000', 'profile_use_background_image': False, 'has_extended_profile': False, 'default_profile': False, 'default_profile_image': False, 'following': False, 'follow_request_sent': False, 'notifications': False, 'translator_type': 'none', 'withheld_in_countries': []}, 'geo': None, 'coordinates': None, 'place': None, 'contributors': None, 'is_quote_status': False, 'retweet_count': 442, 'favorite_count': 274, 'favorited': False, 'retweeted': False, 'lang': 'en'}",
         "False",
         null,
         null,
         "False",
         "False",
         "False",
         "en",
         null,
         null,
         "{'created_at': 'Mon Feb 27 10:21:37 +0000 2023', 'id': 1630151156499398656, 'id_str': '1630151156499398656', 'text': '¿De qué equipo es usted?:\\n\\n:)\\n\\n#4YFN23 #MWC23 #mwc2023 #MWC2023', 'truncated': False, 'entities': {'hashtags': [{'text': '4YFN23', 'indices': [31, 38]}, {'text': 'MWC23', 'indices': [39, 45]}, {'text': 'mwc2023', 'indices': [46, 54]}, {'text': 'MWC2023', 'indices': [55, 63]}], 'symbols': [], 'user_mentions': [], 'urls': []}, 'source': '<a href=\"https://mobile.twitter.com\" rel=\"nofollow\">Twitter Web App</a>', 'in_reply_to_status_id': None, 'in_reply_to_status_id_str': None, 'in_reply_to_user_id': None, 'in_reply_to_user_id_str': None, 'in_reply_to_screen_name': None, 'user': {'id': 2426170136, 'id_str': '2426170136', 'name': 'Inglés en Burgos', 'screen_name': 'inglesenburgos', 'location': 'Burgos, España', 'description': '¿Qué inglés quiere conseguir? Vea lo que consiguen mis alumnos: https://t.co/P08fOtsuGE', 'url': 'https://t.co/5k2p3qnL84', 'entities': {'url': {'urls': [{'url': 'https://t.co/5k2p3qnL84', 'expanded_url': 'http://www.inglesenburgos.com', 'display_url': 'inglesenburgos.com', 'indices': [0, 23]}]}, 'description': {'urls': [{'url': 'https://t.co/P08fOtsuGE', 'expanded_url': 'http://shorturl.at/foBEV', 'display_url': 'shorturl.at/foBEV', 'indices': [64, 87]}]}}, 'protected': False, 'followers_count': 278, 'friends_count': 742, 'listed_count': 12, 'created_at': 'Thu Apr 03 20:46:51 +0000 2014', 'favourites_count': 1155, 'utc_offset': None, 'time_zone': None, 'geo_enabled': True, 'verified': False, 'statuses_count': 2896, 'lang': None, 'contributors_enabled': False, 'is_translator': False, 'is_translation_enabled': False, 'profile_background_color': 'C0DEED', 'profile_background_image_url': 'http://abs.twimg.com/images/themes/theme1/bg.png', 'profile_background_image_url_https': 'https://abs.twimg.com/images/themes/theme1/bg.png', 'profile_background_tile': True, 'profile_image_url': 'http://pbs.twimg.com/profile_images/774358338276429824/KcA1jFuK_normal.jpg', 'profile_image_url_https': 'https://pbs.twimg.com/profile_images/774358338276429824/KcA1jFuK_normal.jpg', 'profile_banner_url': 'https://pbs.twimg.com/profile_banners/2426170136/1404488185', 'profile_link_color': '83D4CD', 'profile_sidebar_border_color': 'C0DEED', 'profile_sidebar_fill_color': 'DDEEF6', 'profile_text_color': '333333', 'profile_use_background_image': True, 'has_extended_profile': True, 'default_profile': False, 'default_profile_image': False, 'following': False, 'follow_request_sent': False, 'notifications': False, 'translator_type': 'none', 'withheld_in_countries': []}, 'geo': None, 'coordinates': None, 'place': None, 'contributors': None, 'is_quote_status': False, 'retweet_count': 4, 'favorite_count': 8, 'favorited': False, 'retweeted': False, 'lang': 'es'}",
         "['AT', 'BE', 'BG', 'CY', 'CZ', 'DE', 'DK', 'EE', 'ES', 'FI', 'FR', 'GB', 'GR', 'HR', 'HU', 'IE', 'IT', 'LT', 'LU', 'LV', 'MT', 'NL', 'PL', 'PT', 'RO', 'SE', 'SI', 'SK']"
        ],
        [
         "freq",
         null,
         "16625",
         "8",
         null,
         null,
         "4",
         "18484",
         "1017",
         "2",
         "8265",
         null,
         null,
         null,
         null,
         "35",
         "20",
         "7",
         "7",
         "12",
         null,
         "4",
         "22878",
         null,
         null,
         "25245",
         "25245",
         "10982",
         "20008",
         null,
         null,
         "9",
         "2"
        ],
        [
         "mean",
         "965815130.4779956",
         null,
         null,
         "1.4997491415690276e+18",
         "1.4997491415690276e+18",
         null,
         null,
         null,
         null,
         null,
         "1.5579238285291945e+18",
         "1.5579253067257946e+18",
         "3.1076988973931974e+17",
         "3.1076988973931974e+17",
         null,
         null,
         null,
         null,
         null,
         null,
         null,
         null,
         "756.4288770053475",
         "285.08738364032484",
         null,
         null,
         null,
         null,
         "1.5777043330501276e+18",
         "1.5777043330501276e+18",
         null,
         null
        ],
        [
         "std",
         "1248789103.6262827",
         null,
         null,
         "3.122116152280215e+17",
         "3.122116152280215e+17",
         null,
         null,
         null,
         null,
         null,
         "2.1462652244406845e+17",
         "2.1462657118187136e+17",
         "5.340010837583603e+17",
         "5.340010837583603e+17",
         null,
         null,
         null,
         null,
         null,
         null,
         null,
         null,
         "19831.102212551046",
         "5027.020159712155",
         null,
         null,
         null,
         null,
         "1.5201630839408576e+17",
         "1.5201630839408576e+17",
         null,
         null
        ],
        [
         "min",
         "58.0",
         null,
         null,
         "1790146805.0",
         "1790146805.0",
         null,
         null,
         null,
         null,
         null,
         "1.05e+16",
         "1.05e+16",
         "59.0",
         "59.0",
         null,
         null,
         null,
         null,
         null,
         null,
         null,
         null,
         "0.0",
         "0.0",
         null,
         null,
         null,
         null,
         "1.72e+17",
         "1.72e+17",
         null,
         null
        ],
        [
         "25%",
         "62929874.0",
         null,
         null,
         "1.54e+18",
         "1.54e+18",
         null,
         null,
         null,
         null,
         null,
         "1.59e+18",
         "1.59e+18",
         "87624424.0",
         "87624424.0",
         null,
         null,
         null,
         null,
         null,
         null,
         null,
         null,
         "0.0",
         "0.0",
         null,
         null,
         null,
         null,
         "1.59e+18",
         "1.59e+18",
         null,
         null
        ],
        [
         "50%",
         "307415907.0",
         null,
         null,
         "1.64e+18",
         "1.64e+18",
         null,
         null,
         null,
         null,
         null,
         "1.64e+18",
         "1.64e+18",
         "583052859.0",
         "583052859.0",
         null,
         null,
         null,
         null,
         null,
         null,
         null,
         null,
         "1.0",
         "0.0",
         null,
         null,
         null,
         null,
         "1.64e+18",
         "1.64e+18",
         null,
         null
        ],
        [
         "75%",
         "1584137959.0",
         null,
         null,
         "1.64e+18",
         "1.64e+18",
         null,
         null,
         null,
         null,
         null,
         "1.64e+18",
         "1.64e+18",
         "7.53e+17",
         "7.53e+17",
         null,
         null,
         null,
         null,
         null,
         null,
         null,
         null,
         "13.0",
         "3.0",
         null,
         null,
         null,
         null,
         "1.64e+18",
         "1.64e+18",
         null,
         null
        ],
        [
         "max",
         "4927796391.0",
         null,
         null,
         "1.65e+18",
         "1.65e+18",
         null,
         null,
         null,
         null,
         null,
         "1.65e+18",
         "1.65e+18",
         "1.64e+18",
         "1.64e+18",
         null,
         null,
         null,
         null,
         null,
         null,
         null,
         null,
         "2859263.0",
         "333666.0",
         null,
         null,
         null,
         null,
         "1.65e+18",
         "1.65e+18",
         null,
         null
        ]
       ],
       "shape": {
        "columns": 32,
        "rows": 11
       }
      },
      "text/html": [
       "<div>\n",
       "<style scoped>\n",
       "    .dataframe tbody tr th:only-of-type {\n",
       "        vertical-align: middle;\n",
       "    }\n",
       "\n",
       "    .dataframe tbody tr th {\n",
       "        vertical-align: top;\n",
       "    }\n",
       "\n",
       "    .dataframe thead th {\n",
       "        text-align: right;\n",
       "    }\n",
       "</style>\n",
       "<table border=\"1\" class=\"dataframe\">\n",
       "  <thead>\n",
       "    <tr style=\"text-align: right;\">\n",
       "      <th></th>\n",
       "      <th>uid</th>\n",
       "      <th>label</th>\n",
       "      <th>created_at</th>\n",
       "      <th>id</th>\n",
       "      <th>id_str</th>\n",
       "      <th>text</th>\n",
       "      <th>truncated</th>\n",
       "      <th>entities</th>\n",
       "      <th>extended_entities</th>\n",
       "      <th>source</th>\n",
       "      <th>in_reply_to_status_id</th>\n",
       "      <th>in_reply_to_status_id_str</th>\n",
       "      <th>in_reply_to_user_id</th>\n",
       "      <th>in_reply_to_user_id_str</th>\n",
       "      <th>in_reply_to_screen_name</th>\n",
       "      <th>user</th>\n",
       "      <th>geo</th>\n",
       "      <th>coordinates</th>\n",
       "      <th>place</th>\n",
       "      <th>contributors</th>\n",
       "      <th>retweeted_status</th>\n",
       "      <th>is_quote_status</th>\n",
       "      <th>retweet_count</th>\n",
       "      <th>favorite_count</th>\n",
       "      <th>favorited</th>\n",
       "      <th>retweeted</th>\n",
       "      <th>possibly_sensitive</th>\n",
       "      <th>lang</th>\n",
       "      <th>quoted_status_id</th>\n",
       "      <th>quoted_status_id_str</th>\n",
       "      <th>quoted_status</th>\n",
       "      <th>withheld_in_countries</th>\n",
       "    </tr>\n",
       "  </thead>\n",
       "  <tbody>\n",
       "    <tr>\n",
       "      <th>count</th>\n",
       "      <td>2.524500e+04</td>\n",
       "      <td>25245</td>\n",
       "      <td>25245</td>\n",
       "      <td>2.524500e+04</td>\n",
       "      <td>2.524500e+04</td>\n",
       "      <td>25245</td>\n",
       "      <td>25245</td>\n",
       "      <td>25245</td>\n",
       "      <td>2649</td>\n",
       "      <td>25245</td>\n",
       "      <td>6.765000e+03</td>\n",
       "      <td>6.765000e+03</td>\n",
       "      <td>7.127000e+03</td>\n",
       "      <td>7.127000e+03</td>\n",
       "      <td>7127</td>\n",
       "      <td>25245</td>\n",
       "      <td>34</td>\n",
       "      <td>34</td>\n",
       "      <td>339</td>\n",
       "      <td>0.0</td>\n",
       "      <td>8329</td>\n",
       "      <td>25245</td>\n",
       "      <td>2.524500e+04</td>\n",
       "      <td>25245.000000</td>\n",
       "      <td>25245</td>\n",
       "      <td>25245</td>\n",
       "      <td>11113</td>\n",
       "      <td>25245</td>\n",
       "      <td>2.354000e+03</td>\n",
       "      <td>2.354000e+03</td>\n",
       "      <td>1504</td>\n",
       "      <td>5</td>\n",
       "    </tr>\n",
       "    <tr>\n",
       "      <th>unique</th>\n",
       "      <td>NaN</td>\n",
       "      <td>2</td>\n",
       "      <td>23490</td>\n",
       "      <td>NaN</td>\n",
       "      <td>NaN</td>\n",
       "      <td>23714</td>\n",
       "      <td>2</td>\n",
       "      <td>21810</td>\n",
       "      <td>2512</td>\n",
       "      <td>150</td>\n",
       "      <td>NaN</td>\n",
       "      <td>NaN</td>\n",
       "      <td>NaN</td>\n",
       "      <td>NaN</td>\n",
       "      <td>5052</td>\n",
       "      <td>2478</td>\n",
       "      <td>21</td>\n",
       "      <td>21</td>\n",
       "      <td>136</td>\n",
       "      <td>NaN</td>\n",
       "      <td>8023</td>\n",
       "      <td>2</td>\n",
       "      <td>NaN</td>\n",
       "      <td>NaN</td>\n",
       "      <td>1</td>\n",
       "      <td>1</td>\n",
       "      <td>2</td>\n",
       "      <td>59</td>\n",
       "      <td>NaN</td>\n",
       "      <td>NaN</td>\n",
       "      <td>1440</td>\n",
       "      <td>3</td>\n",
       "    </tr>\n",
       "    <tr>\n",
       "      <th>top</th>\n",
       "      <td>NaN</td>\n",
       "      <td>human</td>\n",
       "      <td>Tue May 26 19:29...</td>\n",
       "      <td>NaN</td>\n",
       "      <td>NaN</td>\n",
       "      <td>RT @martin_a_vin...</td>\n",
       "      <td>False</td>\n",
       "      <td>{'hashtags': [],...</td>\n",
       "      <td>{'media': [{'id'...</td>\n",
       "      <td>&lt;a href=\"http://...</td>\n",
       "      <td>NaN</td>\n",
       "      <td>NaN</td>\n",
       "      <td>NaN</td>\n",
       "      <td>NaN</td>\n",
       "      <td>elonmusk</td>\n",
       "      <td>{'id': 330290393...</td>\n",
       "      <td>{'type': 'Point'...</td>\n",
       "      <td>{'type': 'Point'...</td>\n",
       "      <td>{'id': '6d31e925...</td>\n",
       "      <td>NaN</td>\n",
       "      <td>{'created_at': '...</td>\n",
       "      <td>False</td>\n",
       "      <td>NaN</td>\n",
       "      <td>NaN</td>\n",
       "      <td>False</td>\n",
       "      <td>False</td>\n",
       "      <td>False</td>\n",
       "      <td>en</td>\n",
       "      <td>NaN</td>\n",
       "      <td>NaN</td>\n",
       "      <td>{'created_at': '...</td>\n",
       "      <td>['AT', 'BE', 'BG...</td>\n",
       "    </tr>\n",
       "    <tr>\n",
       "      <th>freq</th>\n",
       "      <td>NaN</td>\n",
       "      <td>16625</td>\n",
       "      <td>8</td>\n",
       "      <td>NaN</td>\n",
       "      <td>NaN</td>\n",
       "      <td>4</td>\n",
       "      <td>18484</td>\n",
       "      <td>1017</td>\n",
       "      <td>2</td>\n",
       "      <td>8265</td>\n",
       "      <td>NaN</td>\n",
       "      <td>NaN</td>\n",
       "      <td>NaN</td>\n",
       "      <td>NaN</td>\n",
       "      <td>35</td>\n",
       "      <td>20</td>\n",
       "      <td>7</td>\n",
       "      <td>7</td>\n",
       "      <td>12</td>\n",
       "      <td>NaN</td>\n",
       "      <td>4</td>\n",
       "      <td>22878</td>\n",
       "      <td>NaN</td>\n",
       "      <td>NaN</td>\n",
       "      <td>25245</td>\n",
       "      <td>25245</td>\n",
       "      <td>10982</td>\n",
       "      <td>20008</td>\n",
       "      <td>NaN</td>\n",
       "      <td>NaN</td>\n",
       "      <td>9</td>\n",
       "      <td>2</td>\n",
       "    </tr>\n",
       "    <tr>\n",
       "      <th>mean</th>\n",
       "      <td>9.658151e+08</td>\n",
       "      <td>NaN</td>\n",
       "      <td>NaN</td>\n",
       "      <td>1.499749e+18</td>\n",
       "      <td>1.499749e+18</td>\n",
       "      <td>NaN</td>\n",
       "      <td>NaN</td>\n",
       "      <td>NaN</td>\n",
       "      <td>NaN</td>\n",
       "      <td>NaN</td>\n",
       "      <td>1.557924e+18</td>\n",
       "      <td>1.557925e+18</td>\n",
       "      <td>3.107699e+17</td>\n",
       "      <td>3.107699e+17</td>\n",
       "      <td>NaN</td>\n",
       "      <td>NaN</td>\n",
       "      <td>NaN</td>\n",
       "      <td>NaN</td>\n",
       "      <td>NaN</td>\n",
       "      <td>NaN</td>\n",
       "      <td>NaN</td>\n",
       "      <td>NaN</td>\n",
       "      <td>7.564289e+02</td>\n",
       "      <td>285.087384</td>\n",
       "      <td>NaN</td>\n",
       "      <td>NaN</td>\n",
       "      <td>NaN</td>\n",
       "      <td>NaN</td>\n",
       "      <td>1.577704e+18</td>\n",
       "      <td>1.577704e+18</td>\n",
       "      <td>NaN</td>\n",
       "      <td>NaN</td>\n",
       "    </tr>\n",
       "    <tr>\n",
       "      <th>...</th>\n",
       "      <td>...</td>\n",
       "      <td>...</td>\n",
       "      <td>...</td>\n",
       "      <td>...</td>\n",
       "      <td>...</td>\n",
       "      <td>...</td>\n",
       "      <td>...</td>\n",
       "      <td>...</td>\n",
       "      <td>...</td>\n",
       "      <td>...</td>\n",
       "      <td>...</td>\n",
       "      <td>...</td>\n",
       "      <td>...</td>\n",
       "      <td>...</td>\n",
       "      <td>...</td>\n",
       "      <td>...</td>\n",
       "      <td>...</td>\n",
       "      <td>...</td>\n",
       "      <td>...</td>\n",
       "      <td>...</td>\n",
       "      <td>...</td>\n",
       "      <td>...</td>\n",
       "      <td>...</td>\n",
       "      <td>...</td>\n",
       "      <td>...</td>\n",
       "      <td>...</td>\n",
       "      <td>...</td>\n",
       "      <td>...</td>\n",
       "      <td>...</td>\n",
       "      <td>...</td>\n",
       "      <td>...</td>\n",
       "      <td>...</td>\n",
       "    </tr>\n",
       "    <tr>\n",
       "      <th>min</th>\n",
       "      <td>5.800000e+01</td>\n",
       "      <td>NaN</td>\n",
       "      <td>NaN</td>\n",
       "      <td>1.790147e+09</td>\n",
       "      <td>1.790147e+09</td>\n",
       "      <td>NaN</td>\n",
       "      <td>NaN</td>\n",
       "      <td>NaN</td>\n",
       "      <td>NaN</td>\n",
       "      <td>NaN</td>\n",
       "      <td>1.050000e+16</td>\n",
       "      <td>1.050000e+16</td>\n",
       "      <td>5.900000e+01</td>\n",
       "      <td>5.900000e+01</td>\n",
       "      <td>NaN</td>\n",
       "      <td>NaN</td>\n",
       "      <td>NaN</td>\n",
       "      <td>NaN</td>\n",
       "      <td>NaN</td>\n",
       "      <td>NaN</td>\n",
       "      <td>NaN</td>\n",
       "      <td>NaN</td>\n",
       "      <td>0.000000e+00</td>\n",
       "      <td>0.000000</td>\n",
       "      <td>NaN</td>\n",
       "      <td>NaN</td>\n",
       "      <td>NaN</td>\n",
       "      <td>NaN</td>\n",
       "      <td>1.720000e+17</td>\n",
       "      <td>1.720000e+17</td>\n",
       "      <td>NaN</td>\n",
       "      <td>NaN</td>\n",
       "    </tr>\n",
       "    <tr>\n",
       "      <th>25%</th>\n",
       "      <td>6.292987e+07</td>\n",
       "      <td>NaN</td>\n",
       "      <td>NaN</td>\n",
       "      <td>1.540000e+18</td>\n",
       "      <td>1.540000e+18</td>\n",
       "      <td>NaN</td>\n",
       "      <td>NaN</td>\n",
       "      <td>NaN</td>\n",
       "      <td>NaN</td>\n",
       "      <td>NaN</td>\n",
       "      <td>1.590000e+18</td>\n",
       "      <td>1.590000e+18</td>\n",
       "      <td>8.762442e+07</td>\n",
       "      <td>8.762442e+07</td>\n",
       "      <td>NaN</td>\n",
       "      <td>NaN</td>\n",
       "      <td>NaN</td>\n",
       "      <td>NaN</td>\n",
       "      <td>NaN</td>\n",
       "      <td>NaN</td>\n",
       "      <td>NaN</td>\n",
       "      <td>NaN</td>\n",
       "      <td>0.000000e+00</td>\n",
       "      <td>0.000000</td>\n",
       "      <td>NaN</td>\n",
       "      <td>NaN</td>\n",
       "      <td>NaN</td>\n",
       "      <td>NaN</td>\n",
       "      <td>1.590000e+18</td>\n",
       "      <td>1.590000e+18</td>\n",
       "      <td>NaN</td>\n",
       "      <td>NaN</td>\n",
       "    </tr>\n",
       "    <tr>\n",
       "      <th>50%</th>\n",
       "      <td>3.074159e+08</td>\n",
       "      <td>NaN</td>\n",
       "      <td>NaN</td>\n",
       "      <td>1.640000e+18</td>\n",
       "      <td>1.640000e+18</td>\n",
       "      <td>NaN</td>\n",
       "      <td>NaN</td>\n",
       "      <td>NaN</td>\n",
       "      <td>NaN</td>\n",
       "      <td>NaN</td>\n",
       "      <td>1.640000e+18</td>\n",
       "      <td>1.640000e+18</td>\n",
       "      <td>5.830529e+08</td>\n",
       "      <td>5.830529e+08</td>\n",
       "      <td>NaN</td>\n",
       "      <td>NaN</td>\n",
       "      <td>NaN</td>\n",
       "      <td>NaN</td>\n",
       "      <td>NaN</td>\n",
       "      <td>NaN</td>\n",
       "      <td>NaN</td>\n",
       "      <td>NaN</td>\n",
       "      <td>1.000000e+00</td>\n",
       "      <td>0.000000</td>\n",
       "      <td>NaN</td>\n",
       "      <td>NaN</td>\n",
       "      <td>NaN</td>\n",
       "      <td>NaN</td>\n",
       "      <td>1.640000e+18</td>\n",
       "      <td>1.640000e+18</td>\n",
       "      <td>NaN</td>\n",
       "      <td>NaN</td>\n",
       "    </tr>\n",
       "    <tr>\n",
       "      <th>75%</th>\n",
       "      <td>1.584138e+09</td>\n",
       "      <td>NaN</td>\n",
       "      <td>NaN</td>\n",
       "      <td>1.640000e+18</td>\n",
       "      <td>1.640000e+18</td>\n",
       "      <td>NaN</td>\n",
       "      <td>NaN</td>\n",
       "      <td>NaN</td>\n",
       "      <td>NaN</td>\n",
       "      <td>NaN</td>\n",
       "      <td>1.640000e+18</td>\n",
       "      <td>1.640000e+18</td>\n",
       "      <td>7.530000e+17</td>\n",
       "      <td>7.530000e+17</td>\n",
       "      <td>NaN</td>\n",
       "      <td>NaN</td>\n",
       "      <td>NaN</td>\n",
       "      <td>NaN</td>\n",
       "      <td>NaN</td>\n",
       "      <td>NaN</td>\n",
       "      <td>NaN</td>\n",
       "      <td>NaN</td>\n",
       "      <td>1.300000e+01</td>\n",
       "      <td>3.000000</td>\n",
       "      <td>NaN</td>\n",
       "      <td>NaN</td>\n",
       "      <td>NaN</td>\n",
       "      <td>NaN</td>\n",
       "      <td>1.640000e+18</td>\n",
       "      <td>1.640000e+18</td>\n",
       "      <td>NaN</td>\n",
       "      <td>NaN</td>\n",
       "    </tr>\n",
       "    <tr>\n",
       "      <th>max</th>\n",
       "      <td>4.927796e+09</td>\n",
       "      <td>NaN</td>\n",
       "      <td>NaN</td>\n",
       "      <td>1.650000e+18</td>\n",
       "      <td>1.650000e+18</td>\n",
       "      <td>NaN</td>\n",
       "      <td>NaN</td>\n",
       "      <td>NaN</td>\n",
       "      <td>NaN</td>\n",
       "      <td>NaN</td>\n",
       "      <td>1.650000e+18</td>\n",
       "      <td>1.650000e+18</td>\n",
       "      <td>1.640000e+18</td>\n",
       "      <td>1.640000e+18</td>\n",
       "      <td>NaN</td>\n",
       "      <td>NaN</td>\n",
       "      <td>NaN</td>\n",
       "      <td>NaN</td>\n",
       "      <td>NaN</td>\n",
       "      <td>NaN</td>\n",
       "      <td>NaN</td>\n",
       "      <td>NaN</td>\n",
       "      <td>2.859263e+06</td>\n",
       "      <td>333666.000000</td>\n",
       "      <td>NaN</td>\n",
       "      <td>NaN</td>\n",
       "      <td>NaN</td>\n",
       "      <td>NaN</td>\n",
       "      <td>1.650000e+18</td>\n",
       "      <td>1.650000e+18</td>\n",
       "      <td>NaN</td>\n",
       "      <td>NaN</td>\n",
       "    </tr>\n",
       "  </tbody>\n",
       "</table>\n",
       "<p>11 rows × 32 columns</p>\n",
       "</div>"
      ],
      "text/plain": [
       "                 uid  label           created_at            id        id_str  \\\n",
       "count   2.524500e+04  25245                25245  2.524500e+04  2.524500e+04   \n",
       "unique           NaN      2                23490           NaN           NaN   \n",
       "top              NaN  human  Tue May 26 19:29...           NaN           NaN   \n",
       "freq             NaN  16625                    8           NaN           NaN   \n",
       "mean    9.658151e+08    NaN                  NaN  1.499749e+18  1.499749e+18   \n",
       "...              ...    ...                  ...           ...           ...   \n",
       "min     5.800000e+01    NaN                  NaN  1.790147e+09  1.790147e+09   \n",
       "25%     6.292987e+07    NaN                  NaN  1.540000e+18  1.540000e+18   \n",
       "50%     3.074159e+08    NaN                  NaN  1.640000e+18  1.640000e+18   \n",
       "75%     1.584138e+09    NaN                  NaN  1.640000e+18  1.640000e+18   \n",
       "max     4.927796e+09    NaN                  NaN  1.650000e+18  1.650000e+18   \n",
       "\n",
       "                       text truncated             entities  \\\n",
       "count                 25245     25245                25245   \n",
       "unique                23714         2                21810   \n",
       "top     RT @martin_a_vin...     False  {'hashtags': [],...   \n",
       "freq                      4     18484                 1017   \n",
       "mean                    NaN       NaN                  NaN   \n",
       "...                     ...       ...                  ...   \n",
       "min                     NaN       NaN                  NaN   \n",
       "25%                     NaN       NaN                  NaN   \n",
       "50%                     NaN       NaN                  NaN   \n",
       "75%                     NaN       NaN                  NaN   \n",
       "max                     NaN       NaN                  NaN   \n",
       "\n",
       "          extended_entities               source  in_reply_to_status_id  \\\n",
       "count                  2649                25245         6.765000e+03     \n",
       "unique                 2512                  150                  NaN     \n",
       "top     {'media': [{'id'...  <a href=\"http://...                  NaN     \n",
       "freq                      2                 8265                  NaN     \n",
       "mean                    NaN                  NaN         1.557924e+18     \n",
       "...                     ...                  ...                  ...     \n",
       "min                     NaN                  NaN         1.050000e+16     \n",
       "25%                     NaN                  NaN         1.590000e+18     \n",
       "50%                     NaN                  NaN         1.640000e+18     \n",
       "75%                     NaN                  NaN         1.640000e+18     \n",
       "max                     NaN                  NaN         1.650000e+18     \n",
       "\n",
       "        in_reply_to_status_id_str  in_reply_to_user_id  \\\n",
       "count          6.765000e+03               7.127000e+03   \n",
       "unique                  NaN                        NaN   \n",
       "top                     NaN                        NaN   \n",
       "freq                    NaN                        NaN   \n",
       "mean           1.557925e+18               3.107699e+17   \n",
       "...                     ...                        ...   \n",
       "min            1.050000e+16               5.900000e+01   \n",
       "25%            1.590000e+18               8.762442e+07   \n",
       "50%            1.640000e+18               5.830529e+08   \n",
       "75%            1.640000e+18               7.530000e+17   \n",
       "max            1.650000e+18               1.640000e+18   \n",
       "\n",
       "        in_reply_to_user_id_str in_reply_to_screen_name                 user  \\\n",
       "count          7.127000e+03                     7127                   25245   \n",
       "unique                  NaN                     5052                    2478   \n",
       "top                     NaN                 elonmusk     {'id': 330290393...   \n",
       "freq                    NaN                       35                      20   \n",
       "mean           3.107699e+17                      NaN                     NaN   \n",
       "...                     ...                      ...                     ...   \n",
       "min            5.900000e+01                      NaN                     NaN   \n",
       "25%            8.762442e+07                      NaN                     NaN   \n",
       "50%            5.830529e+08                      NaN                     NaN   \n",
       "75%            7.530000e+17                      NaN                     NaN   \n",
       "max            1.640000e+18                      NaN                     NaN   \n",
       "\n",
       "                        geo          coordinates                place  \\\n",
       "count                    34                   34                  339   \n",
       "unique                   21                   21                  136   \n",
       "top     {'type': 'Point'...  {'type': 'Point'...  {'id': '6d31e925...   \n",
       "freq                      7                    7                   12   \n",
       "mean                    NaN                  NaN                  NaN   \n",
       "...                     ...                  ...                  ...   \n",
       "min                     NaN                  NaN                  NaN   \n",
       "25%                     NaN                  NaN                  NaN   \n",
       "50%                     NaN                  NaN                  NaN   \n",
       "75%                     NaN                  NaN                  NaN   \n",
       "max                     NaN                  NaN                  NaN   \n",
       "\n",
       "        contributors     retweeted_status is_quote_status  retweet_count  \\\n",
       "count            0.0                 8329           25245   2.524500e+04   \n",
       "unique           NaN                 8023               2            NaN   \n",
       "top              NaN  {'created_at': '...           False            NaN   \n",
       "freq             NaN                    4           22878            NaN   \n",
       "mean             NaN                  NaN             NaN   7.564289e+02   \n",
       "...              ...                  ...             ...            ...   \n",
       "min              NaN                  NaN             NaN   0.000000e+00   \n",
       "25%              NaN                  NaN             NaN   0.000000e+00   \n",
       "50%              NaN                  NaN             NaN   1.000000e+00   \n",
       "75%              NaN                  NaN             NaN   1.300000e+01   \n",
       "max              NaN                  NaN             NaN   2.859263e+06   \n",
       "\n",
       "        favorite_count favorited retweeted possibly_sensitive   lang  \\\n",
       "count     25245.000000     25245     25245              11113  25245   \n",
       "unique             NaN         1         1                  2     59   \n",
       "top                NaN     False     False              False     en   \n",
       "freq               NaN     25245     25245              10982  20008   \n",
       "mean        285.087384       NaN       NaN                NaN    NaN   \n",
       "...                ...       ...       ...                ...    ...   \n",
       "min           0.000000       NaN       NaN                NaN    NaN   \n",
       "25%           0.000000       NaN       NaN                NaN    NaN   \n",
       "50%           0.000000       NaN       NaN                NaN    NaN   \n",
       "75%           3.000000       NaN       NaN                NaN    NaN   \n",
       "max      333666.000000       NaN       NaN                NaN    NaN   \n",
       "\n",
       "        quoted_status_id  quoted_status_id_str        quoted_status  \\\n",
       "count       2.354000e+03         2.354000e+03                  1504   \n",
       "unique               NaN                  NaN                  1440   \n",
       "top                  NaN                  NaN   {'created_at': '...   \n",
       "freq                 NaN                  NaN                     9   \n",
       "mean        1.577704e+18         1.577704e+18                   NaN   \n",
       "...                  ...                  ...                   ...   \n",
       "min         1.720000e+17         1.720000e+17                   NaN   \n",
       "25%         1.590000e+18         1.590000e+18                   NaN   \n",
       "50%         1.640000e+18         1.640000e+18                   NaN   \n",
       "75%         1.640000e+18         1.640000e+18                   NaN   \n",
       "max         1.650000e+18         1.650000e+18                   NaN   \n",
       "\n",
       "       withheld_in_countries  \n",
       "count                     5   \n",
       "unique                    3   \n",
       "top     ['AT', 'BE', 'BG...   \n",
       "freq                      2   \n",
       "mean                    NaN   \n",
       "...                     ...   \n",
       "min                     NaN   \n",
       "25%                     NaN   \n",
       "50%                     NaN   \n",
       "75%                     NaN   \n",
       "max                     NaN   \n",
       "\n",
       "[11 rows x 32 columns]"
      ]
     },
     "execution_count": 150,
     "metadata": {},
     "output_type": "execute_result"
    }
   ],
   "source": [
    "\n",
    "df = pd.read_csv('status_25k.csv', encoding='utf-8') if os.path.exists('status_25k.csv') else pd.read_csv('https://raw.githubusercontent.com/monoerea/twt-xnn-mlops/main/Exercises/Week5/status_25k.csv', encoding='utf-8', engine='python')\n",
    "df.head(5)\n",
    "count1, count2 = df['label'].value_counts().get(1, 0), df['label'].value_counts().get(0, 0)\n",
    "print('counts',count1, count2)\n",
    "df.info()\n",
    "df.describe(include='all')"
   ]
  },
  {
   "cell_type": "markdown",
   "id": "0289c34b",
   "metadata": {},
   "source": [
    "## 3. Data Cleaning & Preprocessing & EDA\n",
    "<a id=\"3=data-cleaning--preprocessing--eda\"></a>\n",
    "\n",
    "The following observations are based on an initial inspection of the dataset. The detailed cleaning and preprocessing steps will be laid out in subsequent stages."
   ]
  },
  {
   "cell_type": "markdown",
   "id": "fd445200",
   "metadata": {},
   "source": [
    "\n",
    "### Preprocessing & Pruning\n",
    "- **Column Redundancy**: Remove `id_str` (string copy of `id`) and `user` (separate domain).  \n",
    "- **Missing-Value Handling**: Retain rows with up to 75% nulls to preserve potentially useful records and drop columns with 100% or 99.9% nulls (e.g., `contributors`, `withheld_in_countries`).\n",
    "\n"
   ]
  },
  {
   "cell_type": "markdown",
   "id": "44698878",
   "metadata": {},
   "source": [
    "##### Simplification & Removal\n",
    "- Removing low-signal fields such as `in_reply_to_*`, `retweeted_status`, and `quoted_status`.\n",
    "- Introducing `is_retweeted_status` to preserve retweet relationships without the complexity of nested objects.\n",
    "\n",
    "    ##### Dropping the columns\n",
    "        -  outside of the scope of the domain,\n",
    "        -  is completely null\n",
    "        -  for simplicity"
   ]
  },
  {
   "cell_type": "code",
   "execution_count": 151,
   "id": "53acb4f0",
   "metadata": {},
   "outputs": [
    {
     "name": "stdout",
     "output_type": "stream",
     "text": [
      "Index(['uid', 'label', 'created_at', 'id', 'id_str', 'text', 'truncated',\n",
      "       'entities', 'extended_entities', 'source', 'in_reply_to_status_id',\n",
      "       'in_reply_to_status_id_str', 'in_reply_to_user_id',\n",
      "       'in_reply_to_user_id_str', 'in_reply_to_screen_name', 'user', 'geo',\n",
      "       'coordinates', 'place', 'contributors', 'retweeted_status',\n",
      "       'is_quote_status', 'retweet_count', 'favorite_count', 'favorited',\n",
      "       'retweeted', 'possibly_sensitive', 'lang', 'quoted_status_id',\n",
      "       'quoted_status_id_str', 'quoted_status', 'withheld_in_countries'],\n",
      "      dtype='object')\n",
      "<class 'pandas.core.frame.DataFrame'>\n",
      "RangeIndex: 25245 entries, 0 to 25244\n",
      "Data columns (total 17 columns):\n",
      " #   Column              Non-Null Count  Dtype  \n",
      "---  ------              --------------  -----  \n",
      " 0   label               25245 non-null  object \n",
      " 1   created_at          25245 non-null  object \n",
      " 2   id                  25245 non-null  float64\n",
      " 3   truncated           25245 non-null  bool   \n",
      " 4   entities            25245 non-null  object \n",
      " 5   extended_entities   2649 non-null   object \n",
      " 6   source              25245 non-null  object \n",
      " 7   coordinates         34 non-null     object \n",
      " 8   place               339 non-null    object \n",
      " 9   is_quote_status     25245 non-null  bool   \n",
      " 10  retweet_count       25245 non-null  int64  \n",
      " 11  favorite_count      25245 non-null  int64  \n",
      " 12  favorited           25245 non-null  bool   \n",
      " 13  retweeted           25245 non-null  bool   \n",
      " 14  possibly_sensitive  11113 non-null  object \n",
      " 15  lang                25245 non-null  object \n",
      " 16  is_retweet          25245 non-null  bool   \n",
      "dtypes: bool(5), float64(1), int64(2), object(9)\n",
      "memory usage: 2.4+ MB\n",
      "None\n"
     ]
    }
   ],
   "source": [
    "print(df.columns)\n",
    "df.drop(columns=['uid','in_reply_to_status_id',\n",
    "    'in_reply_to_status_id_str', 'in_reply_to_user_id',\n",
    "    'in_reply_to_user_id_str', 'in_reply_to_screen_name', 'user', 'contributors', 'id_str','withheld_in_countries', 'geo', 'quoted_status_id','quoted_status_id_str','quoted_status'], inplace=True)\n",
    "df['is_retweet'] = df['text'].map(lambda x: False if x.find('RT') == -1 else True)\n",
    "df.drop(columns=['retweeted_status'], inplace=True)\n",
    "df.drop(columns = ['text'], inplace=True)\n",
    "df = df[df.isnull().mean(axis=1) <= .75]\n",
    "df = df.drop(columns=df.columns[df.isnull().mean() > 1])\n",
    "df.describe(include='all')\n",
    "print(df.info())"
   ]
  },
  {
   "cell_type": "markdown",
   "id": "81362111",
   "metadata": {},
   "source": [
    "#### Feature Derivation & Simplification\n"
   ]
  },
  {
   "cell_type": "markdown",
   "id": "6fcaaa3e",
   "metadata": {},
   "source": [
    "##### Content Classification & Retweet Detection\n",
    "- Flag posts starting with \"RT\" as `is_retweet`.  \n",
    "- Optionally, apply a pre-trained classifier to categorize sentiment in the text.\n",
    "\n",
    "##### Entity, Media, and Source Extraction\n",
    "- Extract counts for `user_mentions_count`, `entity_urls_count`, `hashtags_count`, and `symbols_count` from the `entities` field.  \n",
    "- For `extended_entities`, capture the `media_type` and `monetizable` attributes.  \n",
    "- Parse the `source` field and retain the platform information (e.g., \"Twitter for iPhone\").\n",
    "\n",
    "##### Location Data Enhancement\n",
    "- From the `coordinates` field, extract the `location_type`, `longitude`, and `latitude` (preferred over `geo`).  \n",
    "- Derive `place_type`, `place_name`, and `country_code` from the `place` field, while dropping `full_name`, `country`, and `bounding_box` for simplicity.\n",
    "\n",
    "---"
   ]
  },
  {
   "cell_type": "markdown",
   "id": "894b4074",
   "metadata": {},
   "source": [
    "##### Adding and replacing columns\n",
    "Replacing the data that is too convoluted for the scope with more numerical values and therefor can be interpreted easily.\n",
    "Features that has been determined to be this property are processed and the new columns are generated below."
   ]
  },
  {
   "cell_type": "markdown",
   "id": "286e6859",
   "metadata": {},
   "source": [
    "\n",
    "1. Deriving from `extended_entities`\n",
    "   1. media_type\n",
    "   - is represented as a string from the original dataset but is of dictionary format.\n",
    "     - the data is first converted to its literal type, dict.\n",
    "     - media_type is derived from the type attribute of the media attr.\n",
    "     - calculated the nonnull values for checking."
   ]
  },
  {
   "cell_type": "code",
   "execution_count": 152,
   "id": "f49fe0a9",
   "metadata": {},
   "outputs": [
    {
     "name": "stdout",
     "output_type": "stream",
     "text": [
      "25245\n"
     ]
    }
   ],
   "source": [
    "df['extended_entities'] = df['extended_entities'].map(\n",
    "    lambda x: ast.literal_eval(x) if pd.notna(x) else None\n",
    ")\n",
    "\n",
    "df['media_type'] = df['extended_entities'].map(\n",
    "    lambda x: x['media'][0]['type'] if pd.notna(x) else None\n",
    ").astype('category').cat.codes\n",
    "print(df['media_type'].notna().sum())"
   ]
  },
  {
   "cell_type": "markdown",
   "id": "7a739f90",
   "metadata": {},
   "source": [
    "2. duration_millis\n",
    "     - duration_millis is derived from the type attribute of the media attr.\n",
    "     - This represents the duration of the video, if the media_type is video.\n",
    "     - calculated the nonnull values for checking."
   ]
  },
  {
   "cell_type": "code",
   "execution_count": 153,
   "id": "21b516ed",
   "metadata": {},
   "outputs": [
    {
     "name": "stdout",
     "output_type": "stream",
     "text": [
      "0        16349.0\n",
      "1        51708.0\n",
      "2        28778.0\n",
      "3            NaN\n",
      "4            NaN\n",
      "          ...   \n",
      "25240        NaN\n",
      "25241        NaN\n",
      "25242        NaN\n",
      "25243        NaN\n",
      "25244        NaN\n",
      "Name: duration_millis, Length: 25245, dtype: float64\n",
      "503\n"
     ]
    }
   ],
   "source": [
    "\n",
    "df['duration_millis'] = df['extended_entities'].map(lambda x: x.get('media', [{}])[0].get('video_info', {}).get('duration_millis') if isinstance(x, (str, dict)) else None)\n",
    "print(df['duration_millis'])\n",
    "print(df['duration_millis'].notna().sum())"
   ]
  },
  {
   "cell_type": "markdown",
   "id": "30184e33",
   "metadata": {},
   "source": [
    "3. monetizable\n",
    "     - monetizable is derived from the type attribute of the media attr.\n",
    "     - This represents if the video is monetizable in boolean values true or false, if the media_type is video.\n",
    "     - calculated the nonnull values for checking."
   ]
  },
  {
   "cell_type": "code",
   "execution_count": 154,
   "id": "fa6969f9",
   "metadata": {},
   "outputs": [
    {
     "name": "stdout",
     "output_type": "stream",
     "text": [
      "0        False\n",
      "1        False\n",
      "2        False\n",
      "3         None\n",
      "4         None\n",
      "         ...  \n",
      "25240     None\n",
      "25241     None\n",
      "25242     None\n",
      "25243     None\n",
      "25244     None\n",
      "Name: monetizable, Length: 25245, dtype: object\n",
      "504\n"
     ]
    }
   ],
   "source": [
    "\n",
    "df['monetizable'] = df['extended_entities'].map(lambda x: x.get('media', [{}])[0].get('additional_media_info', {}).get('monetizable') if isinstance(x, (str, dict)) else None)\n",
    "print(df['monetizable'])\n",
    "print(df['monetizable'].notna().sum())\n",
    "df.drop(columns=['extended_entities'], inplace=True)"
   ]
  },
  {
   "cell_type": "markdown",
   "id": "a03a1757",
   "metadata": {},
   "source": [
    "2. Deriving from place column\n",
    "   - Convert place which is still a string literal dictionary to a dicttionary\n"
   ]
  },
  {
   "cell_type": "code",
   "execution_count": 155,
   "id": "04dd6a9b",
   "metadata": {},
   "outputs": [],
   "source": [
    "df['place'] = df['place'].map(\n",
    "    lambda x: ast.literal_eval(x) if pd.notna(x) else None\n",
    ")"
   ]
  },
  {
   "cell_type": "markdown",
   "id": "b5e27254",
   "metadata": {},
   "source": [
    "- derive the associated values such as:\n",
    "     - `place_type`: from `place_type`\n",
    "     - `place_name`: from `name`\n",
    "     - `country_code`: from `country_code`"
   ]
  },
  {
   "cell_type": "code",
   "execution_count": 156,
   "id": "9f11d77d",
   "metadata": {},
   "outputs": [
    {
     "name": "stdout",
     "output_type": "stream",
     "text": [
      "place_type      339\n",
      "place_name      339\n",
      "country_code    339\n",
      "dtype: int64\n"
     ]
    }
   ],
   "source": [
    "df['place_type'] = df['place'].map(\n",
    "    lambda x: x['place_type'] if pd.notna(x) else None\n",
    ")\n",
    "df['place_name'] = df['place'].map(\n",
    "    lambda x: x['name'] if pd.notna(x) else None\n",
    ")\n",
    "df['country_code'] = df['place'].map(\n",
    "    lambda x: x['country_code'] if pd.notna(x) else None\n",
    ")\n",
    "\n",
    "print(df[['place_type', 'place_name','country_code']].notna().sum())"
   ]
  },
  {
   "cell_type": "markdown",
   "id": "760c25cc",
   "metadata": {},
   "source": [
    "4. Deriving from coordinates column\n",
    "   - Convert place which is still a string literal dictionary to a dicttionary\n"
   ]
  },
  {
   "cell_type": "code",
   "execution_count": 157,
   "id": "08f4d145",
   "metadata": {},
   "outputs": [],
   "source": [
    "df['coordinates'] = df['coordinates'].map(\n",
    "    lambda x: ast.literal_eval(x) if pd.notna(x) else None\n",
    ")"
   ]
  },
  {
   "cell_type": "markdown",
   "id": "6a5f897a",
   "metadata": {},
   "source": [
    "- `country_code`\n",
    "- `location_type`: from `type` property\n",
    "- `longitude`: first coordinate\n",
    "- `latitude`: second coordinate"
   ]
  },
  {
   "cell_type": "code",
   "execution_count": 158,
   "id": "44b553fd",
   "metadata": {},
   "outputs": [
    {
     "name": "stdout",
     "output_type": "stream",
     "text": [
      "location_type    25245\n",
      "longitude           34\n",
      "latitude            34\n",
      "dtype: int64\n"
     ]
    }
   ],
   "source": [
    "\n",
    "df['location_type'] = df['coordinates'].map(lambda x: x['type'] if pd.notna(x) else None).astype('category').cat.codes\n",
    "df['longitude'] = df['coordinates'].map(lambda x: x['coordinates'][0] if pd.notna(x) else None)\n",
    "df['latitude'] = df['coordinates'].map(lambda x: x['coordinates'][1] if pd.notna(x) else None)\n",
    "print(df[['location_type', 'longitude','latitude']].notna().sum())\n",
    "df.drop(columns=['place','coordinates'], inplace=True)"
   ]
  },
  {
   "cell_type": "markdown",
   "id": "97c40218",
   "metadata": {},
   "source": [
    "1. Parsing Entity Counts\n",
    "\n",
    "Extracting engagement metrics from the `entities` string/dict:"
   ]
  },
  {
   "cell_type": "code",
   "execution_count": 159,
   "id": "049b7846",
   "metadata": {},
   "outputs": [],
   "source": [
    "df['entities'] = df['entities'].apply(\n",
    "    lambda x: ast.literal_eval(x) if isinstance(x, str) else x\n",
    ")"
   ]
  },
  {
   "cell_type": "code",
   "execution_count": 160,
   "id": "017839c1",
   "metadata": {},
   "outputs": [],
   "source": [
    "df['hashtags_count'] = df['entities'].apply(lambda x: (len(x['hashtags'])))\n",
    "df['mentions_count'] = df['entities'].apply(lambda x: (len(x['user_mentions'])))\n",
    "df['urls_count'] = df['entities'].apply(lambda x: (len(x['urls'])))"
   ]
  },
  {
   "cell_type": "markdown",
   "id": "fd85a2de",
   "metadata": {},
   "source": [
    "6. Cleaning Client Source Data\n",
    "   - Extract clean app names from HTML tags:"
   ]
  },
  {
   "cell_type": "code",
   "execution_count": 161,
   "id": "45ac1003",
   "metadata": {},
   "outputs": [
    {
     "name": "stdout",
     "output_type": "stream",
     "text": [
      "0        33\n",
      "1        33\n",
      "2        41\n",
      "3        41\n",
      "4        33\n",
      "         ..\n",
      "25240     4\n",
      "25241     4\n",
      "25242     4\n",
      "25243     4\n",
      "25244     4\n",
      "Name: source, Length: 25245, dtype: int8\n"
     ]
    }
   ],
   "source": [
    "df['source'] = df['source'].str.extract(r'href=\"([^\"]+)\"')[0].str.split('/').str[-1].str.split('.').str[0].str.lower().astype('category').cat.codes\n",
    "print(df['source'])\n"
   ]
  },
  {
   "cell_type": "markdown",
   "id": "15cc5070",
   "metadata": {},
   "source": [
    "3. Datetime Enhancement\n",
    "    - Convert Twitter's timestamp format to useful features:"
   ]
  },
  {
   "cell_type": "code",
   "execution_count": 162,
   "id": "10cbeefd",
   "metadata": {},
   "outputs": [],
   "source": [
    "df['created_at'] = pd.to_datetime(\n",
    "    df['created_at'],\n",
    "    format='%a %b %d %H:%M:%S %z %Y'\n",
    ")\n",
    "\n",
    "df['post_hour'] = df['created_at'].dt.hour\n",
    "df['is_weekend'] = df['created_at'].dt.weekday >= 5\n",
    "df['day_of_week'] = df['created_at'].dt.day_name()"
   ]
  },
  {
   "cell_type": "markdown",
   "id": "13fddbd3",
   "metadata": {},
   "source": [
    "4. Cleanup of the produced new features and transformation of object values to int."
   ]
  },
  {
   "cell_type": "code",
   "execution_count": 163,
   "id": "5b913e25",
   "metadata": {},
   "outputs": [],
   "source": [
    "df = df.drop(columns=['entities', 'created_at'])\n",
    "df['possibly_sensitive'] = df['possibly_sensitive'].map(\n",
    "    lambda x: True if x == 'true' else False\n",
    ")\n",
    "df.to_csv('bot_tweets_cleaned.csv', index=False, encoding='utf-8')"
   ]
  },
  {
   "cell_type": "markdown",
   "id": "54fde05b",
   "metadata": {},
   "source": [
    "### Missing Value Analysis\n",
    "---\n",
    "\n",
    "This section focuses on analyzing features with missing values to ensure the data is properly prepared for modeling. Features with over 99% missing values will be carefully examined, as even with high missingness, they may still contain valuable information. The purpose of this analysis is to understand the nature of missingness and how it may affect the results.\n",
    "\n",
    "The missingness of each feature will be assessed to identify whether the missing data is:\n",
    "\n",
    "- **MCAR (Missing Completely at Random)**: The missingness is random and does not depend on any observed or unobserved data. No special handling is required.\n",
    "- **MNAR (Missing Not at Random)**: The missingness is related to the missing data itself, which could introduce bias. This will require more careful treatment, such as imputation models.\n",
    "- **MAR (Missing at Random)**: The missingness is related to other observed data. Standard imputation methods like mean imputation may be used here.\n",
    "\n",
    "---\n",
    "Based on the results of the missing value analysis, the appropriate imputation techniques will be applied, decisions will be made regarding feature retention, and data transformations will continue to prepare the dataset for model building.\n"
   ]
  },
  {
   "cell_type": "markdown",
   "id": "5c4e6e01",
   "metadata": {},
   "source": [
    "#### Data Summary\n",
    "---\n",
    "Using df.describe(include='all'), we generate a comprehensive summary of the dataset, highlighting key statistical information, including missing values. This is augmented by adding missingness information to give a clearer picture of the dataset’s health."
   ]
  },
  {
   "cell_type": "code",
   "execution_count": 164,
   "id": "17308a0a",
   "metadata": {},
   "outputs": [
    {
     "data": {
      "application/vnd.microsoft.datawrangler.viewer.v0+json": {
       "columns": [
        {
         "name": "index",
         "rawType": "object",
         "type": "string"
        },
        {
         "name": "label",
         "rawType": "object",
         "type": "unknown"
        },
        {
         "name": "id",
         "rawType": "float64",
         "type": "float"
        },
        {
         "name": "truncated",
         "rawType": "object",
         "type": "unknown"
        },
        {
         "name": "source",
         "rawType": "float64",
         "type": "float"
        },
        {
         "name": "is_quote_status",
         "rawType": "object",
         "type": "unknown"
        },
        {
         "name": "retweet_count",
         "rawType": "float64",
         "type": "float"
        },
        {
         "name": "favorite_count",
         "rawType": "float64",
         "type": "float"
        },
        {
         "name": "favorited",
         "rawType": "object",
         "type": "unknown"
        },
        {
         "name": "retweeted",
         "rawType": "object",
         "type": "unknown"
        },
        {
         "name": "possibly_sensitive",
         "rawType": "object",
         "type": "unknown"
        },
        {
         "name": "lang",
         "rawType": "object",
         "type": "unknown"
        },
        {
         "name": "is_retweet",
         "rawType": "object",
         "type": "unknown"
        },
        {
         "name": "media_type",
         "rawType": "float64",
         "type": "float"
        },
        {
         "name": "duration_millis",
         "rawType": "float64",
         "type": "float"
        },
        {
         "name": "monetizable",
         "rawType": "object",
         "type": "unknown"
        },
        {
         "name": "place_type",
         "rawType": "object",
         "type": "unknown"
        },
        {
         "name": "place_name",
         "rawType": "object",
         "type": "unknown"
        },
        {
         "name": "country_code",
         "rawType": "object",
         "type": "unknown"
        },
        {
         "name": "location_type",
         "rawType": "float64",
         "type": "float"
        },
        {
         "name": "longitude",
         "rawType": "float64",
         "type": "float"
        },
        {
         "name": "latitude",
         "rawType": "float64",
         "type": "float"
        },
        {
         "name": "hashtags_count",
         "rawType": "float64",
         "type": "float"
        },
        {
         "name": "mentions_count",
         "rawType": "float64",
         "type": "float"
        },
        {
         "name": "urls_count",
         "rawType": "float64",
         "type": "float"
        },
        {
         "name": "post_hour",
         "rawType": "float64",
         "type": "float"
        },
        {
         "name": "is_weekend",
         "rawType": "object",
         "type": "unknown"
        },
        {
         "name": "day_of_week",
         "rawType": "object",
         "type": "unknown"
        }
       ],
       "conversionMethod": "pd.DataFrame",
       "ref": "f92bc7c1-8e56-40e7-9935-3565c5a61f4f",
       "rows": [
        [
         "count",
         "25245",
         "25245.0",
         "25245",
         "25245.0",
         "25245",
         "25245.0",
         "25245.0",
         "25245",
         "25245",
         "25245",
         "25245",
         "25245",
         "25245.0",
         "503.0",
         "504",
         "339",
         "339",
         "339",
         "25245.0",
         "34.0",
         "34.0",
         "25245.0",
         "25245.0",
         "25245.0",
         "25245.0",
         "25245",
         "25245"
        ],
        [
         "unique",
         "2",
         null,
         "2",
         null,
         "2",
         null,
         null,
         "1",
         "1",
         "1",
         "59",
         "2",
         null,
         null,
         "2",
         "4",
         "136",
         "29",
         null,
         null,
         null,
         null,
         null,
         null,
         null,
         "2",
         "7"
        ],
        [
         "top",
         "human",
         null,
         "False",
         null,
         "False",
         null,
         null,
         "False",
         "False",
         "False",
         "en",
         "False",
         null,
         null,
         "False",
         "city",
         "Iztapalapa",
         "US",
         null,
         null,
         null,
         null,
         null,
         null,
         null,
         "False",
         "Monday"
        ],
        [
         "freq",
         "16625",
         null,
         "18484",
         null,
         "22878",
         null,
         null,
         "25245",
         "25245",
         "25245",
         "20008",
         "16793",
         null,
         null,
         "497",
         "289",
         "12",
         "123",
         null,
         null,
         null,
         null,
         null,
         null,
         null,
         "19850",
         "5496"
        ],
        [
         "mean",
         null,
         "1.4997491415690276e+18",
         null,
         "32.24503862150921",
         null,
         "756.4288770053475",
         "285.08738364032484",
         null,
         null,
         null,
         null,
         null,
         "-0.7771043771043771",
         "54826.497017892645",
         null,
         null,
         null,
         null,
         "-0.9986531986531987",
         "-13.236992686470584",
         "24.71602670382353",
         "0.26963755199049316",
         "0.9963161021984551",
         "0.45185185185185184",
         "12.899425628837394",
         null,
         null
        ],
        [
         "std",
         null,
         "3.122116152280215e+17",
         null,
         "17.236060152264102",
         null,
         "19831.102212551046",
         "5027.020159712155",
         null,
         null,
         null,
         null,
         null,
         "0.6700808398092795",
         "68798.8395709568",
         null,
         null,
         null,
         null,
         "0.036674797237676526",
         "93.57525377064746",
         "17.552050243067224",
         "0.7896689028052867",
         "1.172674161282676",
         "0.5282663713808684",
         "6.666803587250193",
         null,
         null
        ],
        [
         "min",
         null,
         "1790146805.0",
         null,
         "0.0",
         null,
         "0.0",
         "0.0",
         null,
         null,
         null,
         null,
         null,
         "-1.0",
         "1518.0",
         null,
         null,
         null,
         null,
         "-1.0",
         "-122.6538739",
         "-6.8739422",
         "0.0",
         "0.0",
         "0.0",
         "0.0",
         null,
         null
        ],
        [
         "25%",
         null,
         "1.54e+18",
         null,
         "33.0",
         null,
         "0.0",
         "0.0",
         null,
         null,
         null,
         null,
         null,
         "-1.0",
         "15295.5",
         null,
         null,
         null,
         null,
         "-1.0",
         "-91.806082475",
         "19.933402542499998",
         "0.0",
         "0.0",
         "0.0",
         "8.0",
         null,
         null
        ],
        [
         "50%",
         null,
         "1.64e+18",
         null,
         "33.0",
         null,
         "1.0",
         "0.0",
         null,
         null,
         null,
         null,
         null,
         "-1.0",
         "35270.0",
         null,
         null,
         null,
         null,
         "-1.0",
         "-70.84804271",
         "31.514030544999997",
         "0.0",
         "1.0",
         "0.0",
         "14.0",
         null,
         null
        ],
        [
         "75%",
         null,
         "1.64e+18",
         null,
         "41.0",
         null,
         "13.0",
         "3.0",
         null,
         null,
         null,
         null,
         null,
         "-1.0",
         "65316.5",
         null,
         null,
         null,
         null,
         "-1.0",
         "88.36372375",
         "37.578068574999996",
         "0.0",
         "1.0",
         "1.0",
         "18.0",
         null,
         null
        ],
        [
         "max",
         null,
         "1.65e+18",
         null,
         "67.0",
         null,
         "2859263.0",
         "333666.0",
         null,
         null,
         null,
         null,
         null,
         "2.0",
         "784066.0",
         null,
         null,
         null,
         null,
         "0.0",
         "107.6127075",
         "45.5542447",
         "12.0",
         "12.0",
         "4.0",
         "23.0",
         null,
         null
        ],
        [
         "missing_count",
         "0",
         "0.0",
         "0",
         "0.0",
         "0",
         "0.0",
         "0.0",
         "0",
         "0",
         "0",
         "0",
         "0",
         "0.0",
         "24742.0",
         "24741",
         "24906",
         "24906",
         "24906",
         "0.0",
         "25211.0",
         "25211.0",
         "0.0",
         "0.0",
         "0.0",
         "0.0",
         "0",
         "0"
        ],
        [
         "missing_percent",
         "0.0",
         "0.0",
         "0.0",
         "0.0",
         "0.0",
         "0.0",
         "0.0",
         "0.0",
         "0.0",
         "0.0",
         "0.0",
         "0.0",
         "0.0",
         "98.00752624282036",
         "98.00356506238859",
         "98.65715983363042",
         "98.65715983363042",
         "98.65715983363042",
         "0.0",
         "99.86531986531986",
         "99.86531986531986",
         "0.0",
         "0.0",
         "0.0",
         "0.0",
         "0.0",
         "0.0"
        ]
       ],
       "shape": {
        "columns": 27,
        "rows": 13
       }
      },
      "text/html": [
       "<div>\n",
       "<style scoped>\n",
       "    .dataframe tbody tr th:only-of-type {\n",
       "        vertical-align: middle;\n",
       "    }\n",
       "\n",
       "    .dataframe tbody tr th {\n",
       "        vertical-align: top;\n",
       "    }\n",
       "\n",
       "    .dataframe thead th {\n",
       "        text-align: right;\n",
       "    }\n",
       "</style>\n",
       "<table border=\"1\" class=\"dataframe\">\n",
       "  <thead>\n",
       "    <tr style=\"text-align: right;\">\n",
       "      <th></th>\n",
       "      <th>label</th>\n",
       "      <th>id</th>\n",
       "      <th>truncated</th>\n",
       "      <th>source</th>\n",
       "      <th>is_quote_status</th>\n",
       "      <th>retweet_count</th>\n",
       "      <th>favorite_count</th>\n",
       "      <th>favorited</th>\n",
       "      <th>retweeted</th>\n",
       "      <th>possibly_sensitive</th>\n",
       "      <th>lang</th>\n",
       "      <th>is_retweet</th>\n",
       "      <th>media_type</th>\n",
       "      <th>duration_millis</th>\n",
       "      <th>monetizable</th>\n",
       "      <th>place_type</th>\n",
       "      <th>place_name</th>\n",
       "      <th>country_code</th>\n",
       "      <th>location_type</th>\n",
       "      <th>longitude</th>\n",
       "      <th>latitude</th>\n",
       "      <th>hashtags_count</th>\n",
       "      <th>mentions_count</th>\n",
       "      <th>urls_count</th>\n",
       "      <th>post_hour</th>\n",
       "      <th>is_weekend</th>\n",
       "      <th>day_of_week</th>\n",
       "    </tr>\n",
       "  </thead>\n",
       "  <tbody>\n",
       "    <tr>\n",
       "      <th>count</th>\n",
       "      <td>25245</td>\n",
       "      <td>2.524500e+04</td>\n",
       "      <td>25245</td>\n",
       "      <td>25245.000000</td>\n",
       "      <td>25245</td>\n",
       "      <td>2.524500e+04</td>\n",
       "      <td>25245.000000</td>\n",
       "      <td>25245</td>\n",
       "      <td>25245</td>\n",
       "      <td>25245</td>\n",
       "      <td>25245</td>\n",
       "      <td>25245</td>\n",
       "      <td>25245.000000</td>\n",
       "      <td>503.000000</td>\n",
       "      <td>504</td>\n",
       "      <td>339</td>\n",
       "      <td>339</td>\n",
       "      <td>339</td>\n",
       "      <td>25245.000000</td>\n",
       "      <td>34.000000</td>\n",
       "      <td>34.000000</td>\n",
       "      <td>25245.000000</td>\n",
       "      <td>25245.000000</td>\n",
       "      <td>25245.000000</td>\n",
       "      <td>25245.000000</td>\n",
       "      <td>25245</td>\n",
       "      <td>25245</td>\n",
       "    </tr>\n",
       "    <tr>\n",
       "      <th>unique</th>\n",
       "      <td>2</td>\n",
       "      <td>NaN</td>\n",
       "      <td>2</td>\n",
       "      <td>NaN</td>\n",
       "      <td>2</td>\n",
       "      <td>NaN</td>\n",
       "      <td>NaN</td>\n",
       "      <td>1</td>\n",
       "      <td>1</td>\n",
       "      <td>1</td>\n",
       "      <td>59</td>\n",
       "      <td>2</td>\n",
       "      <td>NaN</td>\n",
       "      <td>NaN</td>\n",
       "      <td>2</td>\n",
       "      <td>4</td>\n",
       "      <td>136</td>\n",
       "      <td>29</td>\n",
       "      <td>NaN</td>\n",
       "      <td>NaN</td>\n",
       "      <td>NaN</td>\n",
       "      <td>NaN</td>\n",
       "      <td>NaN</td>\n",
       "      <td>NaN</td>\n",
       "      <td>NaN</td>\n",
       "      <td>2</td>\n",
       "      <td>7</td>\n",
       "    </tr>\n",
       "    <tr>\n",
       "      <th>top</th>\n",
       "      <td>human</td>\n",
       "      <td>NaN</td>\n",
       "      <td>False</td>\n",
       "      <td>NaN</td>\n",
       "      <td>False</td>\n",
       "      <td>NaN</td>\n",
       "      <td>NaN</td>\n",
       "      <td>False</td>\n",
       "      <td>False</td>\n",
       "      <td>False</td>\n",
       "      <td>en</td>\n",
       "      <td>False</td>\n",
       "      <td>NaN</td>\n",
       "      <td>NaN</td>\n",
       "      <td>False</td>\n",
       "      <td>city</td>\n",
       "      <td>Iztapalapa</td>\n",
       "      <td>US</td>\n",
       "      <td>NaN</td>\n",
       "      <td>NaN</td>\n",
       "      <td>NaN</td>\n",
       "      <td>NaN</td>\n",
       "      <td>NaN</td>\n",
       "      <td>NaN</td>\n",
       "      <td>NaN</td>\n",
       "      <td>False</td>\n",
       "      <td>Monday</td>\n",
       "    </tr>\n",
       "    <tr>\n",
       "      <th>freq</th>\n",
       "      <td>16625</td>\n",
       "      <td>NaN</td>\n",
       "      <td>18484</td>\n",
       "      <td>NaN</td>\n",
       "      <td>22878</td>\n",
       "      <td>NaN</td>\n",
       "      <td>NaN</td>\n",
       "      <td>25245</td>\n",
       "      <td>25245</td>\n",
       "      <td>25245</td>\n",
       "      <td>20008</td>\n",
       "      <td>16793</td>\n",
       "      <td>NaN</td>\n",
       "      <td>NaN</td>\n",
       "      <td>497</td>\n",
       "      <td>289</td>\n",
       "      <td>12</td>\n",
       "      <td>123</td>\n",
       "      <td>NaN</td>\n",
       "      <td>NaN</td>\n",
       "      <td>NaN</td>\n",
       "      <td>NaN</td>\n",
       "      <td>NaN</td>\n",
       "      <td>NaN</td>\n",
       "      <td>NaN</td>\n",
       "      <td>19850</td>\n",
       "      <td>5496</td>\n",
       "    </tr>\n",
       "    <tr>\n",
       "      <th>mean</th>\n",
       "      <td>NaN</td>\n",
       "      <td>1.499749e+18</td>\n",
       "      <td>NaN</td>\n",
       "      <td>32.245039</td>\n",
       "      <td>NaN</td>\n",
       "      <td>7.564289e+02</td>\n",
       "      <td>285.087384</td>\n",
       "      <td>NaN</td>\n",
       "      <td>NaN</td>\n",
       "      <td>NaN</td>\n",
       "      <td>NaN</td>\n",
       "      <td>NaN</td>\n",
       "      <td>-0.777104</td>\n",
       "      <td>54826.497018</td>\n",
       "      <td>NaN</td>\n",
       "      <td>NaN</td>\n",
       "      <td>NaN</td>\n",
       "      <td>NaN</td>\n",
       "      <td>-0.998653</td>\n",
       "      <td>-13.236993</td>\n",
       "      <td>24.716027</td>\n",
       "      <td>0.269638</td>\n",
       "      <td>0.996316</td>\n",
       "      <td>0.451852</td>\n",
       "      <td>12.899426</td>\n",
       "      <td>NaN</td>\n",
       "      <td>NaN</td>\n",
       "    </tr>\n",
       "    <tr>\n",
       "      <th>...</th>\n",
       "      <td>...</td>\n",
       "      <td>...</td>\n",
       "      <td>...</td>\n",
       "      <td>...</td>\n",
       "      <td>...</td>\n",
       "      <td>...</td>\n",
       "      <td>...</td>\n",
       "      <td>...</td>\n",
       "      <td>...</td>\n",
       "      <td>...</td>\n",
       "      <td>...</td>\n",
       "      <td>...</td>\n",
       "      <td>...</td>\n",
       "      <td>...</td>\n",
       "      <td>...</td>\n",
       "      <td>...</td>\n",
       "      <td>...</td>\n",
       "      <td>...</td>\n",
       "      <td>...</td>\n",
       "      <td>...</td>\n",
       "      <td>...</td>\n",
       "      <td>...</td>\n",
       "      <td>...</td>\n",
       "      <td>...</td>\n",
       "      <td>...</td>\n",
       "      <td>...</td>\n",
       "      <td>...</td>\n",
       "    </tr>\n",
       "    <tr>\n",
       "      <th>50%</th>\n",
       "      <td>NaN</td>\n",
       "      <td>1.640000e+18</td>\n",
       "      <td>NaN</td>\n",
       "      <td>33.000000</td>\n",
       "      <td>NaN</td>\n",
       "      <td>1.000000e+00</td>\n",
       "      <td>0.000000</td>\n",
       "      <td>NaN</td>\n",
       "      <td>NaN</td>\n",
       "      <td>NaN</td>\n",
       "      <td>NaN</td>\n",
       "      <td>NaN</td>\n",
       "      <td>-1.000000</td>\n",
       "      <td>35270.000000</td>\n",
       "      <td>NaN</td>\n",
       "      <td>NaN</td>\n",
       "      <td>NaN</td>\n",
       "      <td>NaN</td>\n",
       "      <td>-1.000000</td>\n",
       "      <td>-70.848043</td>\n",
       "      <td>31.514031</td>\n",
       "      <td>0.000000</td>\n",
       "      <td>1.000000</td>\n",
       "      <td>0.000000</td>\n",
       "      <td>14.000000</td>\n",
       "      <td>NaN</td>\n",
       "      <td>NaN</td>\n",
       "    </tr>\n",
       "    <tr>\n",
       "      <th>75%</th>\n",
       "      <td>NaN</td>\n",
       "      <td>1.640000e+18</td>\n",
       "      <td>NaN</td>\n",
       "      <td>41.000000</td>\n",
       "      <td>NaN</td>\n",
       "      <td>1.300000e+01</td>\n",
       "      <td>3.000000</td>\n",
       "      <td>NaN</td>\n",
       "      <td>NaN</td>\n",
       "      <td>NaN</td>\n",
       "      <td>NaN</td>\n",
       "      <td>NaN</td>\n",
       "      <td>-1.000000</td>\n",
       "      <td>65316.500000</td>\n",
       "      <td>NaN</td>\n",
       "      <td>NaN</td>\n",
       "      <td>NaN</td>\n",
       "      <td>NaN</td>\n",
       "      <td>-1.000000</td>\n",
       "      <td>88.363724</td>\n",
       "      <td>37.578069</td>\n",
       "      <td>0.000000</td>\n",
       "      <td>1.000000</td>\n",
       "      <td>1.000000</td>\n",
       "      <td>18.000000</td>\n",
       "      <td>NaN</td>\n",
       "      <td>NaN</td>\n",
       "    </tr>\n",
       "    <tr>\n",
       "      <th>max</th>\n",
       "      <td>NaN</td>\n",
       "      <td>1.650000e+18</td>\n",
       "      <td>NaN</td>\n",
       "      <td>67.000000</td>\n",
       "      <td>NaN</td>\n",
       "      <td>2.859263e+06</td>\n",
       "      <td>333666.000000</td>\n",
       "      <td>NaN</td>\n",
       "      <td>NaN</td>\n",
       "      <td>NaN</td>\n",
       "      <td>NaN</td>\n",
       "      <td>NaN</td>\n",
       "      <td>2.000000</td>\n",
       "      <td>784066.000000</td>\n",
       "      <td>NaN</td>\n",
       "      <td>NaN</td>\n",
       "      <td>NaN</td>\n",
       "      <td>NaN</td>\n",
       "      <td>0.000000</td>\n",
       "      <td>107.612707</td>\n",
       "      <td>45.554245</td>\n",
       "      <td>12.000000</td>\n",
       "      <td>12.000000</td>\n",
       "      <td>4.000000</td>\n",
       "      <td>23.000000</td>\n",
       "      <td>NaN</td>\n",
       "      <td>NaN</td>\n",
       "    </tr>\n",
       "    <tr>\n",
       "      <th>missing_count</th>\n",
       "      <td>0</td>\n",
       "      <td>0.000000e+00</td>\n",
       "      <td>0</td>\n",
       "      <td>0.000000</td>\n",
       "      <td>0</td>\n",
       "      <td>0.000000e+00</td>\n",
       "      <td>0.000000</td>\n",
       "      <td>0</td>\n",
       "      <td>0</td>\n",
       "      <td>0</td>\n",
       "      <td>0</td>\n",
       "      <td>0</td>\n",
       "      <td>0.000000</td>\n",
       "      <td>24742.000000</td>\n",
       "      <td>24741</td>\n",
       "      <td>24906</td>\n",
       "      <td>24906</td>\n",
       "      <td>24906</td>\n",
       "      <td>0.000000</td>\n",
       "      <td>25211.000000</td>\n",
       "      <td>25211.000000</td>\n",
       "      <td>0.000000</td>\n",
       "      <td>0.000000</td>\n",
       "      <td>0.000000</td>\n",
       "      <td>0.000000</td>\n",
       "      <td>0</td>\n",
       "      <td>0</td>\n",
       "    </tr>\n",
       "    <tr>\n",
       "      <th>missing_percent</th>\n",
       "      <td>0.0</td>\n",
       "      <td>0.000000e+00</td>\n",
       "      <td>0.0</td>\n",
       "      <td>0.000000</td>\n",
       "      <td>0.0</td>\n",
       "      <td>0.000000e+00</td>\n",
       "      <td>0.000000</td>\n",
       "      <td>0.0</td>\n",
       "      <td>0.0</td>\n",
       "      <td>0.0</td>\n",
       "      <td>0.0</td>\n",
       "      <td>0.0</td>\n",
       "      <td>0.000000</td>\n",
       "      <td>98.007526</td>\n",
       "      <td>98.003565</td>\n",
       "      <td>98.65716</td>\n",
       "      <td>98.65716</td>\n",
       "      <td>98.65716</td>\n",
       "      <td>0.000000</td>\n",
       "      <td>99.865320</td>\n",
       "      <td>99.865320</td>\n",
       "      <td>0.000000</td>\n",
       "      <td>0.000000</td>\n",
       "      <td>0.000000</td>\n",
       "      <td>0.000000</td>\n",
       "      <td>0.0</td>\n",
       "      <td>0.0</td>\n",
       "    </tr>\n",
       "  </tbody>\n",
       "</table>\n",
       "<p>13 rows × 27 columns</p>\n",
       "</div>"
      ],
      "text/plain": [
       "                 label            id truncated        source is_quote_status  \\\n",
       "count            25245  2.524500e+04     25245  25245.000000           25245   \n",
       "unique               2           NaN         2           NaN               2   \n",
       "top              human           NaN     False           NaN           False   \n",
       "freq             16625           NaN     18484           NaN           22878   \n",
       "mean               NaN  1.499749e+18       NaN     32.245039             NaN   \n",
       "...                ...           ...       ...           ...             ...   \n",
       "50%                NaN  1.640000e+18       NaN     33.000000             NaN   \n",
       "75%                NaN  1.640000e+18       NaN     41.000000             NaN   \n",
       "max                NaN  1.650000e+18       NaN     67.000000             NaN   \n",
       "missing_count        0  0.000000e+00         0      0.000000               0   \n",
       "missing_percent    0.0  0.000000e+00       0.0      0.000000             0.0   \n",
       "\n",
       "                 retweet_count  favorite_count favorited retweeted  \\\n",
       "count             2.524500e+04    25245.000000     25245     25245   \n",
       "unique                     NaN             NaN         1         1   \n",
       "top                        NaN             NaN     False     False   \n",
       "freq                       NaN             NaN     25245     25245   \n",
       "mean              7.564289e+02      285.087384       NaN       NaN   \n",
       "...                        ...             ...       ...       ...   \n",
       "50%               1.000000e+00        0.000000       NaN       NaN   \n",
       "75%               1.300000e+01        3.000000       NaN       NaN   \n",
       "max               2.859263e+06   333666.000000       NaN       NaN   \n",
       "missing_count     0.000000e+00        0.000000         0         0   \n",
       "missing_percent   0.000000e+00        0.000000       0.0       0.0   \n",
       "\n",
       "                possibly_sensitive   lang is_retweet    media_type  \\\n",
       "count                        25245  25245      25245  25245.000000   \n",
       "unique                           1     59          2           NaN   \n",
       "top                          False     en      False           NaN   \n",
       "freq                         25245  20008      16793           NaN   \n",
       "mean                           NaN    NaN        NaN     -0.777104   \n",
       "...                            ...    ...        ...           ...   \n",
       "50%                            NaN    NaN        NaN     -1.000000   \n",
       "75%                            NaN    NaN        NaN     -1.000000   \n",
       "max                            NaN    NaN        NaN      2.000000   \n",
       "missing_count                    0      0          0      0.000000   \n",
       "missing_percent                0.0    0.0        0.0      0.000000   \n",
       "\n",
       "                 duration_millis monetizable place_type  place_name  \\\n",
       "count                 503.000000         504        339         339   \n",
       "unique                       NaN           2          4         136   \n",
       "top                          NaN       False       city  Iztapalapa   \n",
       "freq                         NaN         497        289          12   \n",
       "mean                54826.497018         NaN        NaN         NaN   \n",
       "...                          ...         ...        ...         ...   \n",
       "50%                 35270.000000         NaN        NaN         NaN   \n",
       "75%                 65316.500000         NaN        NaN         NaN   \n",
       "max                784066.000000         NaN        NaN         NaN   \n",
       "missing_count       24742.000000       24741      24906       24906   \n",
       "missing_percent        98.007526   98.003565   98.65716    98.65716   \n",
       "\n",
       "                country_code  location_type     longitude      latitude  \\\n",
       "count                    339   25245.000000     34.000000     34.000000   \n",
       "unique                    29            NaN           NaN           NaN   \n",
       "top                       US            NaN           NaN           NaN   \n",
       "freq                     123            NaN           NaN           NaN   \n",
       "mean                     NaN      -0.998653    -13.236993     24.716027   \n",
       "...                      ...            ...           ...           ...   \n",
       "50%                      NaN      -1.000000    -70.848043     31.514031   \n",
       "75%                      NaN      -1.000000     88.363724     37.578069   \n",
       "max                      NaN       0.000000    107.612707     45.554245   \n",
       "missing_count          24906       0.000000  25211.000000  25211.000000   \n",
       "missing_percent     98.65716       0.000000     99.865320     99.865320   \n",
       "\n",
       "                 hashtags_count  mentions_count    urls_count     post_hour  \\\n",
       "count              25245.000000    25245.000000  25245.000000  25245.000000   \n",
       "unique                      NaN             NaN           NaN           NaN   \n",
       "top                         NaN             NaN           NaN           NaN   \n",
       "freq                        NaN             NaN           NaN           NaN   \n",
       "mean                   0.269638        0.996316      0.451852     12.899426   \n",
       "...                         ...             ...           ...           ...   \n",
       "50%                    0.000000        1.000000      0.000000     14.000000   \n",
       "75%                    0.000000        1.000000      1.000000     18.000000   \n",
       "max                   12.000000       12.000000      4.000000     23.000000   \n",
       "missing_count          0.000000        0.000000      0.000000      0.000000   \n",
       "missing_percent        0.000000        0.000000      0.000000      0.000000   \n",
       "\n",
       "                is_weekend day_of_week  \n",
       "count                25245       25245  \n",
       "unique                   2           7  \n",
       "top                  False      Monday  \n",
       "freq                 19850        5496  \n",
       "mean                   NaN         NaN  \n",
       "...                    ...         ...  \n",
       "50%                    NaN         NaN  \n",
       "75%                    NaN         NaN  \n",
       "max                    NaN         NaN  \n",
       "missing_count            0           0  \n",
       "missing_percent        0.0         0.0  \n",
       "\n",
       "[13 rows x 27 columns]"
      ]
     },
     "metadata": {},
     "output_type": "display_data"
    }
   ],
   "source": [
    "\n",
    "missing_count = df.isnull().sum()\n",
    "missing_percent = 100 * missing_count / len(df)\n",
    "\n",
    "desc = df.describe(include='all')\n",
    "desc.loc['missing_count'] = missing_count\n",
    "desc.loc['missing_percent'] = missing_percent\n",
    "\n",
    "display(desc)\n",
    "desc.to_csv('data_description.csv', index=True, encoding='utf-8')\n"
   ]
  },
  {
   "cell_type": "code",
   "execution_count": 165,
   "id": "91399660",
   "metadata": {},
   "outputs": [
    {
     "name": "stdout",
     "output_type": "stream",
     "text": [
      "0.9881617293382\n"
     ]
    }
   ],
   "source": [
    "print(df.isnull().mean().loc[lambda x: x > 0].mean())"
   ]
  },
  {
   "cell_type": "markdown",
   "id": "2d2c67d5",
   "metadata": {},
   "source": [
    "### Missing Value Analysis: MCAR Investigation\n",
    "\n",
    "#### Understanding MCAR (Missing Completely At Random)\n",
    "Missing Completely At Random (MCAR) occurs when the probability of missing data is unrelated to both observed and unobserved data. This is the most stringent assumption about missingness, but verifying it helps determine appropriate imputation strategies.\n",
    "\n",
    "**Key characteristics**:\n",
    "- Missingness is purely random  \n",
    "- No underlying pattern related to other variables  \n",
    "- Deletion or simple imputation methods are less biased under MCAR  \n",
    "\n",
    "---\n",
    "##### Assessing MCAR Assumptions : Statistical Testing\n",
    "###### 1. Randomness is applied to the whole dataset and pairwise deletion in used over listwise.\n",
    "   - Columns with data missing have an average of 93% missingness with is over the minimum deletion of 75%.\n",
    "   - Listwise deletion is only when the missing data is small in number, if 2% of the data is missing completely at random.\n",
    "   - Pairwise deletion for dataset that has widespread missing values in almost all variables.\n",
    "  \n",
    "  The dataset is filtered to retain only rows with at least 56% completeness. This balanced approach:\n",
    "   - Preserves adequate sample size for analysis\n",
    "   - Removes excessively incomplete records that could bias results\n",
    "   - Maintains statistical power while controlling for missing data"
   ]
  },
  {
   "cell_type": "code",
   "execution_count": 166,
   "id": "42085026",
   "metadata": {},
   "outputs": [
    {
     "name": "stdout",
     "output_type": "stream",
     "text": [
      "Original rows: 25245 | Filtered rows (≥65.0% complete): 25245\n",
      "Retained 100.0% of data\n",
      "\n"
     ]
    }
   ],
   "source": [
    "min_completeness = 0.65\n",
    "row_completeness = df.notna().mean(axis=1)\n",
    "filtered_df = df[row_completeness >= min_completeness].copy()\n",
    "\n",
    "print(f\"Original rows: {len(df)} | Filtered rows (≥{min_completeness*100}% complete): {len(filtered_df)}\")\n",
    "print(f\"Retained {len(filtered_df)/len(df)*100:.1f}% of data\\n\")\n"
   ]
  },
  {
   "cell_type": "markdown",
   "id": "9fea792a",
   "metadata": {},
   "source": [
    "##### 2. Missingness Pattern Visualization\n",
    "   Visualizing missingness correlations helps identify:\n",
    "   - Systematic missingness patterns\n",
    "   - Potential technical or procedural causes\n",
    "   - Relationships between missing values across variables.\n",
    "\n",
    "  The heatmap reveals whether missingness in one variable tends to co-occur with missingness in others, which would violate the MCAR assumption."
   ]
  },
  {
   "cell_type": "code",
   "execution_count": 167,
   "id": "aa64aa32",
   "metadata": {},
   "outputs": [
    {
     "data": {
      "application/vnd.plotly.v1+json": {
       "config": {
        "plotlyServerURL": "https://plot.ly"
       },
       "data": [
        {
         "coloraxis": "coloraxis",
         "hovertemplate": "x: %{x}<br>y: %{y}<br>color: %{z}<extra></extra>",
         "name": "0",
         "type": "heatmap",
         "x": [
          "label",
          "id",
          "truncated",
          "source",
          "is_quote_status",
          "retweet_count",
          "favorite_count",
          "favorited",
          "retweeted",
          "possibly_sensitive",
          "lang",
          "is_retweet",
          "media_type",
          "duration_millis",
          "monetizable",
          "place_type",
          "place_name",
          "country_code",
          "location_type",
          "longitude",
          "latitude",
          "hashtags_count",
          "mentions_count",
          "urls_count",
          "post_hour",
          "is_weekend",
          "day_of_week"
         ],
         "xaxis": "x",
         "y": [
          "label",
          "id",
          "truncated",
          "source",
          "is_quote_status",
          "retweet_count",
          "favorite_count",
          "favorited",
          "retweeted",
          "possibly_sensitive",
          "lang",
          "is_retweet",
          "media_type",
          "duration_millis",
          "monetizable",
          "place_type",
          "place_name",
          "country_code",
          "location_type",
          "longitude",
          "latitude",
          "hashtags_count",
          "mentions_count",
          "urls_count",
          "post_hour",
          "is_weekend",
          "day_of_week"
         ],
         "yaxis": "y",
         "z": {
          "bdata": "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",
          "dtype": "f8",
          "shape": "27, 27"
         }
        }
       ],
       "layout": {
        "coloraxis": {
         "cmax": 1,
         "cmin": -1,
         "colorscale": [
          [
           0,
           "rgb(103,0,31)"
          ],
          [
           0.1,
           "rgb(178,24,43)"
          ],
          [
           0.2,
           "rgb(214,96,77)"
          ],
          [
           0.3,
           "rgb(244,165,130)"
          ],
          [
           0.4,
           "rgb(253,219,199)"
          ],
          [
           0.5,
           "rgb(247,247,247)"
          ],
          [
           0.6,
           "rgb(209,229,240)"
          ],
          [
           0.7,
           "rgb(146,197,222)"
          ],
          [
           0.8,
           "rgb(67,147,195)"
          ],
          [
           0.9,
           "rgb(33,102,172)"
          ],
          [
           1,
           "rgb(5,48,97)"
          ]
         ]
        },
        "template": {
         "data": {
          "bar": [
           {
            "error_x": {
             "color": "#2a3f5f"
            },
            "error_y": {
             "color": "#2a3f5f"
            },
            "marker": {
             "line": {
              "color": "#E5ECF6",
              "width": 0.5
             },
             "pattern": {
              "fillmode": "overlay",
              "size": 10,
              "solidity": 0.2
             }
            },
            "type": "bar"
           }
          ],
          "barpolar": [
           {
            "marker": {
             "line": {
              "color": "#E5ECF6",
              "width": 0.5
             },
             "pattern": {
              "fillmode": "overlay",
              "size": 10,
              "solidity": 0.2
             }
            },
            "type": "barpolar"
           }
          ],
          "carpet": [
           {
            "aaxis": {
             "endlinecolor": "#2a3f5f",
             "gridcolor": "white",
             "linecolor": "white",
             "minorgridcolor": "white",
             "startlinecolor": "#2a3f5f"
            },
            "baxis": {
             "endlinecolor": "#2a3f5f",
             "gridcolor": "white",
             "linecolor": "white",
             "minorgridcolor": "white",
             "startlinecolor": "#2a3f5f"
            },
            "type": "carpet"
           }
          ],
          "choropleth": [
           {
            "colorbar": {
             "outlinewidth": 0,
             "ticks": ""
            },
            "type": "choropleth"
           }
          ],
          "contour": [
           {
            "colorbar": {
             "outlinewidth": 0,
             "ticks": ""
            },
            "colorscale": [
             [
              0,
              "#0d0887"
             ],
             [
              0.1111111111111111,
              "#46039f"
             ],
             [
              0.2222222222222222,
              "#7201a8"
             ],
             [
              0.3333333333333333,
              "#9c179e"
             ],
             [
              0.4444444444444444,
              "#bd3786"
             ],
             [
              0.5555555555555556,
              "#d8576b"
             ],
             [
              0.6666666666666666,
              "#ed7953"
             ],
             [
              0.7777777777777778,
              "#fb9f3a"
             ],
             [
              0.8888888888888888,
              "#fdca26"
             ],
             [
              1,
              "#f0f921"
             ]
            ],
            "type": "contour"
           }
          ],
          "contourcarpet": [
           {
            "colorbar": {
             "outlinewidth": 0,
             "ticks": ""
            },
            "type": "contourcarpet"
           }
          ],
          "heatmap": [
           {
            "colorbar": {
             "outlinewidth": 0,
             "ticks": ""
            },
            "colorscale": [
             [
              0,
              "#0d0887"
             ],
             [
              0.1111111111111111,
              "#46039f"
             ],
             [
              0.2222222222222222,
              "#7201a8"
             ],
             [
              0.3333333333333333,
              "#9c179e"
             ],
             [
              0.4444444444444444,
              "#bd3786"
             ],
             [
              0.5555555555555556,
              "#d8576b"
             ],
             [
              0.6666666666666666,
              "#ed7953"
             ],
             [
              0.7777777777777778,
              "#fb9f3a"
             ],
             [
              0.8888888888888888,
              "#fdca26"
             ],
             [
              1,
              "#f0f921"
             ]
            ],
            "type": "heatmap"
           }
          ],
          "histogram": [
           {
            "marker": {
             "pattern": {
              "fillmode": "overlay",
              "size": 10,
              "solidity": 0.2
             }
            },
            "type": "histogram"
           }
          ],
          "histogram2d": [
           {
            "colorbar": {
             "outlinewidth": 0,
             "ticks": ""
            },
            "colorscale": [
             [
              0,
              "#0d0887"
             ],
             [
              0.1111111111111111,
              "#46039f"
             ],
             [
              0.2222222222222222,
              "#7201a8"
             ],
             [
              0.3333333333333333,
              "#9c179e"
             ],
             [
              0.4444444444444444,
              "#bd3786"
             ],
             [
              0.5555555555555556,
              "#d8576b"
             ],
             [
              0.6666666666666666,
              "#ed7953"
             ],
             [
              0.7777777777777778,
              "#fb9f3a"
             ],
             [
              0.8888888888888888,
              "#fdca26"
             ],
             [
              1,
              "#f0f921"
             ]
            ],
            "type": "histogram2d"
           }
          ],
          "histogram2dcontour": [
           {
            "colorbar": {
             "outlinewidth": 0,
             "ticks": ""
            },
            "colorscale": [
             [
              0,
              "#0d0887"
             ],
             [
              0.1111111111111111,
              "#46039f"
             ],
             [
              0.2222222222222222,
              "#7201a8"
             ],
             [
              0.3333333333333333,
              "#9c179e"
             ],
             [
              0.4444444444444444,
              "#bd3786"
             ],
             [
              0.5555555555555556,
              "#d8576b"
             ],
             [
              0.6666666666666666,
              "#ed7953"
             ],
             [
              0.7777777777777778,
              "#fb9f3a"
             ],
             [
              0.8888888888888888,
              "#fdca26"
             ],
             [
              1,
              "#f0f921"
             ]
            ],
            "type": "histogram2dcontour"
           }
          ],
          "mesh3d": [
           {
            "colorbar": {
             "outlinewidth": 0,
             "ticks": ""
            },
            "type": "mesh3d"
           }
          ],
          "parcoords": [
           {
            "line": {
             "colorbar": {
              "outlinewidth": 0,
              "ticks": ""
             }
            },
            "type": "parcoords"
           }
          ],
          "pie": [
           {
            "automargin": true,
            "type": "pie"
           }
          ],
          "scatter": [
           {
            "fillpattern": {
             "fillmode": "overlay",
             "size": 10,
             "solidity": 0.2
            },
            "type": "scatter"
           }
          ],
          "scatter3d": [
           {
            "line": {
             "colorbar": {
              "outlinewidth": 0,
              "ticks": ""
             }
            },
            "marker": {
             "colorbar": {
              "outlinewidth": 0,
              "ticks": ""
             }
            },
            "type": "scatter3d"
           }
          ],
          "scattercarpet": [
           {
            "marker": {
             "colorbar": {
              "outlinewidth": 0,
              "ticks": ""
             }
            },
            "type": "scattercarpet"
           }
          ],
          "scattergeo": [
           {
            "marker": {
             "colorbar": {
              "outlinewidth": 0,
              "ticks": ""
             }
            },
            "type": "scattergeo"
           }
          ],
          "scattergl": [
           {
            "marker": {
             "colorbar": {
              "outlinewidth": 0,
              "ticks": ""
             }
            },
            "type": "scattergl"
           }
          ],
          "scattermap": [
           {
            "marker": {
             "colorbar": {
              "outlinewidth": 0,
              "ticks": ""
             }
            },
            "type": "scattermap"
           }
          ],
          "scattermapbox": [
           {
            "marker": {
             "colorbar": {
              "outlinewidth": 0,
              "ticks": ""
             }
            },
            "type": "scattermapbox"
           }
          ],
          "scatterpolar": [
           {
            "marker": {
             "colorbar": {
              "outlinewidth": 0,
              "ticks": ""
             }
            },
            "type": "scatterpolar"
           }
          ],
          "scatterpolargl": [
           {
            "marker": {
             "colorbar": {
              "outlinewidth": 0,
              "ticks": ""
             }
            },
            "type": "scatterpolargl"
           }
          ],
          "scatterternary": [
           {
            "marker": {
             "colorbar": {
              "outlinewidth": 0,
              "ticks": ""
             }
            },
            "type": "scatterternary"
           }
          ],
          "surface": [
           {
            "colorbar": {
             "outlinewidth": 0,
             "ticks": ""
            },
            "colorscale": [
             [
              0,
              "#0d0887"
             ],
             [
              0.1111111111111111,
              "#46039f"
             ],
             [
              0.2222222222222222,
              "#7201a8"
             ],
             [
              0.3333333333333333,
              "#9c179e"
             ],
             [
              0.4444444444444444,
              "#bd3786"
             ],
             [
              0.5555555555555556,
              "#d8576b"
             ],
             [
              0.6666666666666666,
              "#ed7953"
             ],
             [
              0.7777777777777778,
              "#fb9f3a"
             ],
             [
              0.8888888888888888,
              "#fdca26"
             ],
             [
              1,
              "#f0f921"
             ]
            ],
            "type": "surface"
           }
          ],
          "table": [
           {
            "cells": {
             "fill": {
              "color": "#EBF0F8"
             },
             "line": {
              "color": "white"
             }
            },
            "header": {
             "fill": {
              "color": "#C8D4E3"
             },
             "line": {
              "color": "white"
             }
            },
            "type": "table"
           }
          ]
         },
         "layout": {
          "annotationdefaults": {
           "arrowcolor": "#2a3f5f",
           "arrowhead": 0,
           "arrowwidth": 1
          },
          "autotypenumbers": "strict",
          "coloraxis": {
           "colorbar": {
            "outlinewidth": 0,
            "ticks": ""
           }
          },
          "colorscale": {
           "diverging": [
            [
             0,
             "#8e0152"
            ],
            [
             0.1,
             "#c51b7d"
            ],
            [
             0.2,
             "#de77ae"
            ],
            [
             0.3,
             "#f1b6da"
            ],
            [
             0.4,
             "#fde0ef"
            ],
            [
             0.5,
             "#f7f7f7"
            ],
            [
             0.6,
             "#e6f5d0"
            ],
            [
             0.7,
             "#b8e186"
            ],
            [
             0.8,
             "#7fbc41"
            ],
            [
             0.9,
             "#4d9221"
            ],
            [
             1,
             "#276419"
            ]
           ],
           "sequential": [
            [
             0,
             "#0d0887"
            ],
            [
             0.1111111111111111,
             "#46039f"
            ],
            [
             0.2222222222222222,
             "#7201a8"
            ],
            [
             0.3333333333333333,
             "#9c179e"
            ],
            [
             0.4444444444444444,
             "#bd3786"
            ],
            [
             0.5555555555555556,
             "#d8576b"
            ],
            [
             0.6666666666666666,
             "#ed7953"
            ],
            [
             0.7777777777777778,
             "#fb9f3a"
            ],
            [
             0.8888888888888888,
             "#fdca26"
            ],
            [
             1,
             "#f0f921"
            ]
           ],
           "sequentialminus": [
            [
             0,
             "#0d0887"
            ],
            [
             0.1111111111111111,
             "#46039f"
            ],
            [
             0.2222222222222222,
             "#7201a8"
            ],
            [
             0.3333333333333333,
             "#9c179e"
            ],
            [
             0.4444444444444444,
             "#bd3786"
            ],
            [
             0.5555555555555556,
             "#d8576b"
            ],
            [
             0.6666666666666666,
             "#ed7953"
            ],
            [
             0.7777777777777778,
             "#fb9f3a"
            ],
            [
             0.8888888888888888,
             "#fdca26"
            ],
            [
             1,
             "#f0f921"
            ]
           ]
          },
          "colorway": [
           "#636efa",
           "#EF553B",
           "#00cc96",
           "#ab63fa",
           "#FFA15A",
           "#19d3f3",
           "#FF6692",
           "#B6E880",
           "#FF97FF",
           "#FECB52"
          ],
          "font": {
           "color": "#2a3f5f"
          },
          "geo": {
           "bgcolor": "white",
           "lakecolor": "white",
           "landcolor": "#E5ECF6",
           "showlakes": true,
           "showland": true,
           "subunitcolor": "white"
          },
          "hoverlabel": {
           "align": "left"
          },
          "hovermode": "closest",
          "mapbox": {
           "style": "light"
          },
          "paper_bgcolor": "white",
          "plot_bgcolor": "#E5ECF6",
          "polar": {
           "angularaxis": {
            "gridcolor": "white",
            "linecolor": "white",
            "ticks": ""
           },
           "bgcolor": "#E5ECF6",
           "radialaxis": {
            "gridcolor": "white",
            "linecolor": "white",
            "ticks": ""
           }
          },
          "scene": {
           "xaxis": {
            "backgroundcolor": "#E5ECF6",
            "gridcolor": "white",
            "gridwidth": 2,
            "linecolor": "white",
            "showbackground": true,
            "ticks": "",
            "zerolinecolor": "white"
           },
           "yaxis": {
            "backgroundcolor": "#E5ECF6",
            "gridcolor": "white",
            "gridwidth": 2,
            "linecolor": "white",
            "showbackground": true,
            "ticks": "",
            "zerolinecolor": "white"
           },
           "zaxis": {
            "backgroundcolor": "#E5ECF6",
            "gridcolor": "white",
            "gridwidth": 2,
            "linecolor": "white",
            "showbackground": true,
            "ticks": "",
            "zerolinecolor": "white"
           }
          },
          "shapedefaults": {
           "line": {
            "color": "#2a3f5f"
           }
          },
          "ternary": {
           "aaxis": {
            "gridcolor": "white",
            "linecolor": "white",
            "ticks": ""
           },
           "baxis": {
            "gridcolor": "white",
            "linecolor": "white",
            "ticks": ""
           },
           "bgcolor": "#E5ECF6",
           "caxis": {
            "gridcolor": "white",
            "linecolor": "white",
            "ticks": ""
           }
          },
          "title": {
           "x": 0.05
          },
          "xaxis": {
           "automargin": true,
           "gridcolor": "white",
           "linecolor": "white",
           "ticks": "",
           "title": {
            "standoff": 15
           },
           "zerolinecolor": "white",
           "zerolinewidth": 2
          },
          "yaxis": {
           "automargin": true,
           "gridcolor": "white",
           "linecolor": "white",
           "ticks": "",
           "title": {
            "standoff": 15
           },
           "zerolinecolor": "white",
           "zerolinewidth": 2
          }
         }
        },
        "title": {
         "text": "Missingness Correlation (Filtered Data)"
        },
        "xaxis": {
         "anchor": "y",
         "constrain": "domain",
         "domain": [
          0,
          1
         ],
         "scaleanchor": "y"
        },
        "yaxis": {
         "anchor": "x",
         "autorange": "reversed",
         "constrain": "domain",
         "domain": [
          0,
          1
         ]
        }
       }
      }
     },
     "metadata": {},
     "output_type": "display_data"
    },
    {
     "data": {
      "application/vnd.microsoft.datawrangler.viewer.v0+json": {
       "columns": [
        {
         "name": "index",
         "rawType": "object",
         "type": "string"
        },
        {
         "name": "label",
         "rawType": "object",
         "type": "unknown"
        },
        {
         "name": "id",
         "rawType": "float64",
         "type": "float"
        },
        {
         "name": "truncated",
         "rawType": "object",
         "type": "unknown"
        },
        {
         "name": "source",
         "rawType": "float64",
         "type": "float"
        },
        {
         "name": "is_quote_status",
         "rawType": "object",
         "type": "unknown"
        },
        {
         "name": "retweet_count",
         "rawType": "float64",
         "type": "float"
        },
        {
         "name": "favorite_count",
         "rawType": "float64",
         "type": "float"
        },
        {
         "name": "favorited",
         "rawType": "object",
         "type": "unknown"
        },
        {
         "name": "retweeted",
         "rawType": "object",
         "type": "unknown"
        },
        {
         "name": "possibly_sensitive",
         "rawType": "object",
         "type": "unknown"
        },
        {
         "name": "lang",
         "rawType": "object",
         "type": "unknown"
        },
        {
         "name": "is_retweet",
         "rawType": "object",
         "type": "unknown"
        },
        {
         "name": "media_type",
         "rawType": "float64",
         "type": "float"
        },
        {
         "name": "duration_millis",
         "rawType": "float64",
         "type": "float"
        },
        {
         "name": "monetizable",
         "rawType": "object",
         "type": "unknown"
        },
        {
         "name": "place_type",
         "rawType": "object",
         "type": "unknown"
        },
        {
         "name": "place_name",
         "rawType": "object",
         "type": "unknown"
        },
        {
         "name": "country_code",
         "rawType": "object",
         "type": "unknown"
        },
        {
         "name": "location_type",
         "rawType": "float64",
         "type": "float"
        },
        {
         "name": "longitude",
         "rawType": "float64",
         "type": "float"
        },
        {
         "name": "latitude",
         "rawType": "float64",
         "type": "float"
        },
        {
         "name": "hashtags_count",
         "rawType": "float64",
         "type": "float"
        },
        {
         "name": "mentions_count",
         "rawType": "float64",
         "type": "float"
        },
        {
         "name": "urls_count",
         "rawType": "float64",
         "type": "float"
        },
        {
         "name": "post_hour",
         "rawType": "float64",
         "type": "float"
        },
        {
         "name": "is_weekend",
         "rawType": "object",
         "type": "unknown"
        },
        {
         "name": "day_of_week",
         "rawType": "object",
         "type": "unknown"
        }
       ],
       "conversionMethod": "pd.DataFrame",
       "ref": "67f45ee5-dbad-4b6a-87ff-3ee377d256f1",
       "rows": [
        [
         "count",
         "25245",
         "25245.0",
         "25245",
         "25245.0",
         "25245",
         "25245.0",
         "25245.0",
         "25245",
         "25245",
         "25245",
         "25245",
         "25245",
         "25245.0",
         "503.0",
         "504",
         "339",
         "339",
         "339",
         "25245.0",
         "34.0",
         "34.0",
         "25245.0",
         "25245.0",
         "25245.0",
         "25245.0",
         "25245",
         "25245"
        ],
        [
         "unique",
         "2",
         null,
         "2",
         null,
         "2",
         null,
         null,
         "1",
         "1",
         "1",
         "59",
         "2",
         null,
         null,
         "2",
         "4",
         "136",
         "29",
         null,
         null,
         null,
         null,
         null,
         null,
         null,
         "2",
         "7"
        ],
        [
         "top",
         "human",
         null,
         "False",
         null,
         "False",
         null,
         null,
         "False",
         "False",
         "False",
         "en",
         "False",
         null,
         null,
         "False",
         "city",
         "Iztapalapa",
         "US",
         null,
         null,
         null,
         null,
         null,
         null,
         null,
         "False",
         "Monday"
        ],
        [
         "freq",
         "16625",
         null,
         "18484",
         null,
         "22878",
         null,
         null,
         "25245",
         "25245",
         "25245",
         "20008",
         "16793",
         null,
         null,
         "497",
         "289",
         "12",
         "123",
         null,
         null,
         null,
         null,
         null,
         null,
         null,
         "19850",
         "5496"
        ],
        [
         "mean",
         null,
         "1.4997491415690276e+18",
         null,
         "32.24503862150921",
         null,
         "756.4288770053475",
         "285.08738364032484",
         null,
         null,
         null,
         null,
         null,
         "-0.7771043771043771",
         "54826.497017892645",
         null,
         null,
         null,
         null,
         "-0.9986531986531987",
         "-13.236992686470584",
         "24.71602670382353",
         "0.26963755199049316",
         "0.9963161021984551",
         "0.45185185185185184",
         "12.899425628837394",
         null,
         null
        ],
        [
         "std",
         null,
         "3.122116152280215e+17",
         null,
         "17.236060152264102",
         null,
         "19831.102212551046",
         "5027.020159712155",
         null,
         null,
         null,
         null,
         null,
         "0.6700808398092795",
         "68798.8395709568",
         null,
         null,
         null,
         null,
         "0.036674797237676526",
         "93.57525377064746",
         "17.552050243067224",
         "0.7896689028052867",
         "1.172674161282676",
         "0.5282663713808684",
         "6.666803587250193",
         null,
         null
        ],
        [
         "min",
         null,
         "1790146805.0",
         null,
         "0.0",
         null,
         "0.0",
         "0.0",
         null,
         null,
         null,
         null,
         null,
         "-1.0",
         "1518.0",
         null,
         null,
         null,
         null,
         "-1.0",
         "-122.6538739",
         "-6.8739422",
         "0.0",
         "0.0",
         "0.0",
         "0.0",
         null,
         null
        ],
        [
         "25%",
         null,
         "1.54e+18",
         null,
         "33.0",
         null,
         "0.0",
         "0.0",
         null,
         null,
         null,
         null,
         null,
         "-1.0",
         "15295.5",
         null,
         null,
         null,
         null,
         "-1.0",
         "-91.806082475",
         "19.933402542499998",
         "0.0",
         "0.0",
         "0.0",
         "8.0",
         null,
         null
        ],
        [
         "50%",
         null,
         "1.64e+18",
         null,
         "33.0",
         null,
         "1.0",
         "0.0",
         null,
         null,
         null,
         null,
         null,
         "-1.0",
         "35270.0",
         null,
         null,
         null,
         null,
         "-1.0",
         "-70.84804271",
         "31.514030544999997",
         "0.0",
         "1.0",
         "0.0",
         "14.0",
         null,
         null
        ],
        [
         "75%",
         null,
         "1.64e+18",
         null,
         "41.0",
         null,
         "13.0",
         "3.0",
         null,
         null,
         null,
         null,
         null,
         "-1.0",
         "65316.5",
         null,
         null,
         null,
         null,
         "-1.0",
         "88.36372375",
         "37.578068574999996",
         "0.0",
         "1.0",
         "1.0",
         "18.0",
         null,
         null
        ],
        [
         "max",
         null,
         "1.65e+18",
         null,
         "67.0",
         null,
         "2859263.0",
         "333666.0",
         null,
         null,
         null,
         null,
         null,
         "2.0",
         "784066.0",
         null,
         null,
         null,
         null,
         "0.0",
         "107.6127075",
         "45.5542447",
         "12.0",
         "12.0",
         "4.0",
         "23.0",
         null,
         null
        ],
        [
         "missing_count",
         "0",
         "0.0",
         "0",
         "0.0",
         "0",
         "0.0",
         "0.0",
         "0",
         "0",
         "0",
         "0",
         "0",
         "0.0",
         "24742.0",
         "24741",
         "24906",
         "24906",
         "24906",
         "0.0",
         "25211.0",
         "25211.0",
         "0.0",
         "0.0",
         "0.0",
         "0.0",
         "0",
         "0"
        ],
        [
         "missing_percent",
         "0.0",
         "0.0",
         "0.0",
         "0.0",
         "0.0",
         "0.0",
         "0.0",
         "0.0",
         "0.0",
         "0.0",
         "0.0",
         "0.0",
         "0.0",
         "98.00752624282036",
         "98.00356506238859",
         "98.65715983363042",
         "98.65715983363042",
         "98.65715983363042",
         "0.0",
         "99.86531986531986",
         "99.86531986531986",
         "0.0",
         "0.0",
         "0.0",
         "0.0",
         "0.0",
         "0.0"
        ]
       ],
       "shape": {
        "columns": 27,
        "rows": 13
       }
      },
      "text/html": [
       "<div>\n",
       "<style scoped>\n",
       "    .dataframe tbody tr th:only-of-type {\n",
       "        vertical-align: middle;\n",
       "    }\n",
       "\n",
       "    .dataframe tbody tr th {\n",
       "        vertical-align: top;\n",
       "    }\n",
       "\n",
       "    .dataframe thead th {\n",
       "        text-align: right;\n",
       "    }\n",
       "</style>\n",
       "<table border=\"1\" class=\"dataframe\">\n",
       "  <thead>\n",
       "    <tr style=\"text-align: right;\">\n",
       "      <th></th>\n",
       "      <th>label</th>\n",
       "      <th>id</th>\n",
       "      <th>truncated</th>\n",
       "      <th>source</th>\n",
       "      <th>is_quote_status</th>\n",
       "      <th>retweet_count</th>\n",
       "      <th>favorite_count</th>\n",
       "      <th>favorited</th>\n",
       "      <th>retweeted</th>\n",
       "      <th>possibly_sensitive</th>\n",
       "      <th>lang</th>\n",
       "      <th>is_retweet</th>\n",
       "      <th>media_type</th>\n",
       "      <th>duration_millis</th>\n",
       "      <th>monetizable</th>\n",
       "      <th>place_type</th>\n",
       "      <th>place_name</th>\n",
       "      <th>country_code</th>\n",
       "      <th>location_type</th>\n",
       "      <th>longitude</th>\n",
       "      <th>latitude</th>\n",
       "      <th>hashtags_count</th>\n",
       "      <th>mentions_count</th>\n",
       "      <th>urls_count</th>\n",
       "      <th>post_hour</th>\n",
       "      <th>is_weekend</th>\n",
       "      <th>day_of_week</th>\n",
       "    </tr>\n",
       "  </thead>\n",
       "  <tbody>\n",
       "    <tr>\n",
       "      <th>count</th>\n",
       "      <td>25245</td>\n",
       "      <td>2.524500e+04</td>\n",
       "      <td>25245</td>\n",
       "      <td>25245.000000</td>\n",
       "      <td>25245</td>\n",
       "      <td>2.524500e+04</td>\n",
       "      <td>25245.000000</td>\n",
       "      <td>25245</td>\n",
       "      <td>25245</td>\n",
       "      <td>25245</td>\n",
       "      <td>25245</td>\n",
       "      <td>25245</td>\n",
       "      <td>25245.000000</td>\n",
       "      <td>503.000000</td>\n",
       "      <td>504</td>\n",
       "      <td>339</td>\n",
       "      <td>339</td>\n",
       "      <td>339</td>\n",
       "      <td>25245.000000</td>\n",
       "      <td>34.000000</td>\n",
       "      <td>34.000000</td>\n",
       "      <td>25245.000000</td>\n",
       "      <td>25245.000000</td>\n",
       "      <td>25245.000000</td>\n",
       "      <td>25245.000000</td>\n",
       "      <td>25245</td>\n",
       "      <td>25245</td>\n",
       "    </tr>\n",
       "    <tr>\n",
       "      <th>unique</th>\n",
       "      <td>2</td>\n",
       "      <td>NaN</td>\n",
       "      <td>2</td>\n",
       "      <td>NaN</td>\n",
       "      <td>2</td>\n",
       "      <td>NaN</td>\n",
       "      <td>NaN</td>\n",
       "      <td>1</td>\n",
       "      <td>1</td>\n",
       "      <td>1</td>\n",
       "      <td>59</td>\n",
       "      <td>2</td>\n",
       "      <td>NaN</td>\n",
       "      <td>NaN</td>\n",
       "      <td>2</td>\n",
       "      <td>4</td>\n",
       "      <td>136</td>\n",
       "      <td>29</td>\n",
       "      <td>NaN</td>\n",
       "      <td>NaN</td>\n",
       "      <td>NaN</td>\n",
       "      <td>NaN</td>\n",
       "      <td>NaN</td>\n",
       "      <td>NaN</td>\n",
       "      <td>NaN</td>\n",
       "      <td>2</td>\n",
       "      <td>7</td>\n",
       "    </tr>\n",
       "    <tr>\n",
       "      <th>top</th>\n",
       "      <td>human</td>\n",
       "      <td>NaN</td>\n",
       "      <td>False</td>\n",
       "      <td>NaN</td>\n",
       "      <td>False</td>\n",
       "      <td>NaN</td>\n",
       "      <td>NaN</td>\n",
       "      <td>False</td>\n",
       "      <td>False</td>\n",
       "      <td>False</td>\n",
       "      <td>en</td>\n",
       "      <td>False</td>\n",
       "      <td>NaN</td>\n",
       "      <td>NaN</td>\n",
       "      <td>False</td>\n",
       "      <td>city</td>\n",
       "      <td>Iztapalapa</td>\n",
       "      <td>US</td>\n",
       "      <td>NaN</td>\n",
       "      <td>NaN</td>\n",
       "      <td>NaN</td>\n",
       "      <td>NaN</td>\n",
       "      <td>NaN</td>\n",
       "      <td>NaN</td>\n",
       "      <td>NaN</td>\n",
       "      <td>False</td>\n",
       "      <td>Monday</td>\n",
       "    </tr>\n",
       "    <tr>\n",
       "      <th>freq</th>\n",
       "      <td>16625</td>\n",
       "      <td>NaN</td>\n",
       "      <td>18484</td>\n",
       "      <td>NaN</td>\n",
       "      <td>22878</td>\n",
       "      <td>NaN</td>\n",
       "      <td>NaN</td>\n",
       "      <td>25245</td>\n",
       "      <td>25245</td>\n",
       "      <td>25245</td>\n",
       "      <td>20008</td>\n",
       "      <td>16793</td>\n",
       "      <td>NaN</td>\n",
       "      <td>NaN</td>\n",
       "      <td>497</td>\n",
       "      <td>289</td>\n",
       "      <td>12</td>\n",
       "      <td>123</td>\n",
       "      <td>NaN</td>\n",
       "      <td>NaN</td>\n",
       "      <td>NaN</td>\n",
       "      <td>NaN</td>\n",
       "      <td>NaN</td>\n",
       "      <td>NaN</td>\n",
       "      <td>NaN</td>\n",
       "      <td>19850</td>\n",
       "      <td>5496</td>\n",
       "    </tr>\n",
       "    <tr>\n",
       "      <th>mean</th>\n",
       "      <td>NaN</td>\n",
       "      <td>1.499749e+18</td>\n",
       "      <td>NaN</td>\n",
       "      <td>32.245039</td>\n",
       "      <td>NaN</td>\n",
       "      <td>7.564289e+02</td>\n",
       "      <td>285.087384</td>\n",
       "      <td>NaN</td>\n",
       "      <td>NaN</td>\n",
       "      <td>NaN</td>\n",
       "      <td>NaN</td>\n",
       "      <td>NaN</td>\n",
       "      <td>-0.777104</td>\n",
       "      <td>54826.497018</td>\n",
       "      <td>NaN</td>\n",
       "      <td>NaN</td>\n",
       "      <td>NaN</td>\n",
       "      <td>NaN</td>\n",
       "      <td>-0.998653</td>\n",
       "      <td>-13.236993</td>\n",
       "      <td>24.716027</td>\n",
       "      <td>0.269638</td>\n",
       "      <td>0.996316</td>\n",
       "      <td>0.451852</td>\n",
       "      <td>12.899426</td>\n",
       "      <td>NaN</td>\n",
       "      <td>NaN</td>\n",
       "    </tr>\n",
       "    <tr>\n",
       "      <th>...</th>\n",
       "      <td>...</td>\n",
       "      <td>...</td>\n",
       "      <td>...</td>\n",
       "      <td>...</td>\n",
       "      <td>...</td>\n",
       "      <td>...</td>\n",
       "      <td>...</td>\n",
       "      <td>...</td>\n",
       "      <td>...</td>\n",
       "      <td>...</td>\n",
       "      <td>...</td>\n",
       "      <td>...</td>\n",
       "      <td>...</td>\n",
       "      <td>...</td>\n",
       "      <td>...</td>\n",
       "      <td>...</td>\n",
       "      <td>...</td>\n",
       "      <td>...</td>\n",
       "      <td>...</td>\n",
       "      <td>...</td>\n",
       "      <td>...</td>\n",
       "      <td>...</td>\n",
       "      <td>...</td>\n",
       "      <td>...</td>\n",
       "      <td>...</td>\n",
       "      <td>...</td>\n",
       "      <td>...</td>\n",
       "    </tr>\n",
       "    <tr>\n",
       "      <th>50%</th>\n",
       "      <td>NaN</td>\n",
       "      <td>1.640000e+18</td>\n",
       "      <td>NaN</td>\n",
       "      <td>33.000000</td>\n",
       "      <td>NaN</td>\n",
       "      <td>1.000000e+00</td>\n",
       "      <td>0.000000</td>\n",
       "      <td>NaN</td>\n",
       "      <td>NaN</td>\n",
       "      <td>NaN</td>\n",
       "      <td>NaN</td>\n",
       "      <td>NaN</td>\n",
       "      <td>-1.000000</td>\n",
       "      <td>35270.000000</td>\n",
       "      <td>NaN</td>\n",
       "      <td>NaN</td>\n",
       "      <td>NaN</td>\n",
       "      <td>NaN</td>\n",
       "      <td>-1.000000</td>\n",
       "      <td>-70.848043</td>\n",
       "      <td>31.514031</td>\n",
       "      <td>0.000000</td>\n",
       "      <td>1.000000</td>\n",
       "      <td>0.000000</td>\n",
       "      <td>14.000000</td>\n",
       "      <td>NaN</td>\n",
       "      <td>NaN</td>\n",
       "    </tr>\n",
       "    <tr>\n",
       "      <th>75%</th>\n",
       "      <td>NaN</td>\n",
       "      <td>1.640000e+18</td>\n",
       "      <td>NaN</td>\n",
       "      <td>41.000000</td>\n",
       "      <td>NaN</td>\n",
       "      <td>1.300000e+01</td>\n",
       "      <td>3.000000</td>\n",
       "      <td>NaN</td>\n",
       "      <td>NaN</td>\n",
       "      <td>NaN</td>\n",
       "      <td>NaN</td>\n",
       "      <td>NaN</td>\n",
       "      <td>-1.000000</td>\n",
       "      <td>65316.500000</td>\n",
       "      <td>NaN</td>\n",
       "      <td>NaN</td>\n",
       "      <td>NaN</td>\n",
       "      <td>NaN</td>\n",
       "      <td>-1.000000</td>\n",
       "      <td>88.363724</td>\n",
       "      <td>37.578069</td>\n",
       "      <td>0.000000</td>\n",
       "      <td>1.000000</td>\n",
       "      <td>1.000000</td>\n",
       "      <td>18.000000</td>\n",
       "      <td>NaN</td>\n",
       "      <td>NaN</td>\n",
       "    </tr>\n",
       "    <tr>\n",
       "      <th>max</th>\n",
       "      <td>NaN</td>\n",
       "      <td>1.650000e+18</td>\n",
       "      <td>NaN</td>\n",
       "      <td>67.000000</td>\n",
       "      <td>NaN</td>\n",
       "      <td>2.859263e+06</td>\n",
       "      <td>333666.000000</td>\n",
       "      <td>NaN</td>\n",
       "      <td>NaN</td>\n",
       "      <td>NaN</td>\n",
       "      <td>NaN</td>\n",
       "      <td>NaN</td>\n",
       "      <td>2.000000</td>\n",
       "      <td>784066.000000</td>\n",
       "      <td>NaN</td>\n",
       "      <td>NaN</td>\n",
       "      <td>NaN</td>\n",
       "      <td>NaN</td>\n",
       "      <td>0.000000</td>\n",
       "      <td>107.612707</td>\n",
       "      <td>45.554245</td>\n",
       "      <td>12.000000</td>\n",
       "      <td>12.000000</td>\n",
       "      <td>4.000000</td>\n",
       "      <td>23.000000</td>\n",
       "      <td>NaN</td>\n",
       "      <td>NaN</td>\n",
       "    </tr>\n",
       "    <tr>\n",
       "      <th>missing_count</th>\n",
       "      <td>0</td>\n",
       "      <td>0.000000e+00</td>\n",
       "      <td>0</td>\n",
       "      <td>0.000000</td>\n",
       "      <td>0</td>\n",
       "      <td>0.000000e+00</td>\n",
       "      <td>0.000000</td>\n",
       "      <td>0</td>\n",
       "      <td>0</td>\n",
       "      <td>0</td>\n",
       "      <td>0</td>\n",
       "      <td>0</td>\n",
       "      <td>0.000000</td>\n",
       "      <td>24742.000000</td>\n",
       "      <td>24741</td>\n",
       "      <td>24906</td>\n",
       "      <td>24906</td>\n",
       "      <td>24906</td>\n",
       "      <td>0.000000</td>\n",
       "      <td>25211.000000</td>\n",
       "      <td>25211.000000</td>\n",
       "      <td>0.000000</td>\n",
       "      <td>0.000000</td>\n",
       "      <td>0.000000</td>\n",
       "      <td>0.000000</td>\n",
       "      <td>0</td>\n",
       "      <td>0</td>\n",
       "    </tr>\n",
       "    <tr>\n",
       "      <th>missing_percent</th>\n",
       "      <td>0.0</td>\n",
       "      <td>0.000000e+00</td>\n",
       "      <td>0.0</td>\n",
       "      <td>0.000000</td>\n",
       "      <td>0.0</td>\n",
       "      <td>0.000000e+00</td>\n",
       "      <td>0.000000</td>\n",
       "      <td>0.0</td>\n",
       "      <td>0.0</td>\n",
       "      <td>0.0</td>\n",
       "      <td>0.0</td>\n",
       "      <td>0.0</td>\n",
       "      <td>0.000000</td>\n",
       "      <td>98.007526</td>\n",
       "      <td>98.003565</td>\n",
       "      <td>98.65716</td>\n",
       "      <td>98.65716</td>\n",
       "      <td>98.65716</td>\n",
       "      <td>0.000000</td>\n",
       "      <td>99.865320</td>\n",
       "      <td>99.865320</td>\n",
       "      <td>0.000000</td>\n",
       "      <td>0.000000</td>\n",
       "      <td>0.000000</td>\n",
       "      <td>0.000000</td>\n",
       "      <td>0.0</td>\n",
       "      <td>0.0</td>\n",
       "    </tr>\n",
       "  </tbody>\n",
       "</table>\n",
       "<p>13 rows × 27 columns</p>\n",
       "</div>"
      ],
      "text/plain": [
       "                 label            id truncated        source is_quote_status  \\\n",
       "count            25245  2.524500e+04     25245  25245.000000           25245   \n",
       "unique               2           NaN         2           NaN               2   \n",
       "top              human           NaN     False           NaN           False   \n",
       "freq             16625           NaN     18484           NaN           22878   \n",
       "mean               NaN  1.499749e+18       NaN     32.245039             NaN   \n",
       "...                ...           ...       ...           ...             ...   \n",
       "50%                NaN  1.640000e+18       NaN     33.000000             NaN   \n",
       "75%                NaN  1.640000e+18       NaN     41.000000             NaN   \n",
       "max                NaN  1.650000e+18       NaN     67.000000             NaN   \n",
       "missing_count        0  0.000000e+00         0      0.000000               0   \n",
       "missing_percent    0.0  0.000000e+00       0.0      0.000000             0.0   \n",
       "\n",
       "                 retweet_count  favorite_count favorited retweeted  \\\n",
       "count             2.524500e+04    25245.000000     25245     25245   \n",
       "unique                     NaN             NaN         1         1   \n",
       "top                        NaN             NaN     False     False   \n",
       "freq                       NaN             NaN     25245     25245   \n",
       "mean              7.564289e+02      285.087384       NaN       NaN   \n",
       "...                        ...             ...       ...       ...   \n",
       "50%               1.000000e+00        0.000000       NaN       NaN   \n",
       "75%               1.300000e+01        3.000000       NaN       NaN   \n",
       "max               2.859263e+06   333666.000000       NaN       NaN   \n",
       "missing_count     0.000000e+00        0.000000         0         0   \n",
       "missing_percent   0.000000e+00        0.000000       0.0       0.0   \n",
       "\n",
       "                possibly_sensitive   lang is_retweet    media_type  \\\n",
       "count                        25245  25245      25245  25245.000000   \n",
       "unique                           1     59          2           NaN   \n",
       "top                          False     en      False           NaN   \n",
       "freq                         25245  20008      16793           NaN   \n",
       "mean                           NaN    NaN        NaN     -0.777104   \n",
       "...                            ...    ...        ...           ...   \n",
       "50%                            NaN    NaN        NaN     -1.000000   \n",
       "75%                            NaN    NaN        NaN     -1.000000   \n",
       "max                            NaN    NaN        NaN      2.000000   \n",
       "missing_count                    0      0          0      0.000000   \n",
       "missing_percent                0.0    0.0        0.0      0.000000   \n",
       "\n",
       "                 duration_millis monetizable place_type  place_name  \\\n",
       "count                 503.000000         504        339         339   \n",
       "unique                       NaN           2          4         136   \n",
       "top                          NaN       False       city  Iztapalapa   \n",
       "freq                         NaN         497        289          12   \n",
       "mean                54826.497018         NaN        NaN         NaN   \n",
       "...                          ...         ...        ...         ...   \n",
       "50%                 35270.000000         NaN        NaN         NaN   \n",
       "75%                 65316.500000         NaN        NaN         NaN   \n",
       "max                784066.000000         NaN        NaN         NaN   \n",
       "missing_count       24742.000000       24741      24906       24906   \n",
       "missing_percent        98.007526   98.003565   98.65716    98.65716   \n",
       "\n",
       "                country_code  location_type     longitude      latitude  \\\n",
       "count                    339   25245.000000     34.000000     34.000000   \n",
       "unique                    29            NaN           NaN           NaN   \n",
       "top                       US            NaN           NaN           NaN   \n",
       "freq                     123            NaN           NaN           NaN   \n",
       "mean                     NaN      -0.998653    -13.236993     24.716027   \n",
       "...                      ...            ...           ...           ...   \n",
       "50%                      NaN      -1.000000    -70.848043     31.514031   \n",
       "75%                      NaN      -1.000000     88.363724     37.578069   \n",
       "max                      NaN       0.000000    107.612707     45.554245   \n",
       "missing_count          24906       0.000000  25211.000000  25211.000000   \n",
       "missing_percent     98.65716       0.000000     99.865320     99.865320   \n",
       "\n",
       "                 hashtags_count  mentions_count    urls_count     post_hour  \\\n",
       "count              25245.000000    25245.000000  25245.000000  25245.000000   \n",
       "unique                      NaN             NaN           NaN           NaN   \n",
       "top                         NaN             NaN           NaN           NaN   \n",
       "freq                        NaN             NaN           NaN           NaN   \n",
       "mean                   0.269638        0.996316      0.451852     12.899426   \n",
       "...                         ...             ...           ...           ...   \n",
       "50%                    0.000000        1.000000      0.000000     14.000000   \n",
       "75%                    0.000000        1.000000      1.000000     18.000000   \n",
       "max                   12.000000       12.000000      4.000000     23.000000   \n",
       "missing_count          0.000000        0.000000      0.000000      0.000000   \n",
       "missing_percent        0.000000        0.000000      0.000000      0.000000   \n",
       "\n",
       "                is_weekend day_of_week  \n",
       "count                25245       25245  \n",
       "unique                   2           7  \n",
       "top                  False      Monday  \n",
       "freq                 19850        5496  \n",
       "mean                   NaN         NaN  \n",
       "...                    ...         ...  \n",
       "50%                    NaN         NaN  \n",
       "75%                    NaN         NaN  \n",
       "max                    NaN         NaN  \n",
       "missing_count            0           0  \n",
       "missing_percent        0.0         0.0  \n",
       "\n",
       "[13 rows x 27 columns]"
      ]
     },
     "metadata": {},
     "output_type": "display_data"
    }
   ],
   "source": [
    "missing_matrix = filtered_df.isnull().astype(int)\n",
    "missing_corr = missing_matrix.corr()\n",
    "fig = px.imshow(missing_corr,\n",
    "                   zmin=-1, zmax=1,\n",
    "                   color_continuous_scale='RdBu',\n",
    "                   title='Missingness Correlation (Filtered Data)')\n",
    "fig.show()\n",
    "\n",
    "missing_count = df.isnull().sum()\n",
    "missing_percent = 100 * missing_count / len(df)\n",
    "\n",
    "desc = df.describe(include='all')\n",
    "desc.loc['missing_count'] = missing_count\n",
    "desc.loc['missing_percent'] = missing_percent\n",
    "\n",
    "display(desc)\n",
    "desc.to_csv('data_description.csv', index=True, encoding='utf-8')"
   ]
  },
  {
   "cell_type": "markdown",
   "id": "6252019c",
   "metadata": {},
   "source": [
    "##### Step 3: Statistical MCAR Testing\n",
    "Hypothesis Framework\n",
    "Null Hypothesis (H₀):\n",
    "- Data is Missing Completely at Random\n",
    "- Alternative Hypothesis (H₁): Missingness depends on observed/unobserved variables\n",
    "\n",
    "Pairwise Kolmogorov-Smirnov is performed to tests to evaluate missingness patterns across all variable combinations. The test compares the distribution of missing values between each variable pair, helping identify systematic missingness patterns that violate the MCAR assumption.\n",
    "\n",
    "Key parameters:\n",
    "- Significance threshold: α = 0.05\n",
    "- Test statistic: Kolmogorov-Smirnov D-statistic\n",
    "- Multiple testing: Unadjusted (consider Bonferroni correction for large datasets)"
   ]
  },
  {
   "cell_type": "code",
   "execution_count": 168,
   "id": "8d89cccd",
   "metadata": {},
   "outputs": [
    {
     "name": "stdout",
     "output_type": "stream",
     "text": [
      "MCAR Evaluation Summary:\n",
      "Total pairs tested: 351\n",
      "Significantly different patterns (p<0.05): 150\n",
      "\n",
      "Top significant differences:\n"
     ]
    },
    {
     "data": {
      "text/html": [
       "<style type=\"text/css\">\n",
       "#T_4c307_row0_col0, #T_4c307_row0_col2, #T_4c307_row0_col5, #T_4c307_row0_col7, #T_4c307_row0_col9, #T_4c307_row0_col10, #T_4c307_row0_col11, #T_4c307_row1_col0, #T_4c307_row1_col1, #T_4c307_row1_col2, #T_4c307_row1_col3, #T_4c307_row1_col4, #T_4c307_row1_col8, #T_4c307_row1_col9, #T_4c307_row1_col10, #T_4c307_row1_col11, #T_4c307_row1_col12, #T_4c307_row1_col13, #T_4c307_row2_col0, #T_4c307_row2_col2, #T_4c307_row2_col9, #T_4c307_row2_col10, #T_4c307_row2_col11, #T_4c307_row3_col0, #T_4c307_row3_col2, #T_4c307_row3_col9, #T_4c307_row3_col10, #T_4c307_row3_col11, #T_4c307_row4_col0, #T_4c307_row4_col2, #T_4c307_row4_col9, #T_4c307_row4_col10, #T_4c307_row4_col11, #T_4c307_row5_col0, #T_4c307_row5_col2, #T_4c307_row5_col9, #T_4c307_row5_col10, #T_4c307_row5_col11, #T_4c307_row6_col0, #T_4c307_row6_col2, #T_4c307_row6_col9, #T_4c307_row6_col10, #T_4c307_row6_col11, #T_4c307_row7_col0, #T_4c307_row7_col2, #T_4c307_row7_col9, #T_4c307_row7_col10, #T_4c307_row7_col11, #T_4c307_row8_col0, #T_4c307_row8_col2, #T_4c307_row8_col9, #T_4c307_row8_col10, #T_4c307_row8_col11, #T_4c307_row9_col0, #T_4c307_row9_col2, #T_4c307_row9_col9, #T_4c307_row9_col10, #T_4c307_row9_col11, #T_4c307_row10_col0, #T_4c307_row10_col2, #T_4c307_row10_col9, #T_4c307_row10_col10, #T_4c307_row10_col11, #T_4c307_row11_col0, #T_4c307_row11_col2, #T_4c307_row11_col9, #T_4c307_row11_col10, #T_4c307_row11_col11, #T_4c307_row12_col0, #T_4c307_row12_col2, #T_4c307_row12_col9, #T_4c307_row12_col10, #T_4c307_row12_col11, #T_4c307_row13_col0, #T_4c307_row13_col1, #T_4c307_row13_col2, #T_4c307_row13_col3, #T_4c307_row13_col4, #T_4c307_row13_col6, #T_4c307_row13_col8, #T_4c307_row13_col9, #T_4c307_row13_col10, #T_4c307_row13_col11, #T_4c307_row13_col12, #T_4c307_row13_col13, #T_4c307_row14_col0, #T_4c307_row14_col2, #T_4c307_row14_col5, #T_4c307_row14_col7, #T_4c307_row14_col9, #T_4c307_row14_col10, #T_4c307_row14_col11, #T_4c307_row15_col0, #T_4c307_row15_col2, #T_4c307_row15_col5, #T_4c307_row15_col7, #T_4c307_row15_col9, #T_4c307_row15_col10, #T_4c307_row15_col11, #T_4c307_row16_col0, #T_4c307_row16_col2, #T_4c307_row16_col9, #T_4c307_row16_col10, #T_4c307_row16_col11, #T_4c307_row17_col0, #T_4c307_row17_col2, #T_4c307_row17_col9, #T_4c307_row17_col10, #T_4c307_row17_col11, #T_4c307_row18_col0, #T_4c307_row18_col2, #T_4c307_row18_col9, #T_4c307_row18_col10, #T_4c307_row18_col11, #T_4c307_row19_col0, #T_4c307_row19_col2, #T_4c307_row19_col9, #T_4c307_row19_col10, #T_4c307_row19_col11, #T_4c307_row20_col0, #T_4c307_row20_col2, #T_4c307_row20_col9, #T_4c307_row20_col10, #T_4c307_row20_col11 {\n",
       "  background-color: #fff5f0;\n",
       "  color: #000000;\n",
       "}\n",
       "#T_4c307_row0_col1, #T_4c307_row0_col3, #T_4c307_row0_col4, #T_4c307_row0_col8, #T_4c307_row0_col12, #T_4c307_row0_col13, #T_4c307_row14_col1, #T_4c307_row14_col3, #T_4c307_row14_col4, #T_4c307_row14_col8, #T_4c307_row14_col12, #T_4c307_row14_col13, #T_4c307_row15_col1, #T_4c307_row15_col3, #T_4c307_row15_col4, #T_4c307_row15_col8, #T_4c307_row15_col12, #T_4c307_row15_col13 {\n",
       "  background-color: #fc9b7c;\n",
       "  color: #000000;\n",
       "}\n",
       "#T_4c307_row0_col6, #T_4c307_row2_col5, #T_4c307_row2_col7, #T_4c307_row3_col5, #T_4c307_row3_col7, #T_4c307_row4_col5, #T_4c307_row4_col7, #T_4c307_row5_col5, #T_4c307_row5_col7, #T_4c307_row6_col5, #T_4c307_row6_col7, #T_4c307_row7_col5, #T_4c307_row7_col7, #T_4c307_row8_col5, #T_4c307_row8_col7, #T_4c307_row9_col1, #T_4c307_row9_col3, #T_4c307_row9_col4, #T_4c307_row9_col8, #T_4c307_row9_col12, #T_4c307_row9_col13, #T_4c307_row10_col5, #T_4c307_row10_col7, #T_4c307_row11_col1, #T_4c307_row11_col3, #T_4c307_row11_col4, #T_4c307_row11_col8, #T_4c307_row11_col12, #T_4c307_row11_col13, #T_4c307_row12_col5, #T_4c307_row12_col7, #T_4c307_row14_col6, #T_4c307_row15_col6, #T_4c307_row16_col5, #T_4c307_row16_col7, #T_4c307_row17_col5, #T_4c307_row17_col7, #T_4c307_row18_col5, #T_4c307_row18_col7, #T_4c307_row19_col5, #T_4c307_row19_col7, #T_4c307_row20_col5, #T_4c307_row20_col7 {\n",
       "  background-color: #67000d;\n",
       "  color: #f1f1f1;\n",
       "}\n",
       "#T_4c307_row1_col5, #T_4c307_row1_col6, #T_4c307_row1_col7, #T_4c307_row13_col5, #T_4c307_row13_col7 {\n",
       "  background-color: #fff4ef;\n",
       "  color: #000000;\n",
       "}\n",
       "#T_4c307_row2_col1, #T_4c307_row2_col3, #T_4c307_row2_col4, #T_4c307_row2_col6, #T_4c307_row2_col8, #T_4c307_row2_col12, #T_4c307_row2_col13, #T_4c307_row3_col1, #T_4c307_row3_col3, #T_4c307_row3_col4, #T_4c307_row3_col6, #T_4c307_row3_col8, #T_4c307_row3_col12, #T_4c307_row3_col13, #T_4c307_row4_col1, #T_4c307_row4_col3, #T_4c307_row4_col4, #T_4c307_row4_col6, #T_4c307_row4_col8, #T_4c307_row4_col12, #T_4c307_row4_col13, #T_4c307_row5_col1, #T_4c307_row5_col3, #T_4c307_row5_col4, #T_4c307_row5_col6, #T_4c307_row5_col8, #T_4c307_row5_col12, #T_4c307_row5_col13, #T_4c307_row6_col1, #T_4c307_row6_col3, #T_4c307_row6_col4, #T_4c307_row6_col6, #T_4c307_row6_col8, #T_4c307_row6_col12, #T_4c307_row6_col13, #T_4c307_row7_col1, #T_4c307_row7_col3, #T_4c307_row7_col4, #T_4c307_row7_col6, #T_4c307_row7_col8, #T_4c307_row7_col12, #T_4c307_row7_col13, #T_4c307_row8_col1, #T_4c307_row8_col3, #T_4c307_row8_col4, #T_4c307_row8_col6, #T_4c307_row8_col8, #T_4c307_row8_col12, #T_4c307_row8_col13, #T_4c307_row9_col5, #T_4c307_row9_col6, #T_4c307_row9_col7, #T_4c307_row10_col1, #T_4c307_row10_col3, #T_4c307_row10_col4, #T_4c307_row10_col6, #T_4c307_row10_col8, #T_4c307_row10_col12, #T_4c307_row10_col13, #T_4c307_row11_col5, #T_4c307_row11_col6, #T_4c307_row11_col7, #T_4c307_row12_col1, #T_4c307_row12_col3, #T_4c307_row12_col4, #T_4c307_row12_col6, #T_4c307_row12_col8, #T_4c307_row12_col12, #T_4c307_row12_col13, #T_4c307_row16_col1, #T_4c307_row16_col3, #T_4c307_row16_col4, #T_4c307_row16_col6, #T_4c307_row16_col8, #T_4c307_row16_col12, #T_4c307_row16_col13, #T_4c307_row17_col1, #T_4c307_row17_col3, #T_4c307_row17_col4, #T_4c307_row17_col6, #T_4c307_row17_col8, #T_4c307_row17_col12, #T_4c307_row17_col13, #T_4c307_row18_col1, #T_4c307_row18_col3, #T_4c307_row18_col4, #T_4c307_row18_col6, #T_4c307_row18_col8, #T_4c307_row18_col12, #T_4c307_row18_col13, #T_4c307_row19_col1, #T_4c307_row19_col3, #T_4c307_row19_col4, #T_4c307_row19_col6, #T_4c307_row19_col8, #T_4c307_row19_col12, #T_4c307_row19_col13, #T_4c307_row20_col1, #T_4c307_row20_col3, #T_4c307_row20_col4, #T_4c307_row20_col6, #T_4c307_row20_col8, #T_4c307_row20_col12, #T_4c307_row20_col13 {\n",
       "  background-color: #000000;\n",
       "  color: #f1f1f1;\n",
       "}\n",
       "</style>\n",
       "<table id=\"T_4c307\">\n",
       "  <thead>\n",
       "    <tr>\n",
       "      <th class=\"index_name level0\" >Var2</th>\n",
       "      <th id=\"T_4c307_level0_col0\" class=\"col_heading level0 col0\" >country_code</th>\n",
       "      <th id=\"T_4c307_level0_col1\" class=\"col_heading level0 col1\" >day_of_week</th>\n",
       "      <th id=\"T_4c307_level0_col2\" class=\"col_heading level0 col2\" >duration_millis</th>\n",
       "      <th id=\"T_4c307_level0_col3\" class=\"col_heading level0 col3\" >hashtags_count</th>\n",
       "      <th id=\"T_4c307_level0_col4\" class=\"col_heading level0 col4\" >is_weekend</th>\n",
       "      <th id=\"T_4c307_level0_col5\" class=\"col_heading level0 col5\" >latitude</th>\n",
       "      <th id=\"T_4c307_level0_col6\" class=\"col_heading level0 col6\" >location_type</th>\n",
       "      <th id=\"T_4c307_level0_col7\" class=\"col_heading level0 col7\" >longitude</th>\n",
       "      <th id=\"T_4c307_level0_col8\" class=\"col_heading level0 col8\" >mentions_count</th>\n",
       "      <th id=\"T_4c307_level0_col9\" class=\"col_heading level0 col9\" >monetizable</th>\n",
       "      <th id=\"T_4c307_level0_col10\" class=\"col_heading level0 col10\" >place_name</th>\n",
       "      <th id=\"T_4c307_level0_col11\" class=\"col_heading level0 col11\" >place_type</th>\n",
       "      <th id=\"T_4c307_level0_col12\" class=\"col_heading level0 col12\" >post_hour</th>\n",
       "      <th id=\"T_4c307_level0_col13\" class=\"col_heading level0 col13\" >urls_count</th>\n",
       "    </tr>\n",
       "    <tr>\n",
       "      <th class=\"index_name level0\" >Var1</th>\n",
       "      <th class=\"blank col0\" >&nbsp;</th>\n",
       "      <th class=\"blank col1\" >&nbsp;</th>\n",
       "      <th class=\"blank col2\" >&nbsp;</th>\n",
       "      <th class=\"blank col3\" >&nbsp;</th>\n",
       "      <th class=\"blank col4\" >&nbsp;</th>\n",
       "      <th class=\"blank col5\" >&nbsp;</th>\n",
       "      <th class=\"blank col6\" >&nbsp;</th>\n",
       "      <th class=\"blank col7\" >&nbsp;</th>\n",
       "      <th class=\"blank col8\" >&nbsp;</th>\n",
       "      <th class=\"blank col9\" >&nbsp;</th>\n",
       "      <th class=\"blank col10\" >&nbsp;</th>\n",
       "      <th class=\"blank col11\" >&nbsp;</th>\n",
       "      <th class=\"blank col12\" >&nbsp;</th>\n",
       "      <th class=\"blank col13\" >&nbsp;</th>\n",
       "    </tr>\n",
       "  </thead>\n",
       "  <tbody>\n",
       "    <tr>\n",
       "      <th id=\"T_4c307_level0_row0\" class=\"row_heading level0 row0\" >country_code</th>\n",
       "      <td id=\"T_4c307_row0_col0\" class=\"data row0 col0\" >nan</td>\n",
       "      <td id=\"T_4c307_row0_col1\" class=\"data row0 col1\" >0.986572</td>\n",
       "      <td id=\"T_4c307_row0_col2\" class=\"data row0 col2\" >nan</td>\n",
       "      <td id=\"T_4c307_row0_col3\" class=\"data row0 col3\" >0.986572</td>\n",
       "      <td id=\"T_4c307_row0_col4\" class=\"data row0 col4\" >0.986572</td>\n",
       "      <td id=\"T_4c307_row0_col5\" class=\"data row0 col5\" >0.012082</td>\n",
       "      <td id=\"T_4c307_row0_col6\" class=\"data row0 col6\" >0.986572</td>\n",
       "      <td id=\"T_4c307_row0_col7\" class=\"data row0 col7\" >0.012082</td>\n",
       "      <td id=\"T_4c307_row0_col8\" class=\"data row0 col8\" >0.986572</td>\n",
       "      <td id=\"T_4c307_row0_col9\" class=\"data row0 col9\" >nan</td>\n",
       "      <td id=\"T_4c307_row0_col10\" class=\"data row0 col10\" >nan</td>\n",
       "      <td id=\"T_4c307_row0_col11\" class=\"data row0 col11\" >nan</td>\n",
       "      <td id=\"T_4c307_row0_col12\" class=\"data row0 col12\" >0.986572</td>\n",
       "      <td id=\"T_4c307_row0_col13\" class=\"data row0 col13\" >0.986572</td>\n",
       "    </tr>\n",
       "    <tr>\n",
       "      <th id=\"T_4c307_level0_row1\" class=\"row_heading level0 row1\" >duration_millis</th>\n",
       "      <td id=\"T_4c307_row1_col0\" class=\"data row1 col0\" >nan</td>\n",
       "      <td id=\"T_4c307_row1_col1\" class=\"data row1 col1\" >0.980075</td>\n",
       "      <td id=\"T_4c307_row1_col2\" class=\"data row1 col2\" >nan</td>\n",
       "      <td id=\"T_4c307_row1_col3\" class=\"data row1 col3\" >0.980075</td>\n",
       "      <td id=\"T_4c307_row1_col4\" class=\"data row1 col4\" >0.980075</td>\n",
       "      <td id=\"T_4c307_row1_col5\" class=\"data row1 col5\" >0.018578</td>\n",
       "      <td id=\"T_4c307_row1_col6\" class=\"data row1 col6\" >0.980075</td>\n",
       "      <td id=\"T_4c307_row1_col7\" class=\"data row1 col7\" >0.018578</td>\n",
       "      <td id=\"T_4c307_row1_col8\" class=\"data row1 col8\" >0.980075</td>\n",
       "      <td id=\"T_4c307_row1_col9\" class=\"data row1 col9\" >nan</td>\n",
       "      <td id=\"T_4c307_row1_col10\" class=\"data row1 col10\" >nan</td>\n",
       "      <td id=\"T_4c307_row1_col11\" class=\"data row1 col11\" >nan</td>\n",
       "      <td id=\"T_4c307_row1_col12\" class=\"data row1 col12\" >0.980075</td>\n",
       "      <td id=\"T_4c307_row1_col13\" class=\"data row1 col13\" >0.980075</td>\n",
       "    </tr>\n",
       "    <tr>\n",
       "      <th id=\"T_4c307_level0_row2\" class=\"row_heading level0 row2\" >favorite_count</th>\n",
       "      <td id=\"T_4c307_row2_col0\" class=\"data row2 col0\" >0.986572</td>\n",
       "      <td id=\"T_4c307_row2_col1\" class=\"data row2 col1\" >nan</td>\n",
       "      <td id=\"T_4c307_row2_col2\" class=\"data row2 col2\" >0.980075</td>\n",
       "      <td id=\"T_4c307_row2_col3\" class=\"data row2 col3\" >nan</td>\n",
       "      <td id=\"T_4c307_row2_col4\" class=\"data row2 col4\" >nan</td>\n",
       "      <td id=\"T_4c307_row2_col5\" class=\"data row2 col5\" >0.998653</td>\n",
       "      <td id=\"T_4c307_row2_col6\" class=\"data row2 col6\" >nan</td>\n",
       "      <td id=\"T_4c307_row2_col7\" class=\"data row2 col7\" >0.998653</td>\n",
       "      <td id=\"T_4c307_row2_col8\" class=\"data row2 col8\" >nan</td>\n",
       "      <td id=\"T_4c307_row2_col9\" class=\"data row2 col9\" >0.980036</td>\n",
       "      <td id=\"T_4c307_row2_col10\" class=\"data row2 col10\" >0.986572</td>\n",
       "      <td id=\"T_4c307_row2_col11\" class=\"data row2 col11\" >0.986572</td>\n",
       "      <td id=\"T_4c307_row2_col12\" class=\"data row2 col12\" >nan</td>\n",
       "      <td id=\"T_4c307_row2_col13\" class=\"data row2 col13\" >nan</td>\n",
       "    </tr>\n",
       "    <tr>\n",
       "      <th id=\"T_4c307_level0_row3\" class=\"row_heading level0 row3\" >favorited</th>\n",
       "      <td id=\"T_4c307_row3_col0\" class=\"data row3 col0\" >0.986572</td>\n",
       "      <td id=\"T_4c307_row3_col1\" class=\"data row3 col1\" >nan</td>\n",
       "      <td id=\"T_4c307_row3_col2\" class=\"data row3 col2\" >0.980075</td>\n",
       "      <td id=\"T_4c307_row3_col3\" class=\"data row3 col3\" >nan</td>\n",
       "      <td id=\"T_4c307_row3_col4\" class=\"data row3 col4\" >nan</td>\n",
       "      <td id=\"T_4c307_row3_col5\" class=\"data row3 col5\" >0.998653</td>\n",
       "      <td id=\"T_4c307_row3_col6\" class=\"data row3 col6\" >nan</td>\n",
       "      <td id=\"T_4c307_row3_col7\" class=\"data row3 col7\" >0.998653</td>\n",
       "      <td id=\"T_4c307_row3_col8\" class=\"data row3 col8\" >nan</td>\n",
       "      <td id=\"T_4c307_row3_col9\" class=\"data row3 col9\" >0.980036</td>\n",
       "      <td id=\"T_4c307_row3_col10\" class=\"data row3 col10\" >0.986572</td>\n",
       "      <td id=\"T_4c307_row3_col11\" class=\"data row3 col11\" >0.986572</td>\n",
       "      <td id=\"T_4c307_row3_col12\" class=\"data row3 col12\" >nan</td>\n",
       "      <td id=\"T_4c307_row3_col13\" class=\"data row3 col13\" >nan</td>\n",
       "    </tr>\n",
       "    <tr>\n",
       "      <th id=\"T_4c307_level0_row4\" class=\"row_heading level0 row4\" >id</th>\n",
       "      <td id=\"T_4c307_row4_col0\" class=\"data row4 col0\" >0.986572</td>\n",
       "      <td id=\"T_4c307_row4_col1\" class=\"data row4 col1\" >nan</td>\n",
       "      <td id=\"T_4c307_row4_col2\" class=\"data row4 col2\" >0.980075</td>\n",
       "      <td id=\"T_4c307_row4_col3\" class=\"data row4 col3\" >nan</td>\n",
       "      <td id=\"T_4c307_row4_col4\" class=\"data row4 col4\" >nan</td>\n",
       "      <td id=\"T_4c307_row4_col5\" class=\"data row4 col5\" >0.998653</td>\n",
       "      <td id=\"T_4c307_row4_col6\" class=\"data row4 col6\" >nan</td>\n",
       "      <td id=\"T_4c307_row4_col7\" class=\"data row4 col7\" >0.998653</td>\n",
       "      <td id=\"T_4c307_row4_col8\" class=\"data row4 col8\" >nan</td>\n",
       "      <td id=\"T_4c307_row4_col9\" class=\"data row4 col9\" >0.980036</td>\n",
       "      <td id=\"T_4c307_row4_col10\" class=\"data row4 col10\" >0.986572</td>\n",
       "      <td id=\"T_4c307_row4_col11\" class=\"data row4 col11\" >0.986572</td>\n",
       "      <td id=\"T_4c307_row4_col12\" class=\"data row4 col12\" >nan</td>\n",
       "      <td id=\"T_4c307_row4_col13\" class=\"data row4 col13\" >nan</td>\n",
       "    </tr>\n",
       "    <tr>\n",
       "      <th id=\"T_4c307_level0_row5\" class=\"row_heading level0 row5\" >is_quote_status</th>\n",
       "      <td id=\"T_4c307_row5_col0\" class=\"data row5 col0\" >0.986572</td>\n",
       "      <td id=\"T_4c307_row5_col1\" class=\"data row5 col1\" >nan</td>\n",
       "      <td id=\"T_4c307_row5_col2\" class=\"data row5 col2\" >0.980075</td>\n",
       "      <td id=\"T_4c307_row5_col3\" class=\"data row5 col3\" >nan</td>\n",
       "      <td id=\"T_4c307_row5_col4\" class=\"data row5 col4\" >nan</td>\n",
       "      <td id=\"T_4c307_row5_col5\" class=\"data row5 col5\" >0.998653</td>\n",
       "      <td id=\"T_4c307_row5_col6\" class=\"data row5 col6\" >nan</td>\n",
       "      <td id=\"T_4c307_row5_col7\" class=\"data row5 col7\" >0.998653</td>\n",
       "      <td id=\"T_4c307_row5_col8\" class=\"data row5 col8\" >nan</td>\n",
       "      <td id=\"T_4c307_row5_col9\" class=\"data row5 col9\" >0.980036</td>\n",
       "      <td id=\"T_4c307_row5_col10\" class=\"data row5 col10\" >0.986572</td>\n",
       "      <td id=\"T_4c307_row5_col11\" class=\"data row5 col11\" >0.986572</td>\n",
       "      <td id=\"T_4c307_row5_col12\" class=\"data row5 col12\" >nan</td>\n",
       "      <td id=\"T_4c307_row5_col13\" class=\"data row5 col13\" >nan</td>\n",
       "    </tr>\n",
       "    <tr>\n",
       "      <th id=\"T_4c307_level0_row6\" class=\"row_heading level0 row6\" >is_retweet</th>\n",
       "      <td id=\"T_4c307_row6_col0\" class=\"data row6 col0\" >0.986572</td>\n",
       "      <td id=\"T_4c307_row6_col1\" class=\"data row6 col1\" >nan</td>\n",
       "      <td id=\"T_4c307_row6_col2\" class=\"data row6 col2\" >0.980075</td>\n",
       "      <td id=\"T_4c307_row6_col3\" class=\"data row6 col3\" >nan</td>\n",
       "      <td id=\"T_4c307_row6_col4\" class=\"data row6 col4\" >nan</td>\n",
       "      <td id=\"T_4c307_row6_col5\" class=\"data row6 col5\" >0.998653</td>\n",
       "      <td id=\"T_4c307_row6_col6\" class=\"data row6 col6\" >nan</td>\n",
       "      <td id=\"T_4c307_row6_col7\" class=\"data row6 col7\" >0.998653</td>\n",
       "      <td id=\"T_4c307_row6_col8\" class=\"data row6 col8\" >nan</td>\n",
       "      <td id=\"T_4c307_row6_col9\" class=\"data row6 col9\" >0.980036</td>\n",
       "      <td id=\"T_4c307_row6_col10\" class=\"data row6 col10\" >0.986572</td>\n",
       "      <td id=\"T_4c307_row6_col11\" class=\"data row6 col11\" >0.986572</td>\n",
       "      <td id=\"T_4c307_row6_col12\" class=\"data row6 col12\" >nan</td>\n",
       "      <td id=\"T_4c307_row6_col13\" class=\"data row6 col13\" >nan</td>\n",
       "    </tr>\n",
       "    <tr>\n",
       "      <th id=\"T_4c307_level0_row7\" class=\"row_heading level0 row7\" >label</th>\n",
       "      <td id=\"T_4c307_row7_col0\" class=\"data row7 col0\" >0.986572</td>\n",
       "      <td id=\"T_4c307_row7_col1\" class=\"data row7 col1\" >nan</td>\n",
       "      <td id=\"T_4c307_row7_col2\" class=\"data row7 col2\" >0.980075</td>\n",
       "      <td id=\"T_4c307_row7_col3\" class=\"data row7 col3\" >nan</td>\n",
       "      <td id=\"T_4c307_row7_col4\" class=\"data row7 col4\" >nan</td>\n",
       "      <td id=\"T_4c307_row7_col5\" class=\"data row7 col5\" >0.998653</td>\n",
       "      <td id=\"T_4c307_row7_col6\" class=\"data row7 col6\" >nan</td>\n",
       "      <td id=\"T_4c307_row7_col7\" class=\"data row7 col7\" >0.998653</td>\n",
       "      <td id=\"T_4c307_row7_col8\" class=\"data row7 col8\" >nan</td>\n",
       "      <td id=\"T_4c307_row7_col9\" class=\"data row7 col9\" >0.980036</td>\n",
       "      <td id=\"T_4c307_row7_col10\" class=\"data row7 col10\" >0.986572</td>\n",
       "      <td id=\"T_4c307_row7_col11\" class=\"data row7 col11\" >0.986572</td>\n",
       "      <td id=\"T_4c307_row7_col12\" class=\"data row7 col12\" >nan</td>\n",
       "      <td id=\"T_4c307_row7_col13\" class=\"data row7 col13\" >nan</td>\n",
       "    </tr>\n",
       "    <tr>\n",
       "      <th id=\"T_4c307_level0_row8\" class=\"row_heading level0 row8\" >lang</th>\n",
       "      <td id=\"T_4c307_row8_col0\" class=\"data row8 col0\" >0.986572</td>\n",
       "      <td id=\"T_4c307_row8_col1\" class=\"data row8 col1\" >nan</td>\n",
       "      <td id=\"T_4c307_row8_col2\" class=\"data row8 col2\" >0.980075</td>\n",
       "      <td id=\"T_4c307_row8_col3\" class=\"data row8 col3\" >nan</td>\n",
       "      <td id=\"T_4c307_row8_col4\" class=\"data row8 col4\" >nan</td>\n",
       "      <td id=\"T_4c307_row8_col5\" class=\"data row8 col5\" >0.998653</td>\n",
       "      <td id=\"T_4c307_row8_col6\" class=\"data row8 col6\" >nan</td>\n",
       "      <td id=\"T_4c307_row8_col7\" class=\"data row8 col7\" >0.998653</td>\n",
       "      <td id=\"T_4c307_row8_col8\" class=\"data row8 col8\" >nan</td>\n",
       "      <td id=\"T_4c307_row8_col9\" class=\"data row8 col9\" >0.980036</td>\n",
       "      <td id=\"T_4c307_row8_col10\" class=\"data row8 col10\" >0.986572</td>\n",
       "      <td id=\"T_4c307_row8_col11\" class=\"data row8 col11\" >0.986572</td>\n",
       "      <td id=\"T_4c307_row8_col12\" class=\"data row8 col12\" >nan</td>\n",
       "      <td id=\"T_4c307_row8_col13\" class=\"data row8 col13\" >nan</td>\n",
       "    </tr>\n",
       "    <tr>\n",
       "      <th id=\"T_4c307_level0_row9\" class=\"row_heading level0 row9\" >latitude</th>\n",
       "      <td id=\"T_4c307_row9_col0\" class=\"data row9 col0\" >nan</td>\n",
       "      <td id=\"T_4c307_row9_col1\" class=\"data row9 col1\" >0.998653</td>\n",
       "      <td id=\"T_4c307_row9_col2\" class=\"data row9 col2\" >nan</td>\n",
       "      <td id=\"T_4c307_row9_col3\" class=\"data row9 col3\" >0.998653</td>\n",
       "      <td id=\"T_4c307_row9_col4\" class=\"data row9 col4\" >0.998653</td>\n",
       "      <td id=\"T_4c307_row9_col5\" class=\"data row9 col5\" >nan</td>\n",
       "      <td id=\"T_4c307_row9_col6\" class=\"data row9 col6\" >nan</td>\n",
       "      <td id=\"T_4c307_row9_col7\" class=\"data row9 col7\" >nan</td>\n",
       "      <td id=\"T_4c307_row9_col8\" class=\"data row9 col8\" >0.998653</td>\n",
       "      <td id=\"T_4c307_row9_col9\" class=\"data row9 col9\" >nan</td>\n",
       "      <td id=\"T_4c307_row9_col10\" class=\"data row9 col10\" >nan</td>\n",
       "      <td id=\"T_4c307_row9_col11\" class=\"data row9 col11\" >nan</td>\n",
       "      <td id=\"T_4c307_row9_col12\" class=\"data row9 col12\" >0.998653</td>\n",
       "      <td id=\"T_4c307_row9_col13\" class=\"data row9 col13\" >0.998653</td>\n",
       "    </tr>\n",
       "    <tr>\n",
       "      <th id=\"T_4c307_level0_row10\" class=\"row_heading level0 row10\" >location_type</th>\n",
       "      <td id=\"T_4c307_row10_col0\" class=\"data row10 col0\" >nan</td>\n",
       "      <td id=\"T_4c307_row10_col1\" class=\"data row10 col1\" >nan</td>\n",
       "      <td id=\"T_4c307_row10_col2\" class=\"data row10 col2\" >nan</td>\n",
       "      <td id=\"T_4c307_row10_col3\" class=\"data row10 col3\" >nan</td>\n",
       "      <td id=\"T_4c307_row10_col4\" class=\"data row10 col4\" >nan</td>\n",
       "      <td id=\"T_4c307_row10_col5\" class=\"data row10 col5\" >0.998653</td>\n",
       "      <td id=\"T_4c307_row10_col6\" class=\"data row10 col6\" >nan</td>\n",
       "      <td id=\"T_4c307_row10_col7\" class=\"data row10 col7\" >0.998653</td>\n",
       "      <td id=\"T_4c307_row10_col8\" class=\"data row10 col8\" >nan</td>\n",
       "      <td id=\"T_4c307_row10_col9\" class=\"data row10 col9\" >nan</td>\n",
       "      <td id=\"T_4c307_row10_col10\" class=\"data row10 col10\" >nan</td>\n",
       "      <td id=\"T_4c307_row10_col11\" class=\"data row10 col11\" >nan</td>\n",
       "      <td id=\"T_4c307_row10_col12\" class=\"data row10 col12\" >nan</td>\n",
       "      <td id=\"T_4c307_row10_col13\" class=\"data row10 col13\" >nan</td>\n",
       "    </tr>\n",
       "    <tr>\n",
       "      <th id=\"T_4c307_level0_row11\" class=\"row_heading level0 row11\" >longitude</th>\n",
       "      <td id=\"T_4c307_row11_col0\" class=\"data row11 col0\" >nan</td>\n",
       "      <td id=\"T_4c307_row11_col1\" class=\"data row11 col1\" >0.998653</td>\n",
       "      <td id=\"T_4c307_row11_col2\" class=\"data row11 col2\" >nan</td>\n",
       "      <td id=\"T_4c307_row11_col3\" class=\"data row11 col3\" >0.998653</td>\n",
       "      <td id=\"T_4c307_row11_col4\" class=\"data row11 col4\" >0.998653</td>\n",
       "      <td id=\"T_4c307_row11_col5\" class=\"data row11 col5\" >nan</td>\n",
       "      <td id=\"T_4c307_row11_col6\" class=\"data row11 col6\" >nan</td>\n",
       "      <td id=\"T_4c307_row11_col7\" class=\"data row11 col7\" >nan</td>\n",
       "      <td id=\"T_4c307_row11_col8\" class=\"data row11 col8\" >0.998653</td>\n",
       "      <td id=\"T_4c307_row11_col9\" class=\"data row11 col9\" >nan</td>\n",
       "      <td id=\"T_4c307_row11_col10\" class=\"data row11 col10\" >nan</td>\n",
       "      <td id=\"T_4c307_row11_col11\" class=\"data row11 col11\" >nan</td>\n",
       "      <td id=\"T_4c307_row11_col12\" class=\"data row11 col12\" >0.998653</td>\n",
       "      <td id=\"T_4c307_row11_col13\" class=\"data row11 col13\" >0.998653</td>\n",
       "    </tr>\n",
       "    <tr>\n",
       "      <th id=\"T_4c307_level0_row12\" class=\"row_heading level0 row12\" >media_type</th>\n",
       "      <td id=\"T_4c307_row12_col0\" class=\"data row12 col0\" >0.986572</td>\n",
       "      <td id=\"T_4c307_row12_col1\" class=\"data row12 col1\" >nan</td>\n",
       "      <td id=\"T_4c307_row12_col2\" class=\"data row12 col2\" >0.980075</td>\n",
       "      <td id=\"T_4c307_row12_col3\" class=\"data row12 col3\" >nan</td>\n",
       "      <td id=\"T_4c307_row12_col4\" class=\"data row12 col4\" >nan</td>\n",
       "      <td id=\"T_4c307_row12_col5\" class=\"data row12 col5\" >0.998653</td>\n",
       "      <td id=\"T_4c307_row12_col6\" class=\"data row12 col6\" >nan</td>\n",
       "      <td id=\"T_4c307_row12_col7\" class=\"data row12 col7\" >0.998653</td>\n",
       "      <td id=\"T_4c307_row12_col8\" class=\"data row12 col8\" >nan</td>\n",
       "      <td id=\"T_4c307_row12_col9\" class=\"data row12 col9\" >0.980036</td>\n",
       "      <td id=\"T_4c307_row12_col10\" class=\"data row12 col10\" >0.986572</td>\n",
       "      <td id=\"T_4c307_row12_col11\" class=\"data row12 col11\" >0.986572</td>\n",
       "      <td id=\"T_4c307_row12_col12\" class=\"data row12 col12\" >nan</td>\n",
       "      <td id=\"T_4c307_row12_col13\" class=\"data row12 col13\" >nan</td>\n",
       "    </tr>\n",
       "    <tr>\n",
       "      <th id=\"T_4c307_level0_row13\" class=\"row_heading level0 row13\" >monetizable</th>\n",
       "      <td id=\"T_4c307_row13_col0\" class=\"data row13 col0\" >nan</td>\n",
       "      <td id=\"T_4c307_row13_col1\" class=\"data row13 col1\" >0.980036</td>\n",
       "      <td id=\"T_4c307_row13_col2\" class=\"data row13 col2\" >nan</td>\n",
       "      <td id=\"T_4c307_row13_col3\" class=\"data row13 col3\" >0.980036</td>\n",
       "      <td id=\"T_4c307_row13_col4\" class=\"data row13 col4\" >0.980036</td>\n",
       "      <td id=\"T_4c307_row13_col5\" class=\"data row13 col5\" >0.018618</td>\n",
       "      <td id=\"T_4c307_row13_col6\" class=\"data row13 col6\" >0.980036</td>\n",
       "      <td id=\"T_4c307_row13_col7\" class=\"data row13 col7\" >0.018618</td>\n",
       "      <td id=\"T_4c307_row13_col8\" class=\"data row13 col8\" >0.980036</td>\n",
       "      <td id=\"T_4c307_row13_col9\" class=\"data row13 col9\" >nan</td>\n",
       "      <td id=\"T_4c307_row13_col10\" class=\"data row13 col10\" >nan</td>\n",
       "      <td id=\"T_4c307_row13_col11\" class=\"data row13 col11\" >nan</td>\n",
       "      <td id=\"T_4c307_row13_col12\" class=\"data row13 col12\" >0.980036</td>\n",
       "      <td id=\"T_4c307_row13_col13\" class=\"data row13 col13\" >0.980036</td>\n",
       "    </tr>\n",
       "    <tr>\n",
       "      <th id=\"T_4c307_level0_row14\" class=\"row_heading level0 row14\" >place_name</th>\n",
       "      <td id=\"T_4c307_row14_col0\" class=\"data row14 col0\" >nan</td>\n",
       "      <td id=\"T_4c307_row14_col1\" class=\"data row14 col1\" >0.986572</td>\n",
       "      <td id=\"T_4c307_row14_col2\" class=\"data row14 col2\" >nan</td>\n",
       "      <td id=\"T_4c307_row14_col3\" class=\"data row14 col3\" >0.986572</td>\n",
       "      <td id=\"T_4c307_row14_col4\" class=\"data row14 col4\" >0.986572</td>\n",
       "      <td id=\"T_4c307_row14_col5\" class=\"data row14 col5\" >0.012082</td>\n",
       "      <td id=\"T_4c307_row14_col6\" class=\"data row14 col6\" >0.986572</td>\n",
       "      <td id=\"T_4c307_row14_col7\" class=\"data row14 col7\" >0.012082</td>\n",
       "      <td id=\"T_4c307_row14_col8\" class=\"data row14 col8\" >0.986572</td>\n",
       "      <td id=\"T_4c307_row14_col9\" class=\"data row14 col9\" >nan</td>\n",
       "      <td id=\"T_4c307_row14_col10\" class=\"data row14 col10\" >nan</td>\n",
       "      <td id=\"T_4c307_row14_col11\" class=\"data row14 col11\" >nan</td>\n",
       "      <td id=\"T_4c307_row14_col12\" class=\"data row14 col12\" >0.986572</td>\n",
       "      <td id=\"T_4c307_row14_col13\" class=\"data row14 col13\" >0.986572</td>\n",
       "    </tr>\n",
       "    <tr>\n",
       "      <th id=\"T_4c307_level0_row15\" class=\"row_heading level0 row15\" >place_type</th>\n",
       "      <td id=\"T_4c307_row15_col0\" class=\"data row15 col0\" >nan</td>\n",
       "      <td id=\"T_4c307_row15_col1\" class=\"data row15 col1\" >0.986572</td>\n",
       "      <td id=\"T_4c307_row15_col2\" class=\"data row15 col2\" >nan</td>\n",
       "      <td id=\"T_4c307_row15_col3\" class=\"data row15 col3\" >0.986572</td>\n",
       "      <td id=\"T_4c307_row15_col4\" class=\"data row15 col4\" >0.986572</td>\n",
       "      <td id=\"T_4c307_row15_col5\" class=\"data row15 col5\" >0.012082</td>\n",
       "      <td id=\"T_4c307_row15_col6\" class=\"data row15 col6\" >0.986572</td>\n",
       "      <td id=\"T_4c307_row15_col7\" class=\"data row15 col7\" >0.012082</td>\n",
       "      <td id=\"T_4c307_row15_col8\" class=\"data row15 col8\" >0.986572</td>\n",
       "      <td id=\"T_4c307_row15_col9\" class=\"data row15 col9\" >nan</td>\n",
       "      <td id=\"T_4c307_row15_col10\" class=\"data row15 col10\" >nan</td>\n",
       "      <td id=\"T_4c307_row15_col11\" class=\"data row15 col11\" >nan</td>\n",
       "      <td id=\"T_4c307_row15_col12\" class=\"data row15 col12\" >0.986572</td>\n",
       "      <td id=\"T_4c307_row15_col13\" class=\"data row15 col13\" >0.986572</td>\n",
       "    </tr>\n",
       "    <tr>\n",
       "      <th id=\"T_4c307_level0_row16\" class=\"row_heading level0 row16\" >possibly_sensitive</th>\n",
       "      <td id=\"T_4c307_row16_col0\" class=\"data row16 col0\" >0.986572</td>\n",
       "      <td id=\"T_4c307_row16_col1\" class=\"data row16 col1\" >nan</td>\n",
       "      <td id=\"T_4c307_row16_col2\" class=\"data row16 col2\" >0.980075</td>\n",
       "      <td id=\"T_4c307_row16_col3\" class=\"data row16 col3\" >nan</td>\n",
       "      <td id=\"T_4c307_row16_col4\" class=\"data row16 col4\" >nan</td>\n",
       "      <td id=\"T_4c307_row16_col5\" class=\"data row16 col5\" >0.998653</td>\n",
       "      <td id=\"T_4c307_row16_col6\" class=\"data row16 col6\" >nan</td>\n",
       "      <td id=\"T_4c307_row16_col7\" class=\"data row16 col7\" >0.998653</td>\n",
       "      <td id=\"T_4c307_row16_col8\" class=\"data row16 col8\" >nan</td>\n",
       "      <td id=\"T_4c307_row16_col9\" class=\"data row16 col9\" >0.980036</td>\n",
       "      <td id=\"T_4c307_row16_col10\" class=\"data row16 col10\" >0.986572</td>\n",
       "      <td id=\"T_4c307_row16_col11\" class=\"data row16 col11\" >0.986572</td>\n",
       "      <td id=\"T_4c307_row16_col12\" class=\"data row16 col12\" >nan</td>\n",
       "      <td id=\"T_4c307_row16_col13\" class=\"data row16 col13\" >nan</td>\n",
       "    </tr>\n",
       "    <tr>\n",
       "      <th id=\"T_4c307_level0_row17\" class=\"row_heading level0 row17\" >retweet_count</th>\n",
       "      <td id=\"T_4c307_row17_col0\" class=\"data row17 col0\" >0.986572</td>\n",
       "      <td id=\"T_4c307_row17_col1\" class=\"data row17 col1\" >nan</td>\n",
       "      <td id=\"T_4c307_row17_col2\" class=\"data row17 col2\" >0.980075</td>\n",
       "      <td id=\"T_4c307_row17_col3\" class=\"data row17 col3\" >nan</td>\n",
       "      <td id=\"T_4c307_row17_col4\" class=\"data row17 col4\" >nan</td>\n",
       "      <td id=\"T_4c307_row17_col5\" class=\"data row17 col5\" >0.998653</td>\n",
       "      <td id=\"T_4c307_row17_col6\" class=\"data row17 col6\" >nan</td>\n",
       "      <td id=\"T_4c307_row17_col7\" class=\"data row17 col7\" >0.998653</td>\n",
       "      <td id=\"T_4c307_row17_col8\" class=\"data row17 col8\" >nan</td>\n",
       "      <td id=\"T_4c307_row17_col9\" class=\"data row17 col9\" >0.980036</td>\n",
       "      <td id=\"T_4c307_row17_col10\" class=\"data row17 col10\" >0.986572</td>\n",
       "      <td id=\"T_4c307_row17_col11\" class=\"data row17 col11\" >0.986572</td>\n",
       "      <td id=\"T_4c307_row17_col12\" class=\"data row17 col12\" >nan</td>\n",
       "      <td id=\"T_4c307_row17_col13\" class=\"data row17 col13\" >nan</td>\n",
       "    </tr>\n",
       "    <tr>\n",
       "      <th id=\"T_4c307_level0_row18\" class=\"row_heading level0 row18\" >retweeted</th>\n",
       "      <td id=\"T_4c307_row18_col0\" class=\"data row18 col0\" >0.986572</td>\n",
       "      <td id=\"T_4c307_row18_col1\" class=\"data row18 col1\" >nan</td>\n",
       "      <td id=\"T_4c307_row18_col2\" class=\"data row18 col2\" >0.980075</td>\n",
       "      <td id=\"T_4c307_row18_col3\" class=\"data row18 col3\" >nan</td>\n",
       "      <td id=\"T_4c307_row18_col4\" class=\"data row18 col4\" >nan</td>\n",
       "      <td id=\"T_4c307_row18_col5\" class=\"data row18 col5\" >0.998653</td>\n",
       "      <td id=\"T_4c307_row18_col6\" class=\"data row18 col6\" >nan</td>\n",
       "      <td id=\"T_4c307_row18_col7\" class=\"data row18 col7\" >0.998653</td>\n",
       "      <td id=\"T_4c307_row18_col8\" class=\"data row18 col8\" >nan</td>\n",
       "      <td id=\"T_4c307_row18_col9\" class=\"data row18 col9\" >0.980036</td>\n",
       "      <td id=\"T_4c307_row18_col10\" class=\"data row18 col10\" >0.986572</td>\n",
       "      <td id=\"T_4c307_row18_col11\" class=\"data row18 col11\" >0.986572</td>\n",
       "      <td id=\"T_4c307_row18_col12\" class=\"data row18 col12\" >nan</td>\n",
       "      <td id=\"T_4c307_row18_col13\" class=\"data row18 col13\" >nan</td>\n",
       "    </tr>\n",
       "    <tr>\n",
       "      <th id=\"T_4c307_level0_row19\" class=\"row_heading level0 row19\" >source</th>\n",
       "      <td id=\"T_4c307_row19_col0\" class=\"data row19 col0\" >0.986572</td>\n",
       "      <td id=\"T_4c307_row19_col1\" class=\"data row19 col1\" >nan</td>\n",
       "      <td id=\"T_4c307_row19_col2\" class=\"data row19 col2\" >0.980075</td>\n",
       "      <td id=\"T_4c307_row19_col3\" class=\"data row19 col3\" >nan</td>\n",
       "      <td id=\"T_4c307_row19_col4\" class=\"data row19 col4\" >nan</td>\n",
       "      <td id=\"T_4c307_row19_col5\" class=\"data row19 col5\" >0.998653</td>\n",
       "      <td id=\"T_4c307_row19_col6\" class=\"data row19 col6\" >nan</td>\n",
       "      <td id=\"T_4c307_row19_col7\" class=\"data row19 col7\" >0.998653</td>\n",
       "      <td id=\"T_4c307_row19_col8\" class=\"data row19 col8\" >nan</td>\n",
       "      <td id=\"T_4c307_row19_col9\" class=\"data row19 col9\" >0.980036</td>\n",
       "      <td id=\"T_4c307_row19_col10\" class=\"data row19 col10\" >0.986572</td>\n",
       "      <td id=\"T_4c307_row19_col11\" class=\"data row19 col11\" >0.986572</td>\n",
       "      <td id=\"T_4c307_row19_col12\" class=\"data row19 col12\" >nan</td>\n",
       "      <td id=\"T_4c307_row19_col13\" class=\"data row19 col13\" >nan</td>\n",
       "    </tr>\n",
       "    <tr>\n",
       "      <th id=\"T_4c307_level0_row20\" class=\"row_heading level0 row20\" >truncated</th>\n",
       "      <td id=\"T_4c307_row20_col0\" class=\"data row20 col0\" >0.986572</td>\n",
       "      <td id=\"T_4c307_row20_col1\" class=\"data row20 col1\" >nan</td>\n",
       "      <td id=\"T_4c307_row20_col2\" class=\"data row20 col2\" >0.980075</td>\n",
       "      <td id=\"T_4c307_row20_col3\" class=\"data row20 col3\" >nan</td>\n",
       "      <td id=\"T_4c307_row20_col4\" class=\"data row20 col4\" >nan</td>\n",
       "      <td id=\"T_4c307_row20_col5\" class=\"data row20 col5\" >0.998653</td>\n",
       "      <td id=\"T_4c307_row20_col6\" class=\"data row20 col6\" >nan</td>\n",
       "      <td id=\"T_4c307_row20_col7\" class=\"data row20 col7\" >0.998653</td>\n",
       "      <td id=\"T_4c307_row20_col8\" class=\"data row20 col8\" >nan</td>\n",
       "      <td id=\"T_4c307_row20_col9\" class=\"data row20 col9\" >0.980036</td>\n",
       "      <td id=\"T_4c307_row20_col10\" class=\"data row20 col10\" >0.986572</td>\n",
       "      <td id=\"T_4c307_row20_col11\" class=\"data row20 col11\" >0.986572</td>\n",
       "      <td id=\"T_4c307_row20_col12\" class=\"data row20 col12\" >nan</td>\n",
       "      <td id=\"T_4c307_row20_col13\" class=\"data row20 col13\" >nan</td>\n",
       "    </tr>\n",
       "  </tbody>\n",
       "</table>\n"
      ],
      "text/plain": [
       "<pandas.io.formats.style.Styler at 0x22817ec5f90>"
      ]
     },
     "metadata": {},
     "output_type": "display_data"
    }
   ],
   "source": [
    "results = []\n",
    "cols = missing_matrix.columns\n",
    "\n",
    "for i, col1 in enumerate(cols):\n",
    "    for col2 in cols[i+1:]:\n",
    "        stat, p = stats.ks_2samp(missing_matrix[col1], missing_matrix[col2])\n",
    "        results.append({\n",
    "            'Var1': col1,\n",
    "            'Var2': col2,\n",
    "            'KS_stat': stat,\n",
    "            'p_value': p\n",
    "        })\n",
    "\n",
    "mcar_results = pd.DataFrame(results)\n",
    "significant = mcar_results[mcar_results['p_value'] < 0.05]\n",
    "\n",
    "print(\"MCAR Evaluation Summary:\")\n",
    "print(f\"Total pairs tested: {len(mcar_results)}\")\n",
    "print(f\"Significantly different patterns (p<0.05): {len(significant)}\")\n",
    "print(\"\\nTop significant differences:\")\n",
    "output_path = os.path.join('..', 'significant_missingness_results.csv')\n",
    "significant.sort_values('KS_stat', ascending=False).to_csv(output_path, index=False)\n",
    "pivot_view = significant.pivot(index='Var1', columns='Var2', values='KS_stat')\n",
    "display(pivot_view.style.background_gradient(cmap='Reds'))"
   ]
  },
  {
   "cell_type": "markdown",
   "id": "e0860fb9",
   "metadata": {},
   "source": [
    "### **Missing Value Analysis Report**  \n",
    "---\n",
    "\n",
    "#### **1. Core Findings**  \n",
    "The dataset exhibits **systematic missingness patterns** across geographic, temporal, and content-based variables. Three distinct mechanisms dominate:  \n",
    "\n",
    "1. **Structural MAR (Missing At Random)**:  \n",
    "   - Location variables (`latitude`, `longitude`, `location_type`) co-missing with metadata (`id`, `source`, `truncated`) and engagement metrics (`retweet_count`, `favorite_count`)  \n",
    "   - Hierarchical geographic precision loss:  \n",
    "     ```\n",
    "     Precise coordinates → Place metadata → Country codes  \n",
    "     (KS=0.998 → KS=0.986 → KS=0.426)  \n",
    "     ```  \n",
    "\n",
    "2. **MNAR (Missing Not At Random)**:  \n",
    "   - `possibly_sensitive` content correlates with missing media (`KS=0.335`) and location data (`KS=0.438`)  \n",
    "   - `media_type` missingness inversely relates to temporal features (`post_hour` KS=0.895)  \n",
    "\n",
    "3. **Weak MAR (Borderline MCAR)**:  \n",
    "   - Minimal dependencies between `monetizable` and geographic precision (`KS=0.018`, `p=0.0003`)  \n",
    "\n",
    "---\n",
    "\n",
    "#### **2. Statistical Evidence**  \n",
    "\n",
    "##### **Strongest Dependencies (KS ≥ 0.98)**  \n",
    "| Variable 1          | Variable 2          | KS Statistic | p-value       |  \n",
    "|---------------------|---------------------|--------------|---------------|  \n",
    "| `id`                | `latitude`          | 0.999        | 0.0           |  \n",
    "| `retweet_count`     | `location_type`     | 0.999        | 0.0           |  \n",
    "| `is_quote_status`   | `longitude`         | 0.999        | 0.0           |  \n",
    "\n",
    "##### **Key MNAR Indicators**  \n",
    "| Variable Pair          | KS Statistic | p-value       |  \n",
    "|------------------------|--------------|---------------|  \n",
    "| `possibly_sensitive` ~ `latitude` | 0.439        | 0.0           |  \n",
    "| `media_type` ~ `post_hour`        | 0.895        | 0.0           |  \n",
    "\n",
    "---\n",
    "\n",
    "#### **3. Missingness Mechanism Classification**  \n",
    "\n",
    "##### **3.1 Structural MAR Patterns**  \n",
    "**Variables:** `latitude`, `longitude`, `location_type`, `place_name`, `country_code`  \n",
    "**Critical Insights:**  \n",
    "- 100% co-missing with engagement metrics (`retweet_count`, `favorite_count`)  \n",
    "- Temporal dependency: Missingness correlates with `post_hour` (KS=0.999) and `day_of_week` (KS=0.999)  \n",
    "\n",
    "##### **3.2 Content-Driven MNAR**  \n",
    "**Variables:** `possibly_sensitive`, `media_type`  \n",
    "**Evidence:**  \n",
    "- `possibly_sensitive` missingness linked to:  \n",
    "  - Reduced content features (`hashtags_count` KS=0.559)  \n",
    "  - Temporal avoidance patterns (`post_hour` KS=0.559)  \n",
    "- `media_type` missingness shows platform-specific gaps  \n",
    "\n",
    "##### **3.3 Weak MAR/Near-MCAR**  \n",
    "**Variables:** `monetizable`, `duration_millis`  \n",
    "**Key Relationships:**  \n",
    "- Faint but significant ties to geographic precision (`latitude` KS=0.018)  \n",
    "---\n",
    "\n",
    "**Final Conclusion**: The missingness structure is **predominantly MAR** with critical MNAR exceptions in sensitive content. A three-tiered geographic imputation approach combined with explicit MNAR flagging ensures analytical robustness. Weak MAR cases require monitoring but pose minimal risk."
   ]
  },
  {
   "cell_type": "markdown",
   "id": "8cb80b55",
   "metadata": {},
   "source": [
    "### Data Imputation Implementation\n",
    "#### 1. Hierarchical Geographic Imputation System\n",
    "\n",
    "##### 1.1 Precision-Tiered Imputation\n",
    "**Mechanism**: Coordinate → Place → Country hierarchy \n",
    "##### Stage 1: Coordinate-Level"
   ]
  },
  {
   "cell_type": "code",
   "execution_count": 169,
   "id": "c68679a5",
   "metadata": {},
   "outputs": [
    {
     "data": {
      "application/vnd.microsoft.datawrangler.viewer.v0+json": {
       "columns": [
        {
         "name": "index",
         "rawType": "int64",
         "type": "integer"
        },
        {
         "name": "latitude",
         "rawType": "float64",
         "type": "float"
        },
        {
         "name": "longitude",
         "rawType": "float64",
         "type": "float"
        }
       ],
       "conversionMethod": "pd.DataFrame",
       "ref": "91a03e40-f9cf-4291-bf31-16272663e385",
       "rows": [
        [
         "0",
         "24.71602670382353",
         "-13.236992686470586"
        ],
        [
         "1",
         "24.71602670382353",
         "-13.236992686470586"
        ],
        [
         "2",
         "24.71602670382353",
         "-13.236992686470586"
        ],
        [
         "3",
         "24.71602670382353",
         "-13.236992686470586"
        ],
        [
         "4",
         "24.71602670382353",
         "-13.236992686470586"
        ],
        [
         "5",
         "24.71602670382353",
         "-13.236992686470586"
        ],
        [
         "6",
         "24.71602670382353",
         "-13.236992686470586"
        ],
        [
         "7",
         "24.71602670382353",
         "-13.236992686470586"
        ],
        [
         "8",
         "24.71602670382353",
         "-13.236992686470586"
        ],
        [
         "9",
         "24.71602670382353",
         "-13.236992686470586"
        ],
        [
         "10",
         "24.71602670382353",
         "-13.236992686470586"
        ],
        [
         "11",
         "24.71602670382353",
         "-13.236992686470586"
        ],
        [
         "12",
         "24.71602670382353",
         "-13.236992686470586"
        ],
        [
         "13",
         "24.71602670382353",
         "-13.236992686470586"
        ],
        [
         "14",
         "24.71602670382353",
         "-13.236992686470586"
        ],
        [
         "15",
         "24.71602670382353",
         "-13.236992686470586"
        ],
        [
         "16",
         "24.71602670382353",
         "-13.236992686470586"
        ],
        [
         "17",
         "24.71602670382353",
         "-13.236992686470586"
        ],
        [
         "18",
         "24.71602670382353",
         "-13.236992686470586"
        ],
        [
         "19",
         "24.71602670382353",
         "-13.236992686470586"
        ],
        [
         "20",
         "24.71602670382353",
         "-13.236992686470586"
        ],
        [
         "21",
         "24.71602670382353",
         "-13.236992686470586"
        ],
        [
         "22",
         "24.71602670382353",
         "-13.236992686470586"
        ],
        [
         "23",
         "24.71602670382353",
         "-13.236992686470586"
        ],
        [
         "24",
         "24.71602670382353",
         "-13.236992686470586"
        ],
        [
         "25",
         "24.71602670382353",
         "-13.236992686470586"
        ],
        [
         "26",
         "24.71602670382353",
         "-13.236992686470586"
        ],
        [
         "27",
         "24.71602670382353",
         "-13.236992686470586"
        ],
        [
         "28",
         "24.71602670382353",
         "-13.236992686470586"
        ],
        [
         "29",
         "24.71602670382353",
         "-13.236992686470586"
        ],
        [
         "30",
         "24.71602670382353",
         "-13.236992686470586"
        ],
        [
         "31",
         "24.71602670382353",
         "-13.236992686470586"
        ],
        [
         "32",
         "24.71602670382353",
         "-13.236992686470586"
        ],
        [
         "33",
         "24.71602670382353",
         "-13.236992686470586"
        ],
        [
         "34",
         "24.71602670382353",
         "-13.236992686470586"
        ],
        [
         "35",
         "24.71602670382353",
         "-13.236992686470586"
        ],
        [
         "36",
         "24.71602670382353",
         "-13.236992686470586"
        ],
        [
         "37",
         "24.71602670382353",
         "-13.236992686470586"
        ],
        [
         "38",
         "24.71602670382353",
         "-13.236992686470586"
        ],
        [
         "39",
         "24.71602670382353",
         "-13.236992686470586"
        ],
        [
         "40",
         "24.71602670382353",
         "-13.236992686470586"
        ],
        [
         "41",
         "24.71602670382353",
         "-13.236992686470586"
        ],
        [
         "42",
         "24.71602670382353",
         "-13.236992686470586"
        ],
        [
         "43",
         "24.71602670382353",
         "-13.236992686470586"
        ],
        [
         "44",
         "24.71602670382353",
         "-13.236992686470586"
        ],
        [
         "45",
         "24.71602670382353",
         "-13.236992686470586"
        ],
        [
         "46",
         "24.71602670382353",
         "-13.236992686470586"
        ],
        [
         "47",
         "24.71602670382353",
         "-13.236992686470586"
        ],
        [
         "48",
         "24.71602670382353",
         "-13.236992686470586"
        ],
        [
         "49",
         "24.71602670382353",
         "-13.236992686470586"
        ]
       ],
       "shape": {
        "columns": 2,
        "rows": 25245
       }
      },
      "text/html": [
       "<div>\n",
       "<style scoped>\n",
       "    .dataframe tbody tr th:only-of-type {\n",
       "        vertical-align: middle;\n",
       "    }\n",
       "\n",
       "    .dataframe tbody tr th {\n",
       "        vertical-align: top;\n",
       "    }\n",
       "\n",
       "    .dataframe thead th {\n",
       "        text-align: right;\n",
       "    }\n",
       "</style>\n",
       "<table border=\"1\" class=\"dataframe\">\n",
       "  <thead>\n",
       "    <tr style=\"text-align: right;\">\n",
       "      <th></th>\n",
       "      <th>latitude</th>\n",
       "      <th>longitude</th>\n",
       "    </tr>\n",
       "  </thead>\n",
       "  <tbody>\n",
       "    <tr>\n",
       "      <th>0</th>\n",
       "      <td>24.716027</td>\n",
       "      <td>-13.236993</td>\n",
       "    </tr>\n",
       "    <tr>\n",
       "      <th>1</th>\n",
       "      <td>24.716027</td>\n",
       "      <td>-13.236993</td>\n",
       "    </tr>\n",
       "    <tr>\n",
       "      <th>2</th>\n",
       "      <td>24.716027</td>\n",
       "      <td>-13.236993</td>\n",
       "    </tr>\n",
       "    <tr>\n",
       "      <th>3</th>\n",
       "      <td>24.716027</td>\n",
       "      <td>-13.236993</td>\n",
       "    </tr>\n",
       "    <tr>\n",
       "      <th>4</th>\n",
       "      <td>24.716027</td>\n",
       "      <td>-13.236993</td>\n",
       "    </tr>\n",
       "    <tr>\n",
       "      <th>...</th>\n",
       "      <td>...</td>\n",
       "      <td>...</td>\n",
       "    </tr>\n",
       "    <tr>\n",
       "      <th>25240</th>\n",
       "      <td>24.716027</td>\n",
       "      <td>-13.236993</td>\n",
       "    </tr>\n",
       "    <tr>\n",
       "      <th>25241</th>\n",
       "      <td>24.716027</td>\n",
       "      <td>-13.236993</td>\n",
       "    </tr>\n",
       "    <tr>\n",
       "      <th>25242</th>\n",
       "      <td>24.716027</td>\n",
       "      <td>-13.236993</td>\n",
       "    </tr>\n",
       "    <tr>\n",
       "      <th>25243</th>\n",
       "      <td>24.716027</td>\n",
       "      <td>-13.236993</td>\n",
       "    </tr>\n",
       "    <tr>\n",
       "      <th>25244</th>\n",
       "      <td>24.716027</td>\n",
       "      <td>-13.236993</td>\n",
       "    </tr>\n",
       "  </tbody>\n",
       "</table>\n",
       "<p>25245 rows × 2 columns</p>\n",
       "</div>"
      ],
      "text/plain": [
       "        latitude  longitude\n",
       "0      24.716027 -13.236993\n",
       "1      24.716027 -13.236993\n",
       "2      24.716027 -13.236993\n",
       "3      24.716027 -13.236993\n",
       "4      24.716027 -13.236993\n",
       "...          ...        ...\n",
       "25240  24.716027 -13.236993\n",
       "25241  24.716027 -13.236993\n",
       "25242  24.716027 -13.236993\n",
       "25243  24.716027 -13.236993\n",
       "25244  24.716027 -13.236993\n",
       "\n",
       "[25245 rows x 2 columns]"
      ]
     },
     "metadata": {},
     "output_type": "display_data"
    }
   ],
   "source": [
    "from sklearn.experimental import enable_iterative_imputer\n",
    "from sklearn.impute import IterativeImputer\n",
    "from sklearn.ensemble import HistGradientBoostingRegressor\n",
    "coord_cols = ['latitude', 'longitude']\n",
    "features = coord_cols + ['post_hour', 'is_weekend', 'retweet_count']\n",
    "\n",
    "coord_imputer = IterativeImputer(\n",
    "    estimator=HistGradientBoostingRegressor(\n",
    "        max_iter=150,\n",
    "        learning_rate=0.1,\n",
    "        max_depth=3,\n",
    "        random_state=42,\n",
    "    ),\n",
    "    max_iter=10,\n",
    "    initial_strategy='median',\n",
    "    skip_complete=True\n",
    ")\n",
    "imputed = coord_imputer.fit_transform(df[features])\n",
    "df[coord_cols] = imputed[:, :len(coord_cols)]\n",
    "display(df[coord_cols])"
   ]
  },
  {
   "cell_type": "markdown",
   "id": "edaf3c89",
   "metadata": {},
   "source": [
    "##### Stage 2: Place Metadata"
   ]
  },
  {
   "cell_type": "code",
   "execution_count": 170,
   "id": "a082efab",
   "metadata": {},
   "outputs": [],
   "source": [
    "from sklearn.linear_model import BayesianRidge\n",
    "\n",
    "place_imputer = IterativeImputer(\n",
    "    estimator=BayesianRidge(),\n",
    "    max_iter=20,\n",
    "    add_indicator=True,\n",
    "    random_state=42,\n",
    ")\n",
    "place_cols = ['place_name', 'place_type']\n",
    "\n",
    "for col in place_cols:\n",
    "    df[col] = df[col].astype('category').cat.codes\n",
    "    df[col] = df[col].replace(-1, np.nan)\n",
    "\n",
    "df['mentions_count'] = df['mentions_count'].apply(lambda x: len(x) if isinstance(x, list) else 0)\n",
    "\n",
    "df['day_of_week'] = df['day_of_week'].astype('category').cat.codes\n",
    "\n",
    "imputed_data = place_imputer.fit_transform(\n",
    "    df[place_cols + coord_cols + ['mentions_count', 'day_of_week']].values\n",
    ")\n",
    "\n",
    "df[place_cols] = imputed_data[:, :len(place_cols)]"
   ]
  },
  {
   "cell_type": "markdown",
   "id": "f5f52578",
   "metadata": {},
   "source": [
    "##### Stage 3: Country Codes"
   ]
  },
  {
   "cell_type": "code",
   "execution_count": 171,
   "id": "6a79aedd",
   "metadata": {},
   "outputs": [],
   "source": [
    "from sklearn.impute import KNNImputer\n",
    "\n",
    "country_imputer = KNNImputer(\n",
    "    n_neighbors=7,\n",
    "    weights='distance',\n",
    "    metric='nan_euclidean'\n",
    ")\n",
    "df['country_code'] = df['country_code'].astype('category').cat.codes\n",
    "df['lang'] = df['lang'].astype('category').cat.codes\n",
    "df['country_code'] = country_imputer.fit_transform(\n",
    "    df[['country_code'] + place_cols + ['lang']]\n",
    ")"
   ]
  },
  {
   "cell_type": "markdown",
   "id": "54b413c6",
   "metadata": {},
   "source": [
    "##### 2. MNAR-Sensitive Content Handling\n",
    "Mechanism: Pattern-based flagging with residual analysis\n",
    "\n",
    "2.1 Pattern-Based Multiple Imputation"
   ]
  },
  {
   "cell_type": "code",
   "execution_count": 172,
   "id": "05d33369",
   "metadata": {},
   "outputs": [
    {
     "name": "stderr",
     "output_type": "stream",
     "text": [
      "C:\\Users\\senor\\AppData\\Local\\Temp\\ipykernel_23692\\1149601201.py:19: FutureWarning:\n",
      "\n",
      "Setting an item of incompatible dtype is deprecated and will raise an error in a future version of pandas. Value '[]' has dtype incompatible with bool, please explicitly cast to a compatible dtype first.\n",
      "\n",
      "C:\\Users\\senor\\AppData\\Local\\Temp\\ipykernel_23692\\1149601201.py:19: FutureWarning:\n",
      "\n",
      "Setting an item of incompatible dtype is deprecated and will raise an error in a future version of pandas. Value '[]' has dtype incompatible with bool, please explicitly cast to a compatible dtype first.\n",
      "\n",
      "C:\\Users\\senor\\AppData\\Local\\Temp\\ipykernel_23692\\1149601201.py:19: FutureWarning:\n",
      "\n",
      "Setting an item of incompatible dtype is deprecated and will raise an error in a future version of pandas. Value '[]' has dtype incompatible with bool, please explicitly cast to a compatible dtype first.\n",
      "\n",
      "C:\\Users\\senor\\AppData\\Local\\Temp\\ipykernel_23692\\1149601201.py:19: FutureWarning:\n",
      "\n",
      "Setting an item of incompatible dtype is deprecated and will raise an error in a future version of pandas. Value '[]' has dtype incompatible with bool, please explicitly cast to a compatible dtype first.\n",
      "\n",
      "C:\\Users\\senor\\AppData\\Local\\Temp\\ipykernel_23692\\1149601201.py:19: FutureWarning:\n",
      "\n",
      "Setting an item of incompatible dtype is deprecated and will raise an error in a future version of pandas. Value '[]' has dtype incompatible with bool, please explicitly cast to a compatible dtype first.\n",
      "\n",
      "C:\\Users\\senor\\AppData\\Local\\Temp\\ipykernel_23692\\1149601201.py:19: FutureWarning:\n",
      "\n",
      "Setting an item of incompatible dtype is deprecated and will raise an error in a future version of pandas. Value '[]' has dtype incompatible with bool, please explicitly cast to a compatible dtype first.\n",
      "\n",
      "C:\\Users\\senor\\AppData\\Local\\Temp\\ipykernel_23692\\1149601201.py:19: FutureWarning:\n",
      "\n",
      "Setting an item of incompatible dtype is deprecated and will raise an error in a future version of pandas. Value '[]' has dtype incompatible with bool, please explicitly cast to a compatible dtype first.\n",
      "\n",
      "C:\\Users\\senor\\AppData\\Local\\Temp\\ipykernel_23692\\1149601201.py:19: FutureWarning:\n",
      "\n",
      "Setting an item of incompatible dtype is deprecated and will raise an error in a future version of pandas. Value '[]' has dtype incompatible with bool, please explicitly cast to a compatible dtype first.\n",
      "\n",
      "C:\\Users\\senor\\AppData\\Local\\Temp\\ipykernel_23692\\1149601201.py:19: FutureWarning:\n",
      "\n",
      "Setting an item of incompatible dtype is deprecated and will raise an error in a future version of pandas. Value '[]' has dtype incompatible with bool, please explicitly cast to a compatible dtype first.\n",
      "\n",
      "C:\\Users\\senor\\AppData\\Local\\Temp\\ipykernel_23692\\1149601201.py:19: FutureWarning:\n",
      "\n",
      "Setting an item of incompatible dtype is deprecated and will raise an error in a future version of pandas. Value '[]' has dtype incompatible with bool, please explicitly cast to a compatible dtype first.\n",
      "\n",
      "C:\\Users\\senor\\AppData\\Local\\Temp\\ipykernel_23692\\1149601201.py:19: FutureWarning:\n",
      "\n",
      "Setting an item of incompatible dtype is deprecated and will raise an error in a future version of pandas. Value '[]' has dtype incompatible with bool, please explicitly cast to a compatible dtype first.\n",
      "\n",
      "C:\\Users\\senor\\AppData\\Local\\Temp\\ipykernel_23692\\1149601201.py:19: FutureWarning:\n",
      "\n",
      "Setting an item of incompatible dtype is deprecated and will raise an error in a future version of pandas. Value '[]' has dtype incompatible with bool, please explicitly cast to a compatible dtype first.\n",
      "\n",
      "C:\\Users\\senor\\AppData\\Local\\Temp\\ipykernel_23692\\1149601201.py:19: FutureWarning:\n",
      "\n",
      "Setting an item of incompatible dtype is deprecated and will raise an error in a future version of pandas. Value '[]' has dtype incompatible with bool, please explicitly cast to a compatible dtype first.\n",
      "\n",
      "C:\\Users\\senor\\AppData\\Local\\Temp\\ipykernel_23692\\1149601201.py:19: FutureWarning:\n",
      "\n",
      "Setting an item of incompatible dtype is deprecated and will raise an error in a future version of pandas. Value '[]' has dtype incompatible with bool, please explicitly cast to a compatible dtype first.\n",
      "\n",
      "C:\\Users\\senor\\AppData\\Local\\Temp\\ipykernel_23692\\1149601201.py:19: FutureWarning:\n",
      "\n",
      "Setting an item of incompatible dtype is deprecated and will raise an error in a future version of pandas. Value '[]' has dtype incompatible with bool, please explicitly cast to a compatible dtype first.\n",
      "\n"
     ]
    }
   ],
   "source": [
    "from sklearn.ensemble import ExtraTreesRegressor\n",
    "import numpy as np\n",
    "import pandas as pd\n",
    "\n",
    "df = df.assign(\n",
    "    sensitive_x_media=df['possibly_sensitive'].isnull().astype(int) * df['media_type'].isnull().astype(int),\n",
    "    time_sensitive=df['post_hour'] * df['possibly_sensitive'].isnull().astype(int)\n",
    ")\n",
    "imputed_datasets = []\n",
    "n_imputations = 15\n",
    "\n",
    "df['media_type'] = df['media_type'].astype('category')\n",
    "media_type_codes = df['media_type'].cat.codes.replace(-1, np.nan)\n",
    "\n",
    "for _ in range(n_imputations):\n",
    "    temp_df = df.copy()\n",
    "\n",
    "    mnar_mask = temp_df['possibly_sensitive'].isnull()\n",
    "    temp_df.loc[mnar_mask, 'possibly_sensitive'] = np.random.choice(\n",
    "        [0, 1],\n",
    "        size=mnar_mask.sum(),\n",
    "        p=[0.85, 0.15]\n",
    "    )\n",
    "    temp_df['media_type_encoded'] = media_type_codes\n",
    "\n",
    "    media_imputer = IterativeImputer(\n",
    "        estimator=ExtraTreesRegressor(\n",
    "            n_estimators=75,\n",
    "            random_state=42,\n",
    "            max_depth=10,\n",
    "            n_jobs=-1\n",
    "        ),\n",
    "        max_iter=7,\n",
    "        random_state=42,\n",
    "        add_indicator=False\n",
    "    )\n",
    "\n",
    "    media_cols = ['media_type_encoded', 'duration_millis', 'monetizable']\n",
    "    predictor_cols = ['favorite_count', 'post_hour']\n",
    "\n",
    "    imputed_values = media_imputer.fit_transform(\n",
    "        temp_df[media_cols + predictor_cols]\n",
    "    )\n",
    "\n",
    "    temp_df[media_cols] = imputed_values[:, :len(media_cols)]\n",
    "\n",
    "    temp_df['media_type'] = pd.Categorical.from_codes(\n",
    "        temp_df['media_type_encoded'].round().astype(int),\n",
    "        categories=df['media_type'].cat.categories\n",
    "    )\n",
    "    temp_df.drop('media_type_encoded', axis=1, inplace=True)\n",
    "    imputed_datasets.append(temp_df)\n",
    "\n",
    "if imputed_datasets:\n",
    "    df = imputed_datasets[0].copy()"
   ]
  },
  {
   "cell_type": "markdown",
   "id": "baa7c376",
   "metadata": {},
   "source": [
    "#### 3. Temporal-Feature Integrated Engine\n",
    "3.1 Cyclical Time Encoding"
   ]
  },
  {
   "cell_type": "code",
   "execution_count": 173,
   "id": "ac204a53",
   "metadata": {},
   "outputs": [],
   "source": [
    "from lightgbm import LGBMRegressor\n",
    "\n",
    "def cyclic_encode(series, period):\n",
    "    encoded_sin = np.sin(2 * np.pi * series / period)\n",
    "    encoded_cos = np.cos(2 * np.pi * series / period)\n",
    "    return encoded_sin, encoded_cos\n",
    "valid_hour_mask = df['post_hour'].notna()\n",
    "valid_day_mask = df['day_of_week'].notna()\n",
    "\n",
    "df.loc[valid_hour_mask, 'post_hour_sin'], df.loc[valid_hour_mask, 'post_hour_cos'] = \\\n",
    "    cyclic_encode(df.loc[valid_hour_mask, 'post_hour'], 24)\n",
    "\n",
    "df.loc[valid_day_mask, 'day_of_week_sin'], df.loc[valid_day_mask, 'day_of_week_cos'] = \\\n",
    "    cyclic_encode(df.loc[valid_day_mask, 'day_of_week'], 7)\n",
    "\n",
    "time_features = ['post_hour', 'day_of_week', 'duration_millis',\n",
    "                'post_hour_sin', 'post_hour_cos']\n",
    "\n",
    "time_imputer = IterativeImputer(\n",
    "    estimator=LGBMRegressor(\n",
    "        num_leaves=31,\n",
    "        min_data_in_leaf=50,\n",
    "        verbose=-1,\n",
    "        random_state=42\n",
    "    ),\n",
    "    max_iter=15,\n",
    "    random_state=42\n",
    ")\n",
    "\n",
    "X_time = df[time_features].values\n",
    "feature_names = time_features\n",
    "\n",
    "imputed_time = time_imputer.fit_transform(X_time)\n",
    "\n",
    "df[['post_hour', 'day_of_week', 'duration_millis']] = imputed_time[:, :3]\n",
    "\n",
    "df.drop(['post_hour_sin', 'post_hour_cos'], axis=1, inplace=True)"
   ]
  },
  {
   "cell_type": "code",
   "execution_count": 174,
   "id": "730edddd",
   "metadata": {},
   "outputs": [],
   "source": [
    "from sklearn.linear_model import BayesianRidge\n",
    "\n",
    "place_imputer = IterativeImputer(\n",
    "    estimator=BayesianRidge(),\n",
    "    max_iter=20,\n",
    "    add_indicator=True,\n",
    "    random_state=42,\n",
    ")\n",
    "place_cols = ['place_name', 'place_type']\n",
    "\n",
    "for col in place_cols:\n",
    "    df[col] = df[col].astype('category').cat.codes\n",
    "    df[col] = df[col].replace(-1, np.nan)\n",
    "\n",
    "df['mentions_count'] = df['mentions_count'].apply(lambda x: len(x) if isinstance(x, list) else 0)\n",
    "\n",
    "df['day_of_week'] = df['day_of_week'].astype('category').cat.codes\n",
    "\n",
    "imputed_data = place_imputer.fit_transform(\n",
    "    df[place_cols + coord_cols + ['mentions_count', 'day_of_week']].values\n",
    ")\n",
    "\n",
    "df[place_cols] = imputed_data[:, :len(place_cols)]"
   ]
  },
  {
   "cell_type": "markdown",
   "id": "43782581",
   "metadata": {},
   "source": [
    "#### 2. Feature Engineering for MAR Patterns\n",
    "2.1 Missingness Interaction Terms"
   ]
  },
  {
   "cell_type": "code",
   "execution_count": 175,
   "id": "dbcb3ef3",
   "metadata": {},
   "outputs": [],
   "source": [
    "df['geo_missing_x_engagement'] = (\n",
    "    df['latitude'].isnull().astype(int) * df['retweet_count'].fillna(0)\n",
    ")\n",
    "\n",
    "df['coord_missing_x_time'] = (\n",
    "    df[coord_cols].isnull().any(axis=1).astype(int) * df['post_hour'].between(20, 23).astype(int)\n",
    ")\n",
    "\n",
    "df['media_missing_x_engagement'] = (\n",
    "    df['media_type'].isnull().astype(int) * \n",
    "    (df['retweet_count'].fillna(0) + df['favorite_count'].fillna(0))\n",
    ")\n",
    "\n",
    "df['peak_time_missing'] = (\n",
    "    df['post_hour'].isnull().astype(int) & \n",
    "    df['day_of_week'].isin([4, 5, 6]).astype(int)\n",
    ")\n"
   ]
  },
  {
   "cell_type": "markdown",
   "id": "9babd45d",
   "metadata": {},
   "source": [
    "2.2 Temporal Aggregation Features"
   ]
  },
  {
   "cell_type": "code",
   "execution_count": 176,
   "id": "e4646696",
   "metadata": {},
   "outputs": [
    {
     "name": "stderr",
     "output_type": "stream",
     "text": [
      "C:\\Users\\senor\\AppData\\Local\\Temp\\ipykernel_23692\\4055538447.py:7: FutureWarning:\n",
      "\n",
      "The default of observed=False is deprecated and will be changed to True in a future version of pandas. Pass observed=False to retain current behavior or observed=True to adopt the future default and silence this warning.\n",
      "\n",
      "C:\\Users\\senor\\AppData\\Local\\Temp\\ipykernel_23692\\4055538447.py:19: FutureWarning:\n",
      "\n",
      "The default of observed=False is deprecated and will be changed to True in a future version of pandas. Pass observed=False to retain current behavior or observed=True to adopt the future default and silence this warning.\n",
      "\n"
     ]
    }
   ],
   "source": [
    "df['post_hour'] = df['post_hour'].astype(float)\n",
    "df['day_of_week'] = df['day_of_week'].astype(int)\n",
    "\n",
    "df['hourly_retweet_avg'] = df.groupby('post_hour')['retweet_count'].transform('mean')\n",
    "df['hourly_favorite_avg'] = df.groupby('post_hour')['favorite_count'].transform('mean')\n",
    "\n",
    "media_time_features = df.groupby(['media_type', 'day_of_week']).agg({\n",
    "    'latitude': 'mean',\n",
    "    'longitude': 'mean'\n",
    "}).reset_index()\n",
    "\n",
    "df = df.merge(\n",
    "    media_time_features,\n",
    "    how='left',\n",
    "    on=['media_type', 'day_of_week'],\n",
    "    suffixes=('', '_agg')\n",
    ")\n",
    "df[['latitude_agg', 'longitude_agg']] = df[['latitude_agg', 'longitude_agg']].fillna(\n",
    "    df.groupby('media_type')[['latitude', 'longitude']].transform('mean'))"
   ]
  },
  {
   "cell_type": "markdown",
   "id": "e022307a",
   "metadata": {},
   "source": [
    "#### 3. Validation Framework\n",
    "3.1 Geographic Consistency Checks"
   ]
  },
  {
   "cell_type": "code",
   "execution_count": 177,
   "id": "0dd88e2f",
   "metadata": {},
   "outputs": [],
   "source": [
    "invalid_place = df['place_name'].notna() & (df['latitude'].isna() | df['longitude'].isna())\n",
    "assert invalid_place.sum() == 0, f\"{invalid_place.sum()} invalid place records\"\n",
    "\n",
    "invalid_country = df['country_code'].notna() & df['place_name'].isna()\n",
    "assert invalid_country.sum() == 0, f\"{invalid_country.sum()} invalid country records\""
   ]
  },
  {
   "cell_type": "markdown",
   "id": "7076d330",
   "metadata": {},
   "source": [
    "3.2 Distribution Preservation"
   ]
  },
  {
   "cell_type": "code",
   "execution_count": 178,
   "id": "ba655dce",
   "metadata": {},
   "outputs": [
    {
     "name": "stdout",
     "output_type": "stream",
     "text": [
      "latitude: KS=0.824, p=0.0000 (!)\n",
      "retweet_count: KS=0.000, p=1.0000 (OK)\n",
      "duration_millis: KS=0.407, p=0.0000 (!)\n"
     ]
    }
   ],
   "source": [
    "from scipy.stats import ks_2samp\n",
    "\n",
    "original = pd.read_csv('bot_tweets_cleaned.csv')\n",
    "for col in ['latitude', 'retweet_count', 'duration_millis']:\n",
    "    stat, p = ks_2samp(original[col].dropna(), df[col].dropna())\n",
    "    print(f\"{col}: KS={stat:.3f}, p={p:.4f} {'(OK)' if p > 0.05 else '(!)'}\")"
   ]
  },
  {
   "cell_type": "markdown",
   "id": "26de305b",
   "metadata": {},
   "source": [
    "3.3 Correlation Structure Validation"
   ]
  },
  {
   "cell_type": "code",
   "execution_count": 179,
   "id": "2a0fa60d",
   "metadata": {},
   "outputs": [
    {
     "name": "stdout",
     "output_type": "stream",
     "text": [
      "Average correlation shift: 0.0563\n"
     ]
    }
   ],
   "source": [
    "original['media_type_encoded'] = original['media_type'].astype('category').cat.codes\n",
    "df['media_type_encoded'] = df['media_type'].astype('category').cat.codes\n",
    "\n",
    "original_corr = original[['latitude', 'retweet_count', 'media_type_encoded']].corr()\n",
    "imputed_corr = df[['latitude', 'retweet_count', 'media_type_encoded']].corr()\n",
    "\n",
    "corr_delta = (original_corr - imputed_corr).abs().mean().mean()\n",
    "print(f\"Average correlation shift: {corr_delta:.4f}\")"
   ]
  },
  {
   "cell_type": "markdown",
   "id": "a8a4a16f",
   "metadata": {},
   "source": [
    "3.4 Output Export"
   ]
  },
  {
   "cell_type": "code",
   "execution_count": 180,
   "id": "b56455e3",
   "metadata": {},
   "outputs": [],
   "source": [
    "df = df.convert_dtypes()\n",
    "df.to_csv('imputed_data.csv', index=False)"
   ]
  },
  {
   "cell_type": "markdown",
   "id": "8a068841",
   "metadata": {},
   "source": [
    "## 4. Model Implementation\n",
    "<a id=\"#4-model-implementation\"></a>\n",
    "The model used will be random forest to utilize multiple decision trees or bagging for binary classification of the account type of bot and human. GridCV will be used to determine the best parameters for classification."
   ]
  },
  {
   "cell_type": "markdown",
   "id": "b6b14fa0",
   "metadata": {},
   "source": [
    "### 4.1 Data Prep for Model Classification\n",
    "The imputed data will be loaded to be used in model traning and classification. The split will be 70/30 for training and testing with a random seed of 42."
   ]
  },
  {
   "cell_type": "code",
   "execution_count": 195,
   "id": "efef14ba",
   "metadata": {},
   "outputs": [
    {
     "name": "stdout",
     "output_type": "stream",
     "text": [
      "Train set size: (17671, 17671), Test set size: (7574, 7574)\n"
     ]
    }
   ],
   "source": [
    "from sklearn.model_selection import train_test_split\n",
    "import pandas as pd\n",
    "df = pd.read_csv('imputed_data.csv')\n",
    "y= df['label'] = df['label'].map(lambda x: 1 if x == 'bot' else 0)\n",
    "X = df.drop(columns=['label'])\n",
    "X_train, X_test, y_train, y_test = train_test_split(X, y, test_size=0.3, random_state=42)\n",
    "print(f\"Train set size: {len(X_train),len(y_train)}, Test set size: {len(X_test),len(y_test)}\")\n"
   ]
  },
  {
   "cell_type": "markdown",
   "id": "28513677",
   "metadata": {},
   "source": [
    "### 4.2 Model Training\n",
    "The RandomForest model will be used to train and test the data."
   ]
  },
  {
   "cell_type": "markdown",
   "id": "e9bb9b50",
   "metadata": {},
   "source": [
    "#### 4.2.1 Initializing the  tree model and it's parameters.\n",
    "LGBM is used for a faster more accurate and is best for large datasets."
   ]
  },
  {
   "cell_type": "code",
   "execution_count": 208,
   "id": "1524da93",
   "metadata": {},
   "outputs": [],
   "source": [
    "from lightgbm import LGBMClassifier\n",
    "\n",
    "model = LGBMClassifier()\n",
    "\n",
    "param_grid = {\n",
    "    'n_estimators': [100, 150],\n",
    "    'learning_rate': [0.05, 0.1],\n",
    "    'max_depth': [10, 15],\n",
    "    'num_leaves': [31, 50],\n",
    "    'min_data_in_leaf': [20, 40],\n",
    "    'feature_fraction': [0.8, 1.0],\n",
    "    'boosting_type': ['gbdt', 'dart'],\n",
    "}\n"
   ]
  },
  {
   "cell_type": "markdown",
   "id": "1959fd70",
   "metadata": {},
   "source": [
    "#### 4.2.2 Using GridCV for training"
   ]
  },
  {
   "cell_type": "code",
   "execution_count": 209,
   "id": "6cec1153",
   "metadata": {},
   "outputs": [
    {
     "name": "stdout",
     "output_type": "stream",
     "text": [
      "Fitting 5 folds for each of 128 candidates, totalling 640 fits\n"
     ]
    }
   ],
   "source": [
    "from sklearn.model_selection import GridSearchCV\n",
    "results = {}\n",
    "gridcv = GridSearchCV(\n",
    "    model,\n",
    "    param_grid=param_grid,\n",
    "    scoring='f1_macro',\n",
    "    verbose=3,\n",
    "    cv=5,\n",
    "    n_jobs=-1\n",
    ")\n",
    "gridcv.fit(X_train, y_train)\n",
    "model_name = type(model).__name__\n",
    "results[model_name] = {\n",
    "        'best_params': gridcv.best_params_,\n",
    "        'best_score': gridcv.best_score_,\n",
    "        'cv_results': gridcv.cv_results_,\n",
    "        'best_estimator': gridcv.best_estimator_,\n",
    "    }"
   ]
  },
  {
   "cell_type": "markdown",
   "id": "f396fc67",
   "metadata": {},
   "source": [
    "### 4.2.3 GridCv results"
   ]
  },
  {
   "cell_type": "code",
   "execution_count": 211,
   "id": "7571bfa3",
   "metadata": {},
   "outputs": [
    {
     "name": "stdout",
     "output_type": "stream",
     "text": [
      "\n",
      "📊 GridSearchCV Results for LGBMClassifier\n",
      "Best Parameters: {'boosting_type': 'gbdt', 'feature_fraction': 1.0, 'learning_rate': 0.1, 'max_depth': 15, 'min_data_in_leaf': 20, 'n_estimators': 150, 'num_leaves': 50}\n",
      "Best F1 Score: 0.6676\n",
      "\n",
      "Top 5 Grid Search Results:\n",
      "                                                                                                                                                  params  mean_test_score  std_test_score  rank_test_score\n",
      "{'boosting_type': 'gbdt', 'feature_fraction': 1.0, 'learning_rate': 0.1, 'max_depth': 15, 'min_data_in_leaf': 20, 'n_estimators': 150, 'num_leaves': 50}         0.667643        0.011002                1\n",
      "{'boosting_type': 'gbdt', 'feature_fraction': 0.8, 'learning_rate': 0.1, 'max_depth': 15, 'min_data_in_leaf': 20, 'n_estimators': 150, 'num_leaves': 50}         0.666191        0.007170                2\n",
      "{'boosting_type': 'gbdt', 'feature_fraction': 0.8, 'learning_rate': 0.1, 'max_depth': 15, 'min_data_in_leaf': 40, 'n_estimators': 150, 'num_leaves': 50}         0.664425        0.011433                3\n",
      "{'boosting_type': 'gbdt', 'feature_fraction': 0.8, 'learning_rate': 0.1, 'max_depth': 10, 'min_data_in_leaf': 20, 'n_estimators': 150, 'num_leaves': 50}         0.663387        0.009134                4\n",
      "{'boosting_type': 'gbdt', 'feature_fraction': 1.0, 'learning_rate': 0.1, 'max_depth': 10, 'min_data_in_leaf': 20, 'n_estimators': 150, 'num_leaves': 50}         0.662235        0.010465                5\n"
     ]
    }
   ],
   "source": [
    "cv_df = pd.DataFrame(gridcv.cv_results_)\n",
    "cv_df.to_csv('grid_search_results.csv', index=False, encoding='utf-8')\n",
    "cv_df_sorted = cv_df.sort_values(by='mean_test_score', ascending=False)\n",
    "\n",
    "display_cols = ['params', 'mean_test_score', 'std_test_score', 'rank_test_score']\n",
    "print(f\"\\n📊 GridSearchCV Results for {model_name}\")\n",
    "print(\"Best Parameters:\", gridcv.best_params_)\n",
    "print(\"Best F1 Score: {:.4f}\".format(gridcv.best_score_))\n",
    "print(\"\\nTop 5 Grid Search Results:\")\n",
    "print(cv_df_sorted[display_cols].head(5).to_string(index=False))"
   ]
  },
  {
   "cell_type": "markdown",
   "id": "764992d4",
   "metadata": {},
   "source": [
    "#### 4.2.3 Fitting and predicting using best model."
   ]
  },
  {
   "cell_type": "code",
   "execution_count": 239,
   "id": "1e287bba",
   "metadata": {},
   "outputs": [],
   "source": [
    "params = {\n",
    "    'boosting_type': 'gbdt',\n",
    "    'learning_rate': 0.1,\n",
    "    'min_data_in_leaf': 20,\n",
    "    'max_depth': 15,\n",
    "    'num_leaves': 50,\n",
    "    'n_estimators': 150,\n",
    "    'feature_fraction': 1.0,\n",
    "    'is_unbalance': True\n",
    "}\n",
    "classifier = LGBMClassifier()\n",
    "classifier.set_params(**params)\n",
    "classifier.fit(X_train, y_train)\n",
    "y_pred = classifier.predict(X_test)\n",
    "y_pred_proba = classifier.predict_proba(X_test)[:, 1]"
   ]
  },
  {
   "cell_type": "markdown",
   "id": "6a94b9d0",
   "metadata": {},
   "source": [
    "## 5. Evaluation"
   ]
  },
  {
   "cell_type": "markdown",
   "id": "d40e88a3",
   "metadata": {},
   "source": [
    "### 5.1 Classification Report"
   ]
  },
  {
   "cell_type": "code",
   "execution_count": 240,
   "id": "92257a71",
   "metadata": {},
   "outputs": [
    {
     "name": "stdout",
     "output_type": "stream",
     "text": [
      "Classification Report:\n",
      "\n",
      "              precision    recall  f1-score   support\n",
      "\n",
      "           0     0.8141    0.7049    0.7555      4957\n",
      "           1     0.5542    0.6951    0.6167      2617\n",
      "\n",
      "    accuracy                         0.7015      7574\n",
      "   macro avg     0.6842    0.7000    0.6861      7574\n",
      "weighted avg     0.7243    0.7015    0.7076      7574\n",
      "\n"
     ]
    }
   ],
   "source": [
    "from sklearn.metrics import classification_report\n",
    "\n",
    "print(\"Classification Report:\\n\")\n",
    "print(classification_report(y_test, y_pred, digits=4))"
   ]
  },
  {
   "cell_type": "markdown",
   "id": "79d562a4",
   "metadata": {},
   "source": [
    "### 5.2 Confusion Matrix"
   ]
  },
  {
   "cell_type": "code",
   "execution_count": 241,
   "id": "b455495d",
   "metadata": {},
   "outputs": [
    {
     "data": {
      "image/png": "[encoded data removed]",
      "text/plain": [
       "<Figure size 640x480 with 2 Axes>"
      ]
     },
     "metadata": {},
     "output_type": "display_data"
    }
   ],
   "source": [
    "from sklearn.metrics import confusion_matrix, ConfusionMatrixDisplay\n",
    "import matplotlib.pyplot as plt\n",
    "\n",
    "cm = confusion_matrix(y_test, y_pred)\n",
    "disp = ConfusionMatrixDisplay(confusion_matrix=cm)\n",
    "disp.plot(cmap='Blues', values_format='d')\n",
    "plt.title(\"Confusion Matrix\")\n",
    "plt.show()\n"
   ]
  },
  {
   "cell_type": "markdown",
   "id": "ef892d96",
   "metadata": {},
   "source": [
    "### 5.3 ROC Curve & AUC"
   ]
  },
  {
   "cell_type": "code",
   "execution_count": 242,
   "id": "786e2de7",
   "metadata": {},
   "outputs": [
    {
     "data": {
      "image/png": "[encoded data removed]",
      "text/plain": [
       "<Figure size 640x480 with 1 Axes>"
      ]
     },
     "metadata": {},
     "output_type": "display_data"
    }
   ],
   "source": [
    "from sklearn.metrics import roc_curve, roc_auc_score, auc\n",
    "\n",
    "y_proba = gridcv.best_estimator_.predict_proba(X_test)[:, 1]\n",
    "fpr, tpr, _ = roc_curve(y_test, y_proba)\n",
    "roc_auc = auc(fpr, tpr)\n",
    "\n",
    "plt.figure()\n",
    "plt.plot(fpr, tpr, label=f\"ROC curve (AUC = {roc_auc:.4f})\")\n",
    "plt.plot([0, 1], [0, 1], linestyle=\"--\", color=\"gray\")\n",
    "plt.xlabel(\"False Positive Rate\")\n",
    "plt.ylabel(\"True Positive Rate\")\n",
    "plt.title(\"ROC Curve\")\n",
    "plt.legend(loc=\"lower right\")\n",
    "plt.grid(True)\n",
    "plt.show()\n"
   ]
  },
  {
   "cell_type": "markdown",
   "id": "4b0cef3a",
   "metadata": {},
   "source": [
    "### 5.4 Precision-Recall Curve & Average Precision"
   ]
  },
  {
   "cell_type": "code",
   "execution_count": 243,
   "id": "22a20b7e",
   "metadata": {},
   "outputs": [
    {
     "data": {
      "image/png": "[encoded data removed]",
      "text/plain": [
       "<Figure size 640x480 with 1 Axes>"
      ]
     },
     "metadata": {},
     "output_type": "display_data"
    }
   ],
   "source": [
    "from sklearn.metrics import precision_recall_curve, average_precision_score\n",
    "\n",
    "precision, recall, _ = precision_recall_curve(y_test, y_proba)\n",
    "avg_precision = average_precision_score(y_test, y_proba)\n",
    "\n",
    "plt.figure()\n",
    "plt.plot(recall, precision, label=f\"AP = {avg_precision:.4f}\")\n",
    "plt.xlabel(\"Recall\")\n",
    "plt.ylabel(\"Precision\")\n",
    "plt.title(\"Precision-Recall Curve\")\n",
    "plt.legend()\n",
    "plt.grid(True)\n",
    "plt.show()\n"
   ]
  },
  {
   "cell_type": "markdown",
   "id": "a8e0b7b5",
   "metadata": {},
   "source": [
    "### 5.5 Scores Summary"
   ]
  },
  {
   "cell_type": "code",
   "execution_count": 244,
   "id": "1c85d3b3",
   "metadata": {},
   "outputs": [
    {
     "name": "stdout",
     "output_type": "stream",
     "text": [
      "Performance Summary:\n",
      "Accuracy : 0.7015\n",
      "F1 Score : 0.6167\n",
      "Precision: 0.5542\n",
      "Recall   : 0.6951\n",
      "ROC AUC  : 0.7726\n",
      "Avg Precision (PR-AUC): 0.6593\n"
     ]
    }
   ],
   "source": [
    "from sklearn.metrics import accuracy_score, f1_score, precision_score, recall_score\n",
    "\n",
    "print(\"Performance Summary:\")\n",
    "print(f\"Accuracy : {accuracy_score(y_test, y_pred):.4f}\")\n",
    "print(f\"F1 Score : {f1_score(y_test, y_pred):.4f}\")\n",
    "print(f\"Precision: {precision_score(y_test, y_pred):.4f}\")\n",
    "print(f\"Recall   : {recall_score(y_test, y_pred):.4f}\")\n",
    "print(f\"ROC AUC  : {roc_auc_score(y_test, y_proba):.4f}\")\n",
    "print(f\"Avg Precision (PR-AUC): {avg_precision:.4f}\")\n"
   ]
  },
  {
   "cell_type": "markdown",
   "id": "182af34c",
   "metadata": {},
   "source": [
    "## 6. **Conclusion and insights**\n",
    "<a id = '6-conclusion-and-Insights'></a>"
   ]
  },
  {
   "cell_type": "markdown",
   "id": "75ca21ad",
   "metadata": {},
   "source": [
    "### **Core Findings and Implications**\n",
    "\n",
    "### **1. Model Performance Characteristics**\n",
    "- **Discriminative Capability**: The ROC AUC of 0.7726 demonstrates moderate but reliable class separation ability, confirming the model's capacity to distinguish between classes better than random chance.\n",
    "- **Precision-Recall Dynamics**: The average precision of 0.6593 reveals limitations in confidence calibration, particularly for the minority class, indicating challenges in maintaining both high precision and recall simultaneously.\n",
    "\n",
    "### **2. Class Imbalance Effects**\n",
    "- **Initial Bias**: The model's default configuration showed strong bias toward the majority class (Class 0 recall: 89.1% vs Class 1 recall: 42.8%), prioritizing overall accuracy over minority class detection.\n",
    "- **Balancing Impact**: Implementing class weighting improved Class 1 recall to 69.5% but reduced precision (0.675 to 0.554), exemplifying the fundamental precision-recall tradeoff in imbalanced classification.\n",
    "\n",
    "### **3. Feature Space Analysis**\n",
    "- **Distributed Predictive Signals**: The minimal performance difference between feature_fraction=0.8 and 1.0 suggests predictive power is evenly distributed across features rather than concentrated in a subset.\n",
    "- **Potential Redundancy**: This distribution pattern may indicate feature correlation or redundancy, presenting opportunities for dimensionality reduction.\n",
    "\n",
    "### **4. Hyperparameter Optimization Insights**\n",
    "- **Optimal Architecture**: The best performance was achieved with:\n",
    "  - Moderate tree depth (max_depth=15)\n",
    "  - Balanced leaf count (num_leaves=50)\n",
    "  - Aggressive learning rate (0.1)\n",
    "  - Moderate number of estimators (150)\n",
    "- **Training Efficiency**: The effectiveness of higher learning rates suggests smooth optimization landscapes permitting faster convergence.\n",
    "\n",
    "## **Model Behavior and Limitations**\n",
    "\n",
    "### **1. Decision Boundary Characteristics**\n",
    "- **Class Prior Sensitivity**: Significant performance shifts with class weighting adjustments reveal the decision boundary's strong dependence on class distribution.\n",
    "- **Threshold Dependency**: The model's classification effectiveness varies substantially with threshold selection, particularly for the minority class.\n",
    "\n",
    "### **2. Probability Calibration**\n",
    "- **Confidence Score Issues**: The discrepancy between ROC AUC and average precision indicates predicted probabilities require calibration to better reflect true likelihoods.\n",
    "- **Ranking vs Classification**: While instance ranking is reliable (per ROC), precise classification confidence remains suboptimal.\n",
    "\n",
    "### **3. Fundamental Constraints**\n",
    "- **Feature Space Limitations**: Persistent class overlap challenges suggest inherent separation boundaries in the current feature representation.\n",
    "- **Performance Ceiling**: The model appears to approach its maximum potential given the existing data structure.\n",
    "\n",
    "## **Synthesis and Conclusion**\n",
    "\n",
    "The evaluation reveals a model with competent but fundamentally constrained performance characteristics:\n",
    "\n",
    "1. **Current Capabilities**:\n",
    "   - Effective class discrimination (ROC AUC 0.7726)\n",
    "   - Robust across feature subsets\n",
    "   - Efficient training dynamics\n",
    "\n",
    "2. **Core Limitations**:\n",
    "   - Precision-recall tension resistant to complete optimization\n",
    "   - Confidence calibration challenges\n",
    "   - Performance ceiling imposed by feature space characteristics\n",
    "\n",
    "3. **Data-Driven Constraints**:\n",
    "   - Class overlap in feature representation\n",
    "   - Inherent precision-recall tradeoffs\n",
    "   - Minority class detection challenges\n",
    "\n",
    "These findings collectively indicate that while the model implementation is sound, its effectiveness is ultimately bounded by the nature of the available data. The results suggest that meaningful improvements would require either:\n",
    "\n",
    "- Transformations to enhance feature space separation, or\n",
    "- Alternative approaches to the classification problem formulation\n",
    "\n",
    "The model represents a practically optimal solution within the current data framework, with its limitations primarily reflecting inherent dataset characteristics rather than implementation shortcomings. Future efforts should focus on data-centric improvements rather than further model architecture refinements."
   ]
  }
 ],
 "metadata": {
  "kernelspec": {
   "display_name": "venv",
   "language": "python",
   "name": "python3"
  },
  "language_info": {
   "codemirror_mode": {
    "name": "ipython",
    "version": 3
   },
   "file_extension": ".py",
   "mimetype": "text/x-python",
   "name": "python",
   "nbconvert_exporter": "python",
   "pygments_lexer": "ipython3",
   "version": "3.13.2"
  }
 },
 "nbformat": 4,
 "nbformat_minor": 5
}
